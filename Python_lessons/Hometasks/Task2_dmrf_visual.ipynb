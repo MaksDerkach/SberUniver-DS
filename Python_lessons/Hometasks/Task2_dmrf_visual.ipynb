{
 "cells": [
  {
   "cell_type": "markdown",
   "source": [
    "# Задание"
   ],
   "metadata": {
    "collapsed": false,
    "pycharm": {
     "name": "#%% md\n"
    }
   }
  },
  {
   "cell_type": "markdown",
   "source": [
    "Часть 1\n",
    "1. Проверить состояние датафрейма и привести его в формат, позволяющий дальнейшее исследование данных:\n",
    "-- Привести колонки датафрейма к одному типу данных\n",
    "-- Проверить индекс, чтобы он соответствовал порядку строк\n",
    "-- Проверить наличие пропусков и в случае обнаружения, определить стратегию их обработки"
   ],
   "metadata": {
    "collapsed": false,
    "pycharm": {
     "name": "#%% md\n"
    }
   }
  },
  {
   "cell_type": "markdown",
   "source": [
    "Часть 2\n",
    "2. Провести мини-исследование рынка строящейся недвижимости в одном или нескольких регионах с помощью pandas, matplotlib, seaborn, plotly и других инструментов.\n",
    "-- Рассчитать средние цены за квадратный метр по регионам. Важно чтобы пропуски не учитывались при расчете средней цены.\n",
    "-- Рассчитать объемы вводимого жилья по регионам и по годам.\n",
    "-- Сравнить этажность домов, количество квартир, жилую площадь, количество парковочных мест и цену за квадратный метр в разных регионах\n",
    "-- Визуализировать разброс, связь и распределение этих показателей по регионам\n",
    "-- Сделать выводы по каждому из расчетов и графиков"
   ],
   "metadata": {
    "collapsed": false,
    "pycharm": {
     "name": "#%% md\n"
    }
   }
  },
  {
   "cell_type": "code",
   "execution_count": null,
   "outputs": [],
   "source": [],
   "metadata": {
    "collapsed": false,
    "pycharm": {
     "name": "#%%\n"
    }
   }
  }
 ],
 "metadata": {
  "kernelspec": {
   "display_name": "Python 3",
   "language": "python",
   "name": "python3"
  },
  "language_info": {
   "codemirror_mode": {
    "name": "ipython",
    "version": 2
   },
   "file_extension": ".py",
   "mimetype": "text/x-python",
   "name": "python",
   "nbconvert_exporter": "python",
   "pygments_lexer": "ipython2",
   "version": "2.7.6"
  }
 },
 "nbformat": 4,
 "nbformat_minor": 0
}