{
 "cells": [
  {
   "cell_type": "markdown",
   "source": [
    "# Загрузка фотографий всех строющихся фотографий с сайта \"наш.дом.рф\""
   ],
   "metadata": {
    "collapsed": false,
    "pycharm": {
     "name": "#%% md\n"
    }
   }
  },
  {
   "cell_type": "code",
   "execution_count": 1,
   "outputs": [],
   "source": [
    "import requests\n",
    "import pandas as pd"
   ],
   "metadata": {
    "collapsed": false,
    "pycharm": {
     "name": "#%%\n"
    }
   }
  },
  {
   "cell_type": "code",
   "execution_count": 2,
   "outputs": [
    {
     "data": {
      "text/plain": "     id  pdId  region                                            address  \\\n0  1284  1527      77  г Москва, район внутригородское муниципальное ...   \n1  1366  1474      23  г Краснодар, улица им. Героя Яцкова И.В., лите...   \n2  1367  1474      23  г Краснодар, улица им. Героя Яцкова И.В., лите...   \n3  1368  1476      23  г Краснодар, улица им. Героя Яцкова И.В., лите...   \n4  1387  1477      23  г Краснодар, улица им. Героя Яцкова И.В., лите...   \n\n                                             nameObj  floorMin  floorMax  \\\n0  Жилой Комплекс \"Мир Митино\" (сокращенное наиме...      27.0      27.0   \n1                            Микрорайон \"Губернский\"      25.0      25.0   \n2                            Микрорайон \"Губернский\"       1.0       1.0   \n3                            Микрорайон \"Губернский\"       1.0      19.0   \n4                            Микрорайон \"Губернский\"      19.0      20.0   \n\n   objElemLivingCnt objReady100PercDt wallMaterialShortDesc  ...  \\\n0              1115        2024-12-31                 Блоки  ...   \n1               207        2025-06-30        Монолит-кирпич  ...   \n2                 0        2025-06-30        Монолит-кирпич  ...   \n3               321        2025-06-30        Монолит-кирпич  ...   \n4               474        2025-06-30        Монолит-кирпич  ...   \n\n  developer.bankruptStage.bankruptStageDesc  \\\n0                                       NaN   \n1                                       NaN   \n2                                       NaN   \n3                                       NaN   \n4                                       NaN   \n\n  developer.bankruptStage.bankruptLawUrl  developer.orgBankruptMsgDttm  \\\n0                                    NaN                           NaN   \n1                                    NaN                           NaN   \n2                                    NaN                           NaN   \n3                                    NaN                           NaN   \n4                                    NaN                           NaN   \n\n   metro.id metro.name metro.line metro.color metro.time metro.isWalk  \\\n0       NaN        NaN        NaN         NaN        NaN          NaN   \n1       NaN        NaN        NaN         NaN        NaN          NaN   \n2       NaN        NaN        NaN         NaN        NaN          NaN   \n3       NaN        NaN        NaN         NaN        NaN          NaN   \n4       NaN        NaN        NaN         NaN        NaN          NaN   \n\n   metro.colors  \n0           NaN  \n1           NaN  \n2           NaN  \n3           NaN  \n4           NaN  \n\n[5 rows x 108 columns]",
      "text/html": "<div>\n<style scoped>\n    .dataframe tbody tr th:only-of-type {\n        vertical-align: middle;\n    }\n\n    .dataframe tbody tr th {\n        vertical-align: top;\n    }\n\n    .dataframe thead th {\n        text-align: right;\n    }\n</style>\n<table border=\"1\" class=\"dataframe\">\n  <thead>\n    <tr style=\"text-align: right;\">\n      <th></th>\n      <th>id</th>\n      <th>pdId</th>\n      <th>region</th>\n      <th>address</th>\n      <th>nameObj</th>\n      <th>floorMin</th>\n      <th>floorMax</th>\n      <th>objElemLivingCnt</th>\n      <th>objReady100PercDt</th>\n      <th>wallMaterialShortDesc</th>\n      <th>...</th>\n      <th>developer.bankruptStage.bankruptStageDesc</th>\n      <th>developer.bankruptStage.bankruptLawUrl</th>\n      <th>developer.orgBankruptMsgDttm</th>\n      <th>metro.id</th>\n      <th>metro.name</th>\n      <th>metro.line</th>\n      <th>metro.color</th>\n      <th>metro.time</th>\n      <th>metro.isWalk</th>\n      <th>metro.colors</th>\n    </tr>\n  </thead>\n  <tbody>\n    <tr>\n      <th>0</th>\n      <td>1284</td>\n      <td>1527</td>\n      <td>77</td>\n      <td>г Москва, район внутригородское муниципальное ...</td>\n      <td>Жилой Комплекс \"Мир Митино\" (сокращенное наиме...</td>\n      <td>27.0</td>\n      <td>27.0</td>\n      <td>1115</td>\n      <td>2024-12-31</td>\n      <td>Блоки</td>\n      <td>...</td>\n      <td>NaN</td>\n      <td>NaN</td>\n      <td>NaN</td>\n      <td>NaN</td>\n      <td>NaN</td>\n      <td>NaN</td>\n      <td>NaN</td>\n      <td>NaN</td>\n      <td>NaN</td>\n      <td>NaN</td>\n    </tr>\n    <tr>\n      <th>1</th>\n      <td>1366</td>\n      <td>1474</td>\n      <td>23</td>\n      <td>г Краснодар, улица им. Героя Яцкова И.В., лите...</td>\n      <td>Микрорайон \"Губернский\"</td>\n      <td>25.0</td>\n      <td>25.0</td>\n      <td>207</td>\n      <td>2025-06-30</td>\n      <td>Монолит-кирпич</td>\n      <td>...</td>\n      <td>NaN</td>\n      <td>NaN</td>\n      <td>NaN</td>\n      <td>NaN</td>\n      <td>NaN</td>\n      <td>NaN</td>\n      <td>NaN</td>\n      <td>NaN</td>\n      <td>NaN</td>\n      <td>NaN</td>\n    </tr>\n    <tr>\n      <th>2</th>\n      <td>1367</td>\n      <td>1474</td>\n      <td>23</td>\n      <td>г Краснодар, улица им. Героя Яцкова И.В., лите...</td>\n      <td>Микрорайон \"Губернский\"</td>\n      <td>1.0</td>\n      <td>1.0</td>\n      <td>0</td>\n      <td>2025-06-30</td>\n      <td>Монолит-кирпич</td>\n      <td>...</td>\n      <td>NaN</td>\n      <td>NaN</td>\n      <td>NaN</td>\n      <td>NaN</td>\n      <td>NaN</td>\n      <td>NaN</td>\n      <td>NaN</td>\n      <td>NaN</td>\n      <td>NaN</td>\n      <td>NaN</td>\n    </tr>\n    <tr>\n      <th>3</th>\n      <td>1368</td>\n      <td>1476</td>\n      <td>23</td>\n      <td>г Краснодар, улица им. Героя Яцкова И.В., лите...</td>\n      <td>Микрорайон \"Губернский\"</td>\n      <td>1.0</td>\n      <td>19.0</td>\n      <td>321</td>\n      <td>2025-06-30</td>\n      <td>Монолит-кирпич</td>\n      <td>...</td>\n      <td>NaN</td>\n      <td>NaN</td>\n      <td>NaN</td>\n      <td>NaN</td>\n      <td>NaN</td>\n      <td>NaN</td>\n      <td>NaN</td>\n      <td>NaN</td>\n      <td>NaN</td>\n      <td>NaN</td>\n    </tr>\n    <tr>\n      <th>4</th>\n      <td>1387</td>\n      <td>1477</td>\n      <td>23</td>\n      <td>г Краснодар, улица им. Героя Яцкова И.В., лите...</td>\n      <td>Микрорайон \"Губернский\"</td>\n      <td>19.0</td>\n      <td>20.0</td>\n      <td>474</td>\n      <td>2025-06-30</td>\n      <td>Монолит-кирпич</td>\n      <td>...</td>\n      <td>NaN</td>\n      <td>NaN</td>\n      <td>NaN</td>\n      <td>NaN</td>\n      <td>NaN</td>\n      <td>NaN</td>\n      <td>NaN</td>\n      <td>NaN</td>\n      <td>NaN</td>\n      <td>NaN</td>\n    </tr>\n  </tbody>\n</table>\n<p>5 rows × 108 columns</p>\n</div>"
     },
     "execution_count": 2,
     "metadata": {},
     "output_type": "execute_result"
    }
   ],
   "source": [
    "# используем ранее полученные данные\n",
    "data = pd.read_pickle('houses_dataset')\n",
    "data.head()"
   ],
   "metadata": {
    "collapsed": false,
    "pycharm": {
     "name": "#%%\n"
    }
   }
  },
  {
   "cell_type": "code",
   "execution_count": 3,
   "outputs": [
    {
     "data": {
      "text/plain": "(10612, 108)"
     },
     "execution_count": 3,
     "metadata": {},
     "output_type": "execute_result"
    }
   ],
   "source": [
    "data.shape"
   ],
   "metadata": {
    "collapsed": false,
    "pycharm": {
     "name": "#%%\n"
    }
   }
  },
  {
   "cell_type": "markdown",
   "source": [
    "Cсылку на фотографии возьмём из колонки photoRenderDTO -> objRenderPhotoUrl"
   ],
   "metadata": {
    "collapsed": false,
    "pycharm": {
     "name": "#%% md\n"
    }
   }
  },
  {
   "cell_type": "code",
   "execution_count": 4,
   "outputs": [
    {
     "name": "stderr",
     "output_type": "stream",
     "text": [
      "C:\\Users\\MaxVladislava\\AppData\\Local\\Temp\\ipykernel_16868\\530275858.py:2: SettingWithCopyWarning: \n",
      "A value is trying to be set on a copy of a slice from a DataFrame.\n",
      "Try using .loc[row_indexer,col_indexer] = value instead\n",
      "\n",
      "See the caveats in the documentation: https://pandas.pydata.org/pandas-docs/stable/user_guide/indexing.html#returning-a-view-versus-a-copy\n",
      "  urls_photo.loc[:, 'num_photos'] = urls_photo['photoRenderDTO'].apply(lambda x: len(x))\n"
     ]
    },
    {
     "data": {
      "text/plain": "1     6683\n2     1272\n3      856\n4      560\n5      359\n6      228\n7      179\n8      118\n9       87\n15      69\n10      52\n11      40\n12      33\n0       25\n14      25\n13      24\n16       1\n17       1\nName: num_photos, dtype: int64"
     },
     "execution_count": 4,
     "metadata": {},
     "output_type": "execute_result"
    }
   ],
   "source": [
    "urls_photo = data[['id', 'photoRenderDTO']]\n",
    "urls_photo.loc[:, 'num_photos'] = urls_photo['photoRenderDTO'].apply(lambda x: len(x))\n",
    "urls_photo.num_photos.value_counts()"
   ],
   "metadata": {
    "collapsed": false,
    "pycharm": {
     "name": "#%%\n"
    }
   }
  },
  {
   "cell_type": "markdown",
   "source": [
    "Как видим, у некоторых объектов может быть несколько фотографий. Для начала создадим словарь, где ключ - objId, а значение - список ссылок на фото."
   ],
   "metadata": {
    "collapsed": false,
    "pycharm": {
     "name": "#%% md\n"
    }
   }
  },
  {
   "cell_type": "code",
   "execution_count": 5,
   "outputs": [],
   "source": [
    "obj_photos = {}\n",
    "\n",
    "for index, row in urls_photo.iterrows():\n",
    "    obj_id = row['id']\n",
    "    list_urls = [x.get('objRenderPhotoUrl') for x in row['photoRenderDTO']]\n",
    "    obj_photos[obj_id] = list_urls"
   ],
   "metadata": {
    "collapsed": false,
    "pycharm": {
     "name": "#%%\n"
    }
   }
  },
  {
   "cell_type": "markdown",
   "source": [
    "Предполагаем, что на вход скрипту данные будут подаваться в виде словаря: ключ - id объекта, а значение - список ссылок на его фото. Скрипт для каждого объекта будет создавать папку с одноимённым названием, затем сохранять в неё его фотографии."
   ],
   "metadata": {
    "collapsed": false,
    "pycharm": {
     "name": "#%% md\n"
    }
   }
  },
  {
   "cell_type": "code",
   "execution_count": 6,
   "outputs": [],
   "source": [
    "import random\n",
    "import os\n",
    "from PIL import Image"
   ],
   "metadata": {
    "collapsed": false,
    "pycharm": {
     "name": "#%%\n"
    }
   }
  },
  {
   "cell_type": "code",
   "execution_count": 7,
   "outputs": [],
   "source": [
    "def get_photos_from_url(obj_with_urls: dict):\n",
    "    # создадим общую директорию для фото объектов\n",
    "    os.makedirs('Objects_photo', exist_ok=True)\n",
    "\n",
    "    for obj_id, urls in obj_with_urls.items():\n",
    "        os.makedirs(f'Objects_photo/{obj_id}', exist_ok=True)\n",
    "        for num, img_url in enumerate(urls):\n",
    "            img = Image.open(requests.get(img_url, stream=True).raw)\n",
    "            img.save(f'Objects_photo/{obj_id}/image_{obj_id}_{num}.png')"
   ],
   "metadata": {
    "collapsed": false,
    "pycharm": {
     "name": "#%%\n"
    }
   }
  },
  {
   "cell_type": "code",
   "execution_count": 8,
   "outputs": [
    {
     "data": {
      "text/plain": "{44436: ['https://xn--80az8a.xn--d1aqf.xn--p1ai/api/ext/file/9e2beccc-119c-48a6-b1d8-6aa4cb1633ef'],\n 46144: ['https://xn--80az8a.xn--d1aqf.xn--p1ai/api/ext/file/2791f52d-f1d2-4ba7-9448-4fc9b94f0d7d'],\n 46619: ['https://xn--80az8a.xn--d1aqf.xn--p1ai/api/ext/file/92ddb70e-a92f-427d-9fee-ada2a8af3ce2',\n  'https://xn--80az8a.xn--d1aqf.xn--p1ai/api/ext/file/bc48d60a-c220-4f93-8319-186a8f845027',\n  'https://xn--80az8a.xn--d1aqf.xn--p1ai/api/ext/file/e2b7a3f4-12b3-4732-b1c6-bf794a92d552',\n  'https://xn--80az8a.xn--d1aqf.xn--p1ai/api/ext/file/9f156dce-375e-45ff-af71-1a3d17e78881'],\n 46983: ['https://xn--80az8a.xn--d1aqf.xn--p1ai/api/ext/file/f41cfa98-6858-45de-8616-3ad3aa672025',\n  'https://xn--80az8a.xn--d1aqf.xn--p1ai/api/ext/file/eda7695a-7446-41da-a249-7627298aa853',\n  'https://xn--80az8a.xn--d1aqf.xn--p1ai/api/ext/file/fae7825e-8ce5-4bd0-90c4-b92383baffd9',\n  'https://xn--80az8a.xn--d1aqf.xn--p1ai/api/ext/file/c2458215-8155-4157-90a4-929948e1cbc0',\n  'https://xn--80az8a.xn--d1aqf.xn--p1ai/api/ext/file/40cbf84f-c1ea-4adf-8c16-a87f1f519f56'],\n 47571: ['https://xn--80az8a.xn--d1aqf.xn--p1ai/api/ext/file/a6b78923-5b5e-473a-bbfa-85abcff37a61']}"
     },
     "execution_count": 8,
     "metadata": {},
     "output_type": "execute_result"
    }
   ],
   "source": [
    "# проверим на 5 случайных объектах\n",
    "rand_object_id = random.sample(urls_photo.id.tolist(), k=5)\n",
    "rand_object = {obj_id: urls for obj_id,urls in obj_photos.items() if obj_id in rand_object_id}\n",
    "rand_object"
   ],
   "metadata": {
    "collapsed": false,
    "pycharm": {
     "name": "#%%\n"
    }
   }
  },
  {
   "cell_type": "code",
   "execution_count": 9,
   "outputs": [],
   "source": [
    "get_photos_from_url(rand_object)"
   ],
   "metadata": {
    "collapsed": false,
    "pycharm": {
     "name": "#%%\n"
    }
   }
  },
  {
   "cell_type": "code",
   "execution_count": null,
   "outputs": [],
   "source": [],
   "metadata": {
    "collapsed": false,
    "pycharm": {
     "name": "#%%\n"
    }
   }
  }
 ],
 "metadata": {
  "kernelspec": {
   "display_name": "Python 3",
   "language": "python",
   "name": "python3"
  },
  "language_info": {
   "codemirror_mode": {
    "name": "ipython",
    "version": 2
   },
   "file_extension": ".py",
   "mimetype": "text/x-python",
   "name": "python",
   "nbconvert_exporter": "python",
   "pygments_lexer": "ipython2",
   "version": "2.7.6"
  }
 },
 "nbformat": 4,
 "nbformat_minor": 0
}