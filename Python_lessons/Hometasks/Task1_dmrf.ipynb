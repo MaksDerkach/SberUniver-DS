{
 "cells": [
  {
   "cell_type": "markdown",
   "source": [
    "[![Open In Colab](https://colab.research.google.com/assets/colab-badge.svg)](https://colab.research.google.com/github/ds-reboot/python-first-part/blob/main/notebooks/hometasks/Task1_dmrf.ipynb)"
   ],
   "metadata": {
    "collapsed": false,
    "pycharm": {
     "name": "#%% md\n"
    },
    "id": "D2htersQMapO"
   }
  },
  {
   "cell_type": "markdown",
   "source": [
    "# Задание\n",
    "* Собрать информацию о всех строящихся объектах на сайте \"наш.дом.рф\"\n",
    "* Cохранить ее в pandas dataframe\n",
    "* Cохранить pandas dataframe в excel\n",
    "* Cохранить pandas dataframe в pickle\n",
    "* Cохранить pandas dataframe в БД\n",
    "\n",
    "# Задание *\n",
    "* Написать скрипт, который скачивает фотографии всех строящихся объектов с сайта \"наш.дом.рф\"\n"
   ],
   "metadata": {
    "collapsed": false,
    "pycharm": {
     "name": "#%% md\n"
    },
    "id": "PxWPXFckMapT"
   }
  },
  {
   "cell_type": "code",
   "execution_count": 60,
   "outputs": [],
   "source": [
    "# import modules\n",
    "\n",
    "import requests\n",
    "import pandas as pd\n",
    "from functools import reduce\n",
    "import sqlite3\n",
    "\n",
    "from tqdm.auto import tqdm"
   ],
   "metadata": {
    "collapsed": false,
    "pycharm": {
     "name": "#%%\n"
    }
   }
  },
  {
   "cell_type": "markdown",
   "source": [
    "# 1. Сбор информации о всех строющихся объектах на сайте \"наш.дом.рф\"\n"
   ],
   "metadata": {
    "collapsed": false,
    "pycharm": {
     "name": "#%% md\n"
    }
   }
  },
  {
   "cell_type": "markdown",
   "source": [
    "При получении запроса и преобразовании его в json, по ключу \"total\" можно получить общее кол-во объектов:"
   ],
   "metadata": {
    "collapsed": false,
    "pycharm": {
     "name": "#%% md\n"
    }
   }
  },
  {
   "cell_type": "code",
   "execution_count": 51,
   "outputs": [
    {
     "name": "stdout",
     "output_type": "stream",
     "text": [
      "Всего объектов: 10615\n"
     ]
    }
   ],
   "source": [
    "url = f'https://xn--80az8a.xn--d1aqf.xn--p1ai/%D1%81%D0%B5%D1%80%D0%B2%D0%B8%D1%81%D1%8B/api/kn/object?sortField=objId&sortType=asc&objStatus=0'\n",
    "res = requests.get(url)\n",
    "total_objects = res.json().get('data').get('total')\n",
    "print(f\"Всего объектов: {total_objects}\")"
   ],
   "metadata": {
    "collapsed": false,
    "pycharm": {
     "name": "#%%\n"
    }
   }
  },
  {
   "cell_type": "code",
   "execution_count": 30,
   "outputs": [
    {
     "data": {
      "text/plain": "  0%|          | 0/107 [00:00<?, ?it/s]",
      "application/vnd.jupyter.widget-view+json": {
       "version_major": 2,
       "version_minor": 0,
       "model_id": "7ae4ce36c82c4bf8bafa233953827fc3"
      }
     },
     "metadata": {},
     "output_type": "display_data"
    }
   ],
   "source": [
    "# достанем все objId\n",
    "limit_ = 100\n",
    "num_responses = (total_objects + limit_ - 1) // limit_  # готовая формула, вместо условия на остаток от деления\n",
    "obj_Ids = []\n",
    "\n",
    "for i in tqdm(range(num_responses)):\n",
    "    offset = i * limit_\n",
    "    url = f'https://xn--80az8a.xn--d1aqf.xn--p1ai/%D1%81%D0%B5%D1%80%D0%B2%D0%B8%D1%81%D1%8B/api/kn/object?offset={offset}&limit={limit_}&sortField=objId&sortType=asc&objStatus=0'\n",
    "\n",
    "    res = requests.get(url)\n",
    "    obj_data = res.json().get('data').get('list')\n",
    "\n",
    "    obj_cur_ids = [x.get('objId') for x in obj_data]\n",
    "    obj_Ids.append(obj_cur_ids)\n",
    "\n",
    "obj_Ids = reduce(lambda x, y: x + y, obj_Ids)"
   ],
   "metadata": {
    "collapsed": false,
    "pycharm": {
     "name": "#%%\n"
    }
   }
  },
  {
   "cell_type": "code",
   "execution_count": 32,
   "outputs": [
    {
     "name": "stdout",
     "output_type": "stream",
     "text": [
      "Итоговое кол-во выгруженных objId: 10615\n"
     ]
    }
   ],
   "source": [
    "print(f\"Итоговое кол-во выгруженных objId: {len(set(obj_Ids))}\")"
   ],
   "metadata": {
    "collapsed": false,
    "pycharm": {
     "name": "#%%\n"
    }
   }
  },
  {
   "cell_type": "code",
   "execution_count": 46,
   "outputs": [
    {
     "data": {
      "text/plain": "  0%|          | 0/10615 [00:00<?, ?it/s]",
      "application/vnd.jupyter.widget-view+json": {
       "version_major": 2,
       "version_minor": 0,
       "model_id": "bb68540855004404a162c526e10e7840"
      }
     },
     "metadata": {},
     "output_type": "display_data"
    }
   ],
   "source": [
    "# выгрузка данных по каждому objId\n",
    "building_dataset = []\n",
    "cnt_errors = 0\n",
    "\n",
    "for objId in tqdm(obj_Ids):\n",
    "    try:\n",
    "        url = f'https://xn--80az8a.xn--d1aqf.xn--p1ai/%D1%81%D0%B5%D1%80%D0%B2%D0%B8%D1%81%D1%8B/api/object/{objId}'\n",
    "        obj_data = requests.get(url).json().get('data')\n",
    "    except:\n",
    "        # если указывать конкретную ошибку, то он её почему-то не ловит\n",
    "        cnt_errors += 1\n",
    "    else:\n",
    "        building_dataset.append(obj_data)"
   ],
   "metadata": {
    "collapsed": false,
    "pycharm": {
     "name": "#%%\n"
    }
   }
  },
  {
   "cell_type": "code",
   "execution_count": 50,
   "outputs": [
    {
     "name": "stdout",
     "output_type": "stream",
     "text": [
      "Ошибок во время загрузки данных: 3\n",
      "Всего удалось скачать данных: 10612 из 10615\n"
     ]
    }
   ],
   "source": [
    "print(f\"Ошибок во время загрузки данных: {cnt_errors}\\n\"\n",
    "      f\"Всего удалось скачать данных: {len(building_dataset)} из {total_objects}\")"
   ],
   "metadata": {
    "collapsed": false,
    "pycharm": {
     "name": "#%%\n"
    }
   }
  },
  {
   "cell_type": "markdown",
   "source": [
    "# 2. Сохранение информации в pandas DataFrame"
   ],
   "metadata": {
    "collapsed": false,
    "pycharm": {
     "name": "#%% md\n"
    }
   }
  },
  {
   "cell_type": "code",
   "execution_count": 54,
   "outputs": [],
   "source": [
    "dataset = pd.json_normalize(building_dataset)"
   ],
   "metadata": {
    "collapsed": false,
    "pycharm": {
     "name": "#%%\n"
    }
   }
  },
  {
   "cell_type": "code",
   "execution_count": 58,
   "outputs": [
    {
     "data": {
      "text/plain": "     id  pdId  region                                            address  \\\n0  1284  1527      77  г Москва, район внутригородское муниципальное ...   \n1  1366  1474      23  г Краснодар, улица им. Героя Яцкова И.В., лите...   \n2  1367  1474      23  г Краснодар, улица им. Героя Яцкова И.В., лите...   \n3  1368  1476      23  г Краснодар, улица им. Героя Яцкова И.В., лите...   \n4  1387  1477      23  г Краснодар, улица им. Героя Яцкова И.В., лите...   \n\n                                             nameObj  floorMin  floorMax  \\\n0  Жилой Комплекс \"Мир Митино\" (сокращенное наиме...      27.0      27.0   \n1                            Микрорайон \"Губернский\"      25.0      25.0   \n2                            Микрорайон \"Губернский\"       1.0       1.0   \n3                            Микрорайон \"Губернский\"       1.0      19.0   \n4                            Микрорайон \"Губернский\"      19.0      20.0   \n\n   objElemLivingCnt objReady100PercDt wallMaterialShortDesc  ...  \\\n0              1115        2024-12-31                 Блоки  ...   \n1               207        2025-06-30        Монолит-кирпич  ...   \n2                 0        2025-06-30        Монолит-кирпич  ...   \n3               321        2025-06-30        Монолит-кирпич  ...   \n4               474        2025-06-30        Монолит-кирпич  ...   \n\n  developer.bankruptStage.bankruptStageDesc  \\\n0                                       NaN   \n1                                       NaN   \n2                                       NaN   \n3                                       NaN   \n4                                       NaN   \n\n  developer.bankruptStage.bankruptLawUrl  developer.orgBankruptMsgDttm  \\\n0                                    NaN                           NaN   \n1                                    NaN                           NaN   \n2                                    NaN                           NaN   \n3                                    NaN                           NaN   \n4                                    NaN                           NaN   \n\n   metro.id metro.name metro.line metro.color metro.time metro.isWalk  \\\n0       NaN        NaN        NaN         NaN        NaN          NaN   \n1       NaN        NaN        NaN         NaN        NaN          NaN   \n2       NaN        NaN        NaN         NaN        NaN          NaN   \n3       NaN        NaN        NaN         NaN        NaN          NaN   \n4       NaN        NaN        NaN         NaN        NaN          NaN   \n\n   metro.colors  \n0           NaN  \n1           NaN  \n2           NaN  \n3           NaN  \n4           NaN  \n\n[5 rows x 108 columns]",
      "text/html": "<div>\n<style scoped>\n    .dataframe tbody tr th:only-of-type {\n        vertical-align: middle;\n    }\n\n    .dataframe tbody tr th {\n        vertical-align: top;\n    }\n\n    .dataframe thead th {\n        text-align: right;\n    }\n</style>\n<table border=\"1\" class=\"dataframe\">\n  <thead>\n    <tr style=\"text-align: right;\">\n      <th></th>\n      <th>id</th>\n      <th>pdId</th>\n      <th>region</th>\n      <th>address</th>\n      <th>nameObj</th>\n      <th>floorMin</th>\n      <th>floorMax</th>\n      <th>objElemLivingCnt</th>\n      <th>objReady100PercDt</th>\n      <th>wallMaterialShortDesc</th>\n      <th>...</th>\n      <th>developer.bankruptStage.bankruptStageDesc</th>\n      <th>developer.bankruptStage.bankruptLawUrl</th>\n      <th>developer.orgBankruptMsgDttm</th>\n      <th>metro.id</th>\n      <th>metro.name</th>\n      <th>metro.line</th>\n      <th>metro.color</th>\n      <th>metro.time</th>\n      <th>metro.isWalk</th>\n      <th>metro.colors</th>\n    </tr>\n  </thead>\n  <tbody>\n    <tr>\n      <th>0</th>\n      <td>1284</td>\n      <td>1527</td>\n      <td>77</td>\n      <td>г Москва, район внутригородское муниципальное ...</td>\n      <td>Жилой Комплекс \"Мир Митино\" (сокращенное наиме...</td>\n      <td>27.0</td>\n      <td>27.0</td>\n      <td>1115</td>\n      <td>2024-12-31</td>\n      <td>Блоки</td>\n      <td>...</td>\n      <td>NaN</td>\n      <td>NaN</td>\n      <td>NaN</td>\n      <td>NaN</td>\n      <td>NaN</td>\n      <td>NaN</td>\n      <td>NaN</td>\n      <td>NaN</td>\n      <td>NaN</td>\n      <td>NaN</td>\n    </tr>\n    <tr>\n      <th>1</th>\n      <td>1366</td>\n      <td>1474</td>\n      <td>23</td>\n      <td>г Краснодар, улица им. Героя Яцкова И.В., лите...</td>\n      <td>Микрорайон \"Губернский\"</td>\n      <td>25.0</td>\n      <td>25.0</td>\n      <td>207</td>\n      <td>2025-06-30</td>\n      <td>Монолит-кирпич</td>\n      <td>...</td>\n      <td>NaN</td>\n      <td>NaN</td>\n      <td>NaN</td>\n      <td>NaN</td>\n      <td>NaN</td>\n      <td>NaN</td>\n      <td>NaN</td>\n      <td>NaN</td>\n      <td>NaN</td>\n      <td>NaN</td>\n    </tr>\n    <tr>\n      <th>2</th>\n      <td>1367</td>\n      <td>1474</td>\n      <td>23</td>\n      <td>г Краснодар, улица им. Героя Яцкова И.В., лите...</td>\n      <td>Микрорайон \"Губернский\"</td>\n      <td>1.0</td>\n      <td>1.0</td>\n      <td>0</td>\n      <td>2025-06-30</td>\n      <td>Монолит-кирпич</td>\n      <td>...</td>\n      <td>NaN</td>\n      <td>NaN</td>\n      <td>NaN</td>\n      <td>NaN</td>\n      <td>NaN</td>\n      <td>NaN</td>\n      <td>NaN</td>\n      <td>NaN</td>\n      <td>NaN</td>\n      <td>NaN</td>\n    </tr>\n    <tr>\n      <th>3</th>\n      <td>1368</td>\n      <td>1476</td>\n      <td>23</td>\n      <td>г Краснодар, улица им. Героя Яцкова И.В., лите...</td>\n      <td>Микрорайон \"Губернский\"</td>\n      <td>1.0</td>\n      <td>19.0</td>\n      <td>321</td>\n      <td>2025-06-30</td>\n      <td>Монолит-кирпич</td>\n      <td>...</td>\n      <td>NaN</td>\n      <td>NaN</td>\n      <td>NaN</td>\n      <td>NaN</td>\n      <td>NaN</td>\n      <td>NaN</td>\n      <td>NaN</td>\n      <td>NaN</td>\n      <td>NaN</td>\n      <td>NaN</td>\n    </tr>\n    <tr>\n      <th>4</th>\n      <td>1387</td>\n      <td>1477</td>\n      <td>23</td>\n      <td>г Краснодар, улица им. Героя Яцкова И.В., лите...</td>\n      <td>Микрорайон \"Губернский\"</td>\n      <td>19.0</td>\n      <td>20.0</td>\n      <td>474</td>\n      <td>2025-06-30</td>\n      <td>Монолит-кирпич</td>\n      <td>...</td>\n      <td>NaN</td>\n      <td>NaN</td>\n      <td>NaN</td>\n      <td>NaN</td>\n      <td>NaN</td>\n      <td>NaN</td>\n      <td>NaN</td>\n      <td>NaN</td>\n      <td>NaN</td>\n      <td>NaN</td>\n    </tr>\n  </tbody>\n</table>\n<p>5 rows × 108 columns</p>\n</div>"
     },
     "execution_count": 58,
     "metadata": {},
     "output_type": "execute_result"
    }
   ],
   "source": [
    "dataset.head()"
   ],
   "metadata": {
    "collapsed": false,
    "pycharm": {
     "name": "#%%\n"
    }
   }
  },
  {
   "cell_type": "code",
   "execution_count": 59,
   "outputs": [
    {
     "name": "stdout",
     "output_type": "stream",
     "text": [
      "Размер датасета: (10612, 108)\n"
     ]
    }
   ],
   "source": [
    "print(f'Размер датасета: {dataset.shape}')"
   ],
   "metadata": {
    "collapsed": false,
    "pycharm": {
     "name": "#%%\n"
    }
   }
  },
  {
   "cell_type": "markdown",
   "source": [
    "# 3. Сохранение информации в excel"
   ],
   "metadata": {
    "collapsed": false,
    "pycharm": {
     "name": "#%% md\n"
    }
   }
  },
  {
   "cell_type": "code",
   "execution_count": 57,
   "outputs": [],
   "source": [
    "dataset.to_excel('houses_dataset.xlsx')"
   ],
   "metadata": {
    "collapsed": false,
    "pycharm": {
     "name": "#%%\n"
    }
   }
  },
  {
   "cell_type": "markdown",
   "source": [
    "# 4. Сохранение информации в pickle"
   ],
   "metadata": {
    "collapsed": false,
    "pycharm": {
     "name": "#%% md\n"
    }
   }
  },
  {
   "cell_type": "code",
   "execution_count": 56,
   "outputs": [],
   "source": [
    "dataset.to_pickle('houses_dataset')"
   ],
   "metadata": {
    "collapsed": false,
    "pycharm": {
     "name": "#%%\n"
    }
   }
  },
  {
   "cell_type": "markdown",
   "source": [
    "# 5. Сохранение информации в БД"
   ],
   "metadata": {
    "collapsed": false,
    "pycharm": {
     "name": "#%% md\n"
    }
   }
  },
  {
   "cell_type": "code",
   "execution_count": 70,
   "outputs": [],
   "source": [
    "conn = sqlite3.connect('houses_db')"
   ],
   "metadata": {
    "collapsed": false,
    "pycharm": {
     "name": "#%%\n"
    }
   }
  },
  {
   "cell_type": "code",
   "execution_count": 77,
   "outputs": [],
   "source": [
    "# так как тип list не поддерживается sqllite3, то перевдём в тип str\n",
    "dataset['photoRenderDTO'] = dataset['photoRenderDTO'].astype(str)\n",
    "dataset['objectTransportInfo'] = dataset['objectTransportInfo'].astype(str)\n",
    "dataset['metro.colors'] = dataset['metro.colors'].astype(str)\n",
    "\n",
    "dataset.to_sql('houses_dataset_db', conn, if_exists='replace', index=False)\n",
    "conn.commit()\n",
    "conn.close()"
   ],
   "metadata": {
    "collapsed": false,
    "pycharm": {
     "name": "#%%\n"
    }
   }
  }
 ],
 "metadata": {
  "kernelspec": {
   "display_name": "Python 3",
   "language": "python",
   "name": "python3"
  },
  "language_info": {
   "codemirror_mode": {
    "name": "ipython",
    "version": 2
   },
   "file_extension": ".py",
   "mimetype": "text/x-python",
   "name": "python",
   "nbconvert_exporter": "python",
   "pygments_lexer": "ipython2",
   "version": "2.7.6"
  },
  "colab": {
   "provenance": []
  }
 },
 "nbformat": 4,
 "nbformat_minor": 0
}