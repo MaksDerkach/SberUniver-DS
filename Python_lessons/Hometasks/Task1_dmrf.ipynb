{
  "cells": [
    {
      "cell_type": "markdown",
      "source": [
        "[![Open In Colab](https://colab.research.google.com/assets/colab-badge.svg)](https://colab.research.google.com/github/ds-reboot/python-first-part/blob/main/notebooks/hometasks/Task1_dmrf.ipynb)"
      ],
      "metadata": {
        "collapsed": false,
        "pycharm": {
          "name": "#%% md\n"
        },
        "id": "D2htersQMapO"
      }
    },
    {
      "cell_type": "markdown",
      "source": [
        "# Задание\n",
        "* Собрать информацию о всех строящихся объектах на сайте \"наш.дом.рф\"\n",
        "* Cохранить ее в pandas dataframe\n",
        "* Cохранить pandas dataframe в excel\n",
        "* Cохранить pandas dataframe в pickle\n",
        "* Cохранить pandas dataframe в БД\n",
        "\n",
        "# Задание *\n",
        "* Написать скрипт, который скачивает фотографии всех строящихся объектов с сайта \"наш.дом.рф\"\n"
      ],
      "metadata": {
        "collapsed": false,
        "pycharm": {
          "name": "#%% md\n"
        },
        "id": "PxWPXFckMapT"
      }
    },
    {
      "cell_type": "code",
      "execution_count": null,
      "outputs": [],
      "source": [
        "import requests"
      ],
      "metadata": {
        "pycharm": {
          "name": "#%%\n"
        },
        "id": "lOTnFyigMapU"
      }
    },
    {
      "cell_type": "markdown",
      "source": [
        "## Список объектов"
      ],
      "metadata": {
        "collapsed": false,
        "pycharm": {
          "name": "#%% md\n"
        },
        "id": "gLEYxzcKMapW"
      }
    },
    {
      "cell_type": "code",
      "execution_count": null,
      "outputs": [],
      "source": [
        "# Для скачивания данных по\n",
        "\n",
        "offset_ = 1\n",
        "limit_ = 100\n",
        "url = f'https://xn--80az8a.xn--d1aqf.xn--p1ai/%D1%81%D0%B5%D1%80%D0%B2%D0%B8%D1%81%D1%8B/api/kn/object?offset={offset_}&limit={limit_}&sortField=devId.devShortCleanNm&sortType=asc&objStatus=0'\n",
        "res = requests.get(url)\n",
        "objects_data = res.json()\n",
        "objects_data.get('data').get('list')[0]"
      ],
      "metadata": {
        "pycharm": {
          "name": "#%%\n"
        },
        "id": "_RnPhUwuMapW"
      }
    },
    {
      "cell_type": "code",
      "execution_count": null,
      "outputs": [],
      "source": [
        "objects_list = objects_data.get('data').get('list')\n",
        "objids = [x.get('objId') for x in objects_list]\n",
        "objids[:10]"
      ],
      "metadata": {
        "pycharm": {
          "name": "#%%\n"
        },
        "id": "2dm4J_uPMapX"
      }
    },
    {
      "cell_type": "markdown",
      "source": [
        "# Данные по определенному объекту"
      ],
      "metadata": {
        "collapsed": false,
        "pycharm": {
          "name": "#%% md\n"
        },
        "id": "7sn6iHyOMapX"
      }
    },
    {
      "cell_type": "code",
      "execution_count": null,
      "outputs": [],
      "source": [
        "# Для скачивания данных по определенному объекту, нужно добавить его id в конец строки запроса\n",
        "url = f'https://xn--80az8a.xn--d1aqf.xn--p1ai/%D1%81%D0%B5%D1%80%D0%B2%D0%B8%D1%81%D1%8B/api/object/29679'"
      ],
      "metadata": {
        "pycharm": {
          "name": "#%%\n"
        },
        "id": "f6-jSx3WMapY"
      }
    },
    {
      "cell_type": "code",
      "execution_count": null,
      "outputs": [
        {
          "data": {
            "text/plain": "{'data': {'id': 29679,\n  'pdId': 124647,\n  'developer': {'devId': 7424,\n   'devShortCleanNm': '212-2',\n   'devShortNm': '212-2',\n   'devFullCleanNm': '212-2',\n   'problObjCnt': 0,\n   'buildObjCnt': 2,\n   'comissObjCnt': 0,\n   'regRegionDesc': 'Ростовская область',\n   'devPhoneNum': '+7(961)285-90-10',\n   'devSite': 'taganrogjsk.wixsite.com',\n   'devEmail': 'kirpol76@gmail.com',\n   'devInn': '6154572922',\n   'devOgrn': '1116154005923',\n   'devKpp': '615401001',\n   'devLegalAddr': 'Ростовская область, город Таганрог, улица Свободы/Трудовых резервов дом 25/9',\n   'devFactAddr': 'обл Ростовская город Таганрог улица Сергея Шило д. 212-2',\n   'lastRpdId': 126093,\n   'fundGuarantyFlg': 0,\n   'devOrgRegRegionCd': 61,\n   'devEmplMainFullNm': 'Снимщикова Ольга Викторовна',\n   'orgForm': {'id': 20,\n    'fullForm': 'Жилищный или жилищно-строительный кооператив',\n    'shortForm': 'ЖСК'},\n   'objGuarantyEscrowFlg': 0,\n   'govFundFlg': 0},\n  'region': 61,\n  'address': 'г Таганрог',\n  'objElemLivingCnt': 18,\n  'objReady100PercDt': '2020-03-31',\n  'wallMaterialShortDesc': 'Другое',\n  'objLkFinishTypeDesc': 'Под ключ',\n  'objLkFreePlanDesc': 'Есть',\n  'objElemParkingCnt': 0,\n  'objSquareLiving': 1519.0,\n  'rpdNum': '61-000818',\n  'rpdPdfLink': 'https://xn--80az8a.xn--d1aqf.xn--p1ai/api/ext/file/092af1ad-2b49-4150-8a92-293031e2f79a',\n  'rpdIssueDttm': '20-03-2019 18:41',\n  'objLkLatitude': '47.2238',\n  'objLkLongitude': '38.8513',\n  'objCompensFundFlg': 0,\n  'objProblemFlg': 0,\n  'objLkClassDesc': 'Комфорт',\n  'loadDttm': '11-08-2022 01:23',\n  'photoRenderDTO': [],\n  'objGuarantyEscrowFlg': 0,\n  'objectType': 'normal',\n  'residentialBuildings': 1,\n  'newBuildingId': 40800,\n  'objFlatCnt': 18,\n  'objFlatSq': '1519.0',\n  'objNonlivElemCnt': 0,\n  'objStatus': 0,\n  'isAvailableWantLiveHere': True,\n  'objInfrstrBicycleLaneFlg': 0,\n  'objInfrstrRampFlg': 0,\n  'objInfrstrCurbLoweringFlg': 0,\n  'objectTransportInfo': [],\n  'conclusion': False,\n  'objGreenHouseFlg': 0,\n  'objEnergyEffShortDesc': 'Не нормируется',\n  'infrastructureIndexValue': 7},\n 'errcode': '0'}"
          },
          "execution_count": 20,
          "metadata": {},
          "output_type": "execute_result"
        }
      ],
      "source": [
        "res = requests.get(url)\n",
        "res.json()"
      ],
      "metadata": {
        "pycharm": {
          "name": "#%%\n"
        },
        "id": "YDsjyX85MapY",
        "outputId": "3bcd643f-f7b6-4736-ec12-198076f32400"
      }
    },
    {
      "cell_type": "code",
      "execution_count": null,
      "outputs": [],
      "source": [
        "import pandas as pd"
      ],
      "metadata": {
        "pycharm": {
          "name": "#%%\n"
        },
        "id": "zH1qnPkGMapZ"
      }
    },
    {
      "cell_type": "code",
      "execution_count": null,
      "outputs": [],
      "source": [],
      "metadata": {
        "pycharm": {
          "name": "#%%\n"
        },
        "id": "G1lKu4N-Mapa"
      }
    }
  ],
  "metadata": {
    "kernelspec": {
      "display_name": "Python 3",
      "language": "python",
      "name": "python3"
    },
    "language_info": {
      "codemirror_mode": {
        "name": "ipython",
        "version": 2
      },
      "file_extension": ".py",
      "mimetype": "text/x-python",
      "name": "python",
      "nbconvert_exporter": "python",
      "pygments_lexer": "ipython2",
      "version": "2.7.6"
    },
    "colab": {
      "provenance": []
    }
  },
  "nbformat": 4,
  "nbformat_minor": 0
}