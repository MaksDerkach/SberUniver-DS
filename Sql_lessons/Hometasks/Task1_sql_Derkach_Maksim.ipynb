{
 "cells": [
  {
   "cell_type": "markdown",
   "source": [
    "1. Выберите заказчиков из Германии, Франции и Мадрида, выведите их название, страну и адрес:\n"
   ],
   "metadata": {
    "collapsed": false,
    "pycharm": {
     "name": "#%% md\n"
    }
   }
  },
  {
   "cell_type": "code",
   "execution_count": 3,
   "outputs": [],
   "source": [
    "\"\"\"\n",
    "SELECT CustomerName, Country, Address\n",
    "FROM Customers\n",
    "WHERE country IN('Germany', 'France') or city = 'Madrid'\n",
    "ORDER BY Country, CustomerName\n",
    "\"\"\";"
   ],
   "metadata": {
    "collapsed": false,
    "pycharm": {
     "name": "#%%\n"
    }
   }
  },
  {
   "cell_type": "markdown",
   "source": [
    "2. Выберите топ 3 страны по количеству заказчиков, выведите их названия и количество записей:\n"
   ],
   "metadata": {
    "collapsed": false,
    "pycharm": {
     "name": "#%% md\n"
    }
   }
  },
  {
   "cell_type": "code",
   "execution_count": 4,
   "outputs": [],
   "source": [
    "\"\"\"\n",
    "SELECT Country, COUNT(CustomerName) as cnt_customers\n",
    "FROM Customers\n",
    "GROUP BY Country\n",
    "ORDER BY COUNT(CustomerName) DESC\n",
    "LIMIT 3\n",
    "\"\"\";"
   ],
   "metadata": {
    "collapsed": false,
    "pycharm": {
     "name": "#%%\n"
    }
   }
  },
  {
   "cell_type": "markdown",
   "source": [
    "3. Выберите перевозчика, который отправил 10-й по времени заказ, выведите его название, и дату отправления"
   ],
   "metadata": {
    "collapsed": false,
    "pycharm": {
     "name": "#%% md\n"
    }
   }
  },
  {
   "cell_type": "markdown",
   "source": [
    "4. Выберите самый дорогой заказ, выведите список товаров с их ценами.\n"
   ],
   "metadata": {
    "collapsed": false,
    "pycharm": {
     "name": "#%% md\n"
    }
   }
  },
  {
   "cell_type": "code",
   "execution_count": 6,
   "outputs": [],
   "source": [
    "\"\"\"\n",
    "SELECT ord.OrderID, ProductName, Quantity, Price * Quantity as TotalPrice\n",
    "FROM Orders ord\n",
    "LEFT JOIN OrderDetails ord_det on ord.OrderID = ord_det.OrderID\n",
    "LEFT JOIN Products prd on prd.ProductID = ord_det.ProductID\n",
    "WHERE ord.OrderID IN (SELECT ord.OrderID\n",
    "                      FROM Orders ord\n",
    "                      LEFT JOIN OrderDetails ord_det on ord.OrderID = ord_det.OrderID\n",
    "                      LEFT JOIN Products prd on prd.ProductID = ord_det.ProductID\n",
    "                      GROUP BY ord.OrderID\n",
    "                      ORDER BY SUM(Price * Quantity) DESC LIMIT 1) max_pr\n",
    "\"\"\";"
   ],
   "metadata": {
    "collapsed": false,
    "pycharm": {
     "name": "#%%\n"
    }
   }
  },
  {
   "cell_type": "markdown",
   "source": [
    "5. Какой товар больше всего заказывали по количеству единиц товара, выведите его название и количество единиц в каждом из заказов:"
   ],
   "metadata": {
    "collapsed": false,
    "pycharm": {
     "name": "#%% md\n"
    }
   }
  },
  {
   "cell_type": "code",
   "execution_count": 8,
   "outputs": [],
   "source": [
    "\"\"\"\n",
    "SELECT ProductName, ord.OrderID, Quantity\n",
    "FROM Orders ord\n",
    "LEFT JOIN OrderDetails ord_det on ord.OrderID = ord_det.OrderID\n",
    "LEFT JOIN Products prd on prd.ProductID = ord_det.ProductID\n",
    "WHERE ProductName IN (SELECT ProductName\n",
    "\t\t\t\t\t  FROM Orders ord\n",
    "\t\t\t\t\t  LEFT JOIN OrderDetails ord_det on ord.OrderID = ord_det.OrderID\n",
    "\t\t\t\t\t  LEFT JOIN Products prd on prd.ProductID = ord_det.ProductID\n",
    "\t\t\t\t\t  GROUP BY ProductName\n",
    "\t\t\t\t\t  ORDER BY SUM(Quantity) DESC\n",
    "\t\t\t\t\t  LIMIT 1)\n",
    "ORDER BY Quantity DESC, ord.OrderID\n",
    "\"\"\";"
   ],
   "metadata": {
    "collapsed": false,
    "pycharm": {
     "name": "#%%\n"
    }
   }
  },
  {
   "cell_type": "markdown",
   "source": [
    "6. Выведите топ 5 поставщиков по количеству заказов, выведите их названия, страну, контактное лицо и телефон:"
   ],
   "metadata": {
    "collapsed": false,
    "pycharm": {
     "name": "#%% md\n"
    }
   }
  },
  {
   "cell_type": "code",
   "execution_count": 9,
   "outputs": [],
   "source": [
    "\"\"\"\n",
    "SELECT SupplierName, Country, ContactName, Phone\n",
    "FROM Orders ord\n",
    "LEFT JOIN OrderDetails ord_det on ord.OrderID = ord_det.OrderID\n",
    "LEFT JOIN Products prd on prd.ProductID = ord_det.ProductID\n",
    "LEFT JOIN Suppliers spl on spl.SupplierID = prd.SupplierID\n",
    "GROUP BY SupplierName, Country, ContactName, Phone\n",
    "ORDER BY COUNT(ord.OrderID) DESC\n",
    "LIMIT 5\n",
    "\"\"\";"
   ],
   "metadata": {
    "collapsed": false,
    "pycharm": {
     "name": "#%%\n"
    }
   }
  },
  {
   "cell_type": "code",
   "execution_count": null,
   "outputs": [],
   "source": [],
   "metadata": {
    "collapsed": false,
    "pycharm": {
     "name": "#%%\n"
    }
   }
  }
 ],
 "metadata": {
  "kernelspec": {
   "display_name": "Python 3",
   "language": "python",
   "name": "python3"
  },
  "language_info": {
   "codemirror_mode": {
    "name": "ipython",
    "version": 2
   },
   "file_extension": ".py",
   "mimetype": "text/x-python",
   "name": "python",
   "nbconvert_exporter": "python",
   "pygments_lexer": "ipython2",
   "version": "2.7.6"
  }
 },
 "nbformat": 4,
 "nbformat_minor": 0
}