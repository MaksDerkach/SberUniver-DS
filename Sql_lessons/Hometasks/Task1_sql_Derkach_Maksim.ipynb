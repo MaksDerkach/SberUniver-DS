{
 "cells": [
  {
   "cell_type": "markdown",
   "source": [
    "1. Выберите заказчиков из Германии, Франции и Мадрида, выведите их название, страну и адрес:\n"
   ],
   "metadata": {
    "collapsed": false,
    "pycharm": {
     "name": "#%% md\n"
    }
   }
  },
  {
   "cell_type": "code",
   "execution_count": 8,
   "outputs": [],
   "source": [
    "\"\"\"\n",
    "SELECT CustomerName, Country, Address\n",
    "FROM Customers\n",
    "WHERE country IN('Germany', 'France') or city = 'Madrid'\n",
    "ORDER BY Country, CustomerName\n",
    "\"\"\";"
   ],
   "metadata": {
    "collapsed": false,
    "pycharm": {
     "name": "#%%\n"
    }
   }
  },
  {
   "cell_type": "markdown",
   "source": [
    "2. Выберите топ 3 страны по количеству заказчиков, выведите их названия и количество записей:\n"
   ],
   "metadata": {
    "collapsed": false,
    "pycharm": {
     "name": "#%% md\n"
    }
   }
  },
  {
   "cell_type": "code",
   "execution_count": 9,
   "outputs": [],
   "source": [
    "\"\"\"\n",
    "SELECT Country, COUNT(CustomerName) as cnt_customers\n",
    "FROM Customers\n",
    "GROUP BY Country\n",
    "ORDER BY COUNT(CustomerName) DESC\n",
    "LIMIT 3\n",
    "\"\"\";"
   ],
   "metadata": {
    "collapsed": false,
    "pycharm": {
     "name": "#%%\n"
    }
   }
  },
  {
   "cell_type": "markdown",
   "source": [
    "3. Выберите перевозчика, который отправил 10-й по времени заказ, выведите его название, и дату отправления:"
   ],
   "metadata": {
    "collapsed": false,
    "pycharm": {
     "name": "#%% md\n"
    }
   }
  },
  {
   "cell_type": "code",
   "execution_count": 10,
   "outputs": [],
   "source": [
    "\"\"\"\n",
    "SELECT top.OrderID, top.OrderDate, shp.ShipperName\n",
    "FROM (SELECT *\n",
    "\t  FROM Orders\n",
    "      ORDER BY OrderDate\n",
    "      LIMIT 10) top\n",
    "LEFT JOIN Shippers shp ON shp.ShipperID = top.ShipperID\n",
    "ORDER BY top.OrderDate DESC\n",
    "LIMIT 1\n",
    "\"\"\";"
   ],
   "metadata": {
    "collapsed": false,
    "pycharm": {
     "name": "#%%\n"
    }
   }
  },
  {
   "cell_type": "markdown",
   "source": [
    "4. Выберите самый дорогой заказ, выведите список товаров с их ценами.\n"
   ],
   "metadata": {
    "collapsed": false,
    "pycharm": {
     "name": "#%% md\n"
    }
   }
  },
  {
   "cell_type": "code",
   "execution_count": 11,
   "outputs": [],
   "source": [
    "\"\"\"\n",
    "SELECT ord.OrderID, ProductName, Quantity, Price * Quantity as TotalPrice\n",
    "FROM Orders ord\n",
    "LEFT JOIN OrderDetails ord_det on ord.OrderID = ord_det.OrderID\n",
    "LEFT JOIN Products prd on prd.ProductID = ord_det.ProductID\n",
    "WHERE ord.OrderID IN (SELECT ord.OrderID\n",
    "                      FROM Orders ord\n",
    "                      LEFT JOIN OrderDetails ord_det on ord.OrderID = ord_det.OrderID\n",
    "                      LEFT JOIN Products prd on prd.ProductID = ord_det.ProductID\n",
    "                      GROUP BY ord.OrderID\n",
    "                      ORDER BY SUM(Price * Quantity) DESC LIMIT 1) max_pr\n",
    "\"\"\";"
   ],
   "metadata": {
    "collapsed": false,
    "pycharm": {
     "name": "#%%\n"
    }
   }
  },
  {
   "cell_type": "markdown",
   "source": [
    "5. Какой товар больше всего заказывали по количеству единиц товара, выведите его название и количество единиц в каждом из заказов:"
   ],
   "metadata": {
    "collapsed": false,
    "pycharm": {
     "name": "#%% md\n"
    }
   }
  },
  {
   "cell_type": "code",
   "execution_count": 12,
   "outputs": [],
   "source": [
    "\"\"\"\n",
    "SELECT ProductName, ord.OrderID, Quantity\n",
    "FROM Orders ord\n",
    "LEFT JOIN OrderDetails ord_det on ord.OrderID = ord_det.OrderID\n",
    "LEFT JOIN Products prd on prd.ProductID = ord_det.ProductID\n",
    "WHERE ProductName IN (SELECT ProductName\n",
    "\t\t\t\t\t  FROM Orders ord\n",
    "\t\t\t\t\t  LEFT JOIN OrderDetails ord_det on ord.OrderID = ord_det.OrderID\n",
    "\t\t\t\t\t  LEFT JOIN Products prd on prd.ProductID = ord_det.ProductID\n",
    "\t\t\t\t\t  GROUP BY ProductName\n",
    "\t\t\t\t\t  ORDER BY SUM(Quantity) DESC\n",
    "\t\t\t\t\t  LIMIT 1)\n",
    "ORDER BY Quantity DESC, ord.OrderID\n",
    "\"\"\";"
   ],
   "metadata": {
    "collapsed": false,
    "pycharm": {
     "name": "#%%\n"
    }
   }
  },
  {
   "cell_type": "markdown",
   "source": [
    "6. Выведите топ 5 поставщиков по количеству заказов, выведите их названия, страну, контактное лицо и телефон:"
   ],
   "metadata": {
    "collapsed": false,
    "pycharm": {
     "name": "#%% md\n"
    }
   }
  },
  {
   "cell_type": "code",
   "execution_count": 13,
   "outputs": [],
   "source": [
    "\"\"\"\n",
    "SELECT SupplierName, Country, ContactName, Phone\n",
    "FROM Orders ord\n",
    "LEFT JOIN OrderDetails ord_det on ord.OrderID = ord_det.OrderID\n",
    "LEFT JOIN Products prd on prd.ProductID = ord_det.ProductID\n",
    "LEFT JOIN Suppliers spl on spl.SupplierID = prd.SupplierID\n",
    "GROUP BY SupplierName, Country, ContactName, Phone\n",
    "ORDER BY COUNT(ord.OrderID) DESC\n",
    "LIMIT 5\n",
    "\"\"\";"
   ],
   "metadata": {
    "collapsed": false,
    "pycharm": {
     "name": "#%%\n"
    }
   }
  },
  {
   "cell_type": "markdown",
   "source": [
    "7. Какую категорию товаров заказывали больше всего по стоимости в Бразилии, выведите страну, название категории и сумму:"
   ],
   "metadata": {
    "collapsed": false,
    "pycharm": {
     "name": "#%% md\n"
    }
   }
  },
  {
   "cell_type": "code",
   "execution_count": 14,
   "outputs": [],
   "source": [
    "\"\"\"\n",
    "SELECT cst.Country, cat.CategoryName, SUM(prd.Price * ord_det.Quantity) as CategorySum\n",
    "FROM Orders ord\n",
    "LEFT JOIN Customers cst ON cst.CustomerID = ord.CustomerID\n",
    "LEFT JOIN OrderDetails ord_det ON ord_det.OrderID = ord.OrderID\n",
    "LEFT JOIN Products prd ON prd.ProductID = ord_det.ProductID\n",
    "LEFT JOIN Categories cat ON cat.CategoryID = prd.CategoryID\n",
    "WHERE cst.Country = 'Brazil'\n",
    "GROUP BY cst.Country, cat.CategoryName\n",
    "ORDER BY CategorySum DESC\n",
    "LIMIT 1\n",
    "\"\"\";"
   ],
   "metadata": {
    "collapsed": false,
    "pycharm": {
     "name": "#%%\n"
    }
   }
  },
  {
   "cell_type": "markdown",
   "source": [
    "8. Какая разница в стоимости между самым дорогим и самым дешевым заказом из США:"
   ],
   "metadata": {
    "collapsed": false,
    "pycharm": {
     "name": "#%% md\n"
    }
   }
  },
  {
   "cell_type": "code",
   "execution_count": 15,
   "outputs": [],
   "source": [
    "\"\"\"\n",
    "SELECT MAX(prc.TotalPrice) - MIN(prc.TotalPrice) as DiffMaxMinTotalPrice\n",
    "FROM (SELECT ord.OrderID, SUM(prd.Price * ord_det.Quantity) as TotalPrice\n",
    "\t  FROM Orders ord\n",
    "      LEFT JOIN Customers cst ON cst.CustomerID = ord.CustomerID\n",
    "      LEFT JOIN OrderDetails ord_det ON ord_det.OrderID = ord.OrderID\n",
    "      LEFT JOIN Products prd ON prd.ProductID = ord_det.ProductID\n",
    "      WHERE cst.Country = 'USA'\n",
    "      GROUP BY ord.OrderID) prc\n",
    "\"\"\";"
   ],
   "metadata": {
    "collapsed": false,
    "pycharm": {
     "name": "#%%\n"
    }
   }
  },
  {
   "cell_type": "markdown",
   "source": [
    "9. Выведите количество заказов у каждого их трех самых молодых сотрудников, а также имя и фамилию во второй колонке:"
   ],
   "metadata": {
    "collapsed": false,
    "pycharm": {
     "name": "#%% md\n"
    }
   }
  },
  {
   "cell_type": "code",
   "execution_count": 16,
   "outputs": [],
   "source": [
    "\"\"\"\n",
    "SELECT COUNT(ord.OrderID) as CountOrders, emp.Name\n",
    "FROM Orders ord\n",
    "LEFT JOIN Customers cst ON cst.CustomerID = ord.CustomerID\n",
    "INNER JOIN (SELECT EmployeeID, FirstName || ' ' || LastName as Name\n",
    "\t\t   FROM Employees\n",
    "\t\t   ORDER BY BirthDate DESC\n",
    "           LIMIT 3) emp ON emp.EmployeeID = ord.EmployeeID\n",
    "GROUP BY emp.Name\n",
    "ORDER BY CountOrders DESC\n",
    "\"\"\";"
   ],
   "metadata": {
    "collapsed": false,
    "pycharm": {
     "name": "#%%\n"
    }
   }
  },
  {
   "cell_type": "markdown",
   "source": [
    "10. Сколько банок крабового мяса всего было заказано:"
   ],
   "metadata": {
    "collapsed": false,
    "pycharm": {
     "name": "#%% md\n"
    }
   }
  },
  {
   "cell_type": "code",
   "execution_count": 17,
   "outputs": [],
   "source": [
    "\"\"\"\n",
    "SELECT SUM(SUBSTR(Unit, 0, 3) * Quantity) as CountTins\n",
    "FROM Orders ord\n",
    "LEFT JOIN Customers cst ON cst.CustomerID = ord.CustomerID\n",
    "LEFT JOIN OrderDetails ord_det ON ord_det.OrderID = ord.OrderID\n",
    "LEFT JOIN Products prd ON prd.ProductID = ord_det.ProductID\n",
    "WHERE prd.ProductName = 'Boston Crab Meat'\n",
    "\"\"\";"
   ],
   "metadata": {
    "collapsed": false,
    "pycharm": {
     "name": "#%%\n"
    }
   }
  },
  {
   "cell_type": "code",
   "execution_count": null,
   "outputs": [],
   "source": [],
   "metadata": {
    "collapsed": false,
    "pycharm": {
     "name": "#%%\n"
    }
   }
  }
 ],
 "metadata": {
  "kernelspec": {
   "display_name": "Python 3",
   "language": "python",
   "name": "python3"
  },
  "language_info": {
   "codemirror_mode": {
    "name": "ipython",
    "version": 2
   },
   "file_extension": ".py",
   "mimetype": "text/x-python",
   "name": "python",
   "nbconvert_exporter": "python",
   "pygments_lexer": "ipython2",
   "version": "2.7.6"
  }
 },
 "nbformat": 4,
 "nbformat_minor": 0
}