{
 "cells": [
  {
   "cell_type": "code",
   "execution_count": 34,
   "metadata": {
    "id": "scHyBdfbwwFN",
    "pycharm": {
     "name": "#%%\n"
    }
   },
   "outputs": [],
   "source": [
    "import sqlite3\n",
    "import pandas as pd"
   ]
  },
  {
   "cell_type": "code",
   "execution_count": 35,
   "metadata": {
    "id": "q4VfRbfvwwFQ",
    "pycharm": {
     "name": "#%%\n"
    }
   },
   "outputs": [],
   "source": [
    "con = sqlite3.connect(\":memory:\")\n",
    "cur = con.cursor()"
   ]
  },
  {
   "cell_type": "markdown",
   "metadata": {
    "id": "6eX4ud-GwwFQ",
    "pycharm": {
     "name": "#%% md\n"
    }
   },
   "source": [
    "https://www.cs.toronto.edu/~delve/data/boston/bostonDetail.html"
   ]
  },
  {
   "cell_type": "code",
   "execution_count": 36,
   "metadata": {
    "id": "q2MLTOJXwwFS",
    "pycharm": {
     "name": "#%%\n"
    }
   },
   "outputs": [
    {
     "data": {
      "text/plain": "506"
     },
     "execution_count": 36,
     "metadata": {},
     "output_type": "execute_result"
    }
   ],
   "source": [
    "data = pd.read_csv('https://raw.githubusercontent.com/dsreload/sql_2/master/boston.csv')\n",
    "data.to_sql(\"boston\", con, index=False, if_exists=\"replace\")"
   ]
  },
  {
   "cell_type": "code",
   "execution_count": 37,
   "metadata": {
    "scrolled": true,
    "colab": {
     "base_uri": "https://localhost:8080/",
     "height": 206
    },
    "id": "ggZ6YxyswwFT",
    "outputId": "beaf6760-e644-49ff-a6d2-23a738d0e27d",
    "pycharm": {
     "name": "#%%\n"
    }
   },
   "outputs": [
    {
     "data": {
      "text/plain": "      CRIM    ZN  INDUS  CHAS    NOX     RM   AGE     DIS  RAD    TAX  \\\n0  0.00632  18.0   2.31   0.0  0.538  6.575  65.2  4.0900  1.0  296.0   \n1  0.02731   0.0   7.07   0.0  0.469  6.421  78.9  4.9671  2.0  242.0   \n2  0.02729   0.0   7.07   0.0  0.469  7.185  61.1  4.9671  2.0  242.0   \n3  0.03237   0.0   2.18   0.0  0.458  6.998  45.8  6.0622  3.0  222.0   \n4  0.06905   0.0   2.18   0.0  0.458  7.147  54.2  6.0622  3.0  222.0   \n\n   PTRATIO       B  LSTAT  MEDV  \n0     15.3  396.90   4.98  24.0  \n1     17.8  396.90   9.14  21.6  \n2     17.8  392.83   4.03  34.7  \n3     18.7  394.63   2.94  33.4  \n4     18.7  396.90   5.33  36.2  ",
      "text/html": "<div>\n<style scoped>\n    .dataframe tbody tr th:only-of-type {\n        vertical-align: middle;\n    }\n\n    .dataframe tbody tr th {\n        vertical-align: top;\n    }\n\n    .dataframe thead th {\n        text-align: right;\n    }\n</style>\n<table border=\"1\" class=\"dataframe\">\n  <thead>\n    <tr style=\"text-align: right;\">\n      <th></th>\n      <th>CRIM</th>\n      <th>ZN</th>\n      <th>INDUS</th>\n      <th>CHAS</th>\n      <th>NOX</th>\n      <th>RM</th>\n      <th>AGE</th>\n      <th>DIS</th>\n      <th>RAD</th>\n      <th>TAX</th>\n      <th>PTRATIO</th>\n      <th>B</th>\n      <th>LSTAT</th>\n      <th>MEDV</th>\n    </tr>\n  </thead>\n  <tbody>\n    <tr>\n      <th>0</th>\n      <td>0.00632</td>\n      <td>18.0</td>\n      <td>2.31</td>\n      <td>0.0</td>\n      <td>0.538</td>\n      <td>6.575</td>\n      <td>65.2</td>\n      <td>4.0900</td>\n      <td>1.0</td>\n      <td>296.0</td>\n      <td>15.3</td>\n      <td>396.90</td>\n      <td>4.98</td>\n      <td>24.0</td>\n    </tr>\n    <tr>\n      <th>1</th>\n      <td>0.02731</td>\n      <td>0.0</td>\n      <td>7.07</td>\n      <td>0.0</td>\n      <td>0.469</td>\n      <td>6.421</td>\n      <td>78.9</td>\n      <td>4.9671</td>\n      <td>2.0</td>\n      <td>242.0</td>\n      <td>17.8</td>\n      <td>396.90</td>\n      <td>9.14</td>\n      <td>21.6</td>\n    </tr>\n    <tr>\n      <th>2</th>\n      <td>0.02729</td>\n      <td>0.0</td>\n      <td>7.07</td>\n      <td>0.0</td>\n      <td>0.469</td>\n      <td>7.185</td>\n      <td>61.1</td>\n      <td>4.9671</td>\n      <td>2.0</td>\n      <td>242.0</td>\n      <td>17.8</td>\n      <td>392.83</td>\n      <td>4.03</td>\n      <td>34.7</td>\n    </tr>\n    <tr>\n      <th>3</th>\n      <td>0.03237</td>\n      <td>0.0</td>\n      <td>2.18</td>\n      <td>0.0</td>\n      <td>0.458</td>\n      <td>6.998</td>\n      <td>45.8</td>\n      <td>6.0622</td>\n      <td>3.0</td>\n      <td>222.0</td>\n      <td>18.7</td>\n      <td>394.63</td>\n      <td>2.94</td>\n      <td>33.4</td>\n    </tr>\n    <tr>\n      <th>4</th>\n      <td>0.06905</td>\n      <td>0.0</td>\n      <td>2.18</td>\n      <td>0.0</td>\n      <td>0.458</td>\n      <td>7.147</td>\n      <td>54.2</td>\n      <td>6.0622</td>\n      <td>3.0</td>\n      <td>222.0</td>\n      <td>18.7</td>\n      <td>396.90</td>\n      <td>5.33</td>\n      <td>36.2</td>\n    </tr>\n  </tbody>\n</table>\n</div>"
     },
     "execution_count": 37,
     "metadata": {},
     "output_type": "execute_result"
    }
   ],
   "source": [
    "pd.read_sql(\n",
    "    \"\"\"\n",
    "    SELECT * FROM boston\n",
    "    limit 5\n",
    "    \"\"\",\n",
    "    con,\n",
    ")"
   ]
  },
  {
   "cell_type": "markdown",
   "metadata": {
    "id": "y30jj3eXwwFU",
    "pycharm": {
     "name": "#%% md\n"
    }
   },
   "source": [
    "### Все задания нужно выполнить только с помощью sql"
   ]
  },
  {
   "cell_type": "markdown",
   "metadata": {
    "id": "IPT9_8CxwwFU",
    "pycharm": {
     "name": "#%% md\n"
    }
   },
   "source": [
    "**1. Выведите количество пустых значений по колонкам CRIM, ZN, INDUS, CHAS, NOX (название колонки, кол-во пустых значений)**"
   ]
  },
  {
   "cell_type": "markdown",
   "source": [
    "Первый вариант (по столбцам):"
   ],
   "metadata": {
    "id": "D70aeMxr1C-z",
    "pycharm": {
     "name": "#%% md\n"
    }
   }
  },
  {
   "cell_type": "code",
   "execution_count": 38,
   "metadata": {
    "colab": {
     "base_uri": "https://localhost:8080/",
     "height": 81
    },
    "id": "RCyfmdGIwwFV",
    "outputId": "e33aca42-2581-483e-d365-c337d91b0b75",
    "pycharm": {
     "name": "#%%\n"
    }
   },
   "outputs": [
    {
     "data": {
      "text/plain": "   cnt_null_CRIM  cnt_null_ZN  cnt_null_INDUS  cnt_null_CHAS  cnt_null_NOX\n0              0            0               0              0             0",
      "text/html": "<div>\n<style scoped>\n    .dataframe tbody tr th:only-of-type {\n        vertical-align: middle;\n    }\n\n    .dataframe tbody tr th {\n        vertical-align: top;\n    }\n\n    .dataframe thead th {\n        text-align: right;\n    }\n</style>\n<table border=\"1\" class=\"dataframe\">\n  <thead>\n    <tr style=\"text-align: right;\">\n      <th></th>\n      <th>cnt_null_CRIM</th>\n      <th>cnt_null_ZN</th>\n      <th>cnt_null_INDUS</th>\n      <th>cnt_null_CHAS</th>\n      <th>cnt_null_NOX</th>\n    </tr>\n  </thead>\n  <tbody>\n    <tr>\n      <th>0</th>\n      <td>0</td>\n      <td>0</td>\n      <td>0</td>\n      <td>0</td>\n      <td>0</td>\n    </tr>\n  </tbody>\n</table>\n</div>"
     },
     "execution_count": 38,
     "metadata": {},
     "output_type": "execute_result"
    }
   ],
   "source": [
    "pd.read_sql(\n",
    "    \"\"\"\n",
    "    SELECT SUM(CASE WHEN CRIM IS NULL THEN 1 ELSE 0 END) as cnt_null_CRIM,\n",
    "           SUM(CASE WHEN ZN IS NULL THEN 1 ELSE 0 END) as cnt_null_ZN,\n",
    "           SUM(CASE WHEN INDUS IS NULL THEN 1 ELSE 0 END) as cnt_null_INDUS,\n",
    "           SUM(CASE WHEN CHAS IS NULL THEN 1 ELSE 0 END) as cnt_null_CHAS,\n",
    "           SUM(CASE WHEN NOX IS NULL THEN 1 ELSE 0 END) as cnt_null_NOX\n",
    "    FROM boston\n",
    "    \"\"\",\n",
    "    con,\n",
    ")"
   ]
  },
  {
   "cell_type": "markdown",
   "source": [
    "Второй вариант (по строкам):"
   ],
   "metadata": {
    "id": "MmNQ8m071JMd",
    "pycharm": {
     "name": "#%% md\n"
    }
   }
  },
  {
   "cell_type": "code",
   "source": [
    "pd.read_sql(\n",
    "    \"\"\"\n",
    "    SELECT 'CRIM' as column,\n",
    "           SUM(CASE WHEN CRIM IS NULL THEN 1 ELSE 0 END) as cnt_nulls\n",
    "    FROM boston\n",
    "    UNION\n",
    "    SELECT 'ZN' as column,\n",
    "           SUM(CASE WHEN ZN IS NULL THEN 1 ELSE 0 END) as cnt_nulls\n",
    "    FROM boston\n",
    "    UNION\n",
    "    SELECT 'INDUS' as column,\n",
    "           SUM(CASE WHEN INDUS IS NULL THEN 1 ELSE 0 END) as cnt_nulls\n",
    "    FROM boston\n",
    "    UNION\n",
    "    SELECT 'CHAS' as column,\n",
    "           SUM(CASE WHEN CHAS IS NULL THEN 1 ELSE 0 END) as cnt_nulls\n",
    "    FROM boston\n",
    "    UNION\n",
    "    SELECT 'NOX' as column,\n",
    "           SUM(CASE WHEN NOX IS NULL THEN 1 ELSE 0 END) as cnt_nulls\n",
    "    FROM boston\n",
    "    \"\"\",\n",
    "    con,\n",
    ")"
   ],
   "metadata": {
    "colab": {
     "base_uri": "https://localhost:8080/",
     "height": 206
    },
    "id": "dCjY71nc1PRA",
    "outputId": "ede65aa1-d13e-4aac-d238-4b6c93c8648e",
    "pycharm": {
     "name": "#%%\n"
    }
   },
   "execution_count": 39,
   "outputs": [
    {
     "data": {
      "text/plain": "  column  cnt_nulls\n0   CHAS          0\n1   CRIM          0\n2  INDUS          0\n3    NOX          0\n4     ZN          0",
      "text/html": "<div>\n<style scoped>\n    .dataframe tbody tr th:only-of-type {\n        vertical-align: middle;\n    }\n\n    .dataframe tbody tr th {\n        vertical-align: top;\n    }\n\n    .dataframe thead th {\n        text-align: right;\n    }\n</style>\n<table border=\"1\" class=\"dataframe\">\n  <thead>\n    <tr style=\"text-align: right;\">\n      <th></th>\n      <th>column</th>\n      <th>cnt_nulls</th>\n    </tr>\n  </thead>\n  <tbody>\n    <tr>\n      <th>0</th>\n      <td>CHAS</td>\n      <td>0</td>\n    </tr>\n    <tr>\n      <th>1</th>\n      <td>CRIM</td>\n      <td>0</td>\n    </tr>\n    <tr>\n      <th>2</th>\n      <td>INDUS</td>\n      <td>0</td>\n    </tr>\n    <tr>\n      <th>3</th>\n      <td>NOX</td>\n      <td>0</td>\n    </tr>\n    <tr>\n      <th>4</th>\n      <td>ZN</td>\n      <td>0</td>\n    </tr>\n  </tbody>\n</table>\n</div>"
     },
     "execution_count": 39,
     "metadata": {},
     "output_type": "execute_result"
    }
   ]
  },
  {
   "cell_type": "markdown",
   "metadata": {
    "id": "dmqoaCKlwwFV",
    "pycharm": {
     "name": "#%% md\n"
    }
   },
   "source": [
    "**2. Выведите количество уникальных значений по колонокам CRIM, ZN, INDUS, CHAS, NOX (название колонки, кол-во уникальных значений)**"
   ]
  },
  {
   "cell_type": "code",
   "execution_count": 40,
   "metadata": {
    "colab": {
     "base_uri": "https://localhost:8080/",
     "height": 206
    },
    "id": "Y5sTn2I-wwFW",
    "outputId": "b2c978ed-1486-4d18-df24-7f14aa158e9c",
    "pycharm": {
     "name": "#%%\n"
    }
   },
   "outputs": [
    {
     "data": {
      "text/plain": "  column  cnt_distinct_values\n0   CHAS                    2\n1   CRIM                  504\n2  INDUS                   76\n3    NOX                   81\n4     ZN                   26",
      "text/html": "<div>\n<style scoped>\n    .dataframe tbody tr th:only-of-type {\n        vertical-align: middle;\n    }\n\n    .dataframe tbody tr th {\n        vertical-align: top;\n    }\n\n    .dataframe thead th {\n        text-align: right;\n    }\n</style>\n<table border=\"1\" class=\"dataframe\">\n  <thead>\n    <tr style=\"text-align: right;\">\n      <th></th>\n      <th>column</th>\n      <th>cnt_distinct_values</th>\n    </tr>\n  </thead>\n  <tbody>\n    <tr>\n      <th>0</th>\n      <td>CHAS</td>\n      <td>2</td>\n    </tr>\n    <tr>\n      <th>1</th>\n      <td>CRIM</td>\n      <td>504</td>\n    </tr>\n    <tr>\n      <th>2</th>\n      <td>INDUS</td>\n      <td>76</td>\n    </tr>\n    <tr>\n      <th>3</th>\n      <td>NOX</td>\n      <td>81</td>\n    </tr>\n    <tr>\n      <th>4</th>\n      <td>ZN</td>\n      <td>26</td>\n    </tr>\n  </tbody>\n</table>\n</div>"
     },
     "execution_count": 40,
     "metadata": {},
     "output_type": "execute_result"
    }
   ],
   "source": [
    "pd.read_sql(\n",
    "    \"\"\"\n",
    "    SELECT 'CRIM' as column,\n",
    "           COUNT(DISTINCT CRIM) as cnt_distinct_values\n",
    "    FROM boston\n",
    "    UNION\n",
    "    SELECT 'ZN' as column,\n",
    "           COUNT(DISTINCT ZN) as cnt_distinct_values\n",
    "    FROM boston\n",
    "    UNION\n",
    "    SELECT 'INDUS' as column,\n",
    "           COUNT(DISTINCT INDUS) as cnt_distinct_values\n",
    "    FROM boston\n",
    "    UNION\n",
    "    SELECT 'CHAS' as column,\n",
    "           COUNT(DISTINCT CHAS) as cnt_distinct_values\n",
    "    FROM boston\n",
    "    UNION\n",
    "    SELECT 'NOX' as column,\n",
    "           COUNT(DISTINCT NOX) as cnt_distinct_values\n",
    "    FROM boston\n",
    "    \"\"\",\n",
    "    con,\n",
    ")"
   ]
  },
  {
   "cell_type": "markdown",
   "metadata": {
    "id": "VAfGeBgEwwFW",
    "pycharm": {
     "name": "#%% md\n"
    }
   },
   "source": [
    "**3. Выведите колонки, у которых медиана равна минимальному значению (название колонки) выбирая из CRIM, ZN, INDUS, CHAS, NOX.\n",
    "Напишите какой вывод можно сделать по данным в этих колонках**"
   ]
  },
  {
   "cell_type": "markdown",
   "source": [
    "Реализуем запрос, возращающий данные вида (нахвание колонки, медиана, минимальное значение):"
   ],
   "metadata": {
    "id": "acB-IaBZlcVn",
    "pycharm": {
     "name": "#%% md\n"
    }
   }
  },
  {
   "cell_type": "code",
   "execution_count": 41,
   "metadata": {
    "colab": {
     "base_uri": "https://localhost:8080/",
     "height": 81
    },
    "id": "5Q7pH4O_wwFW",
    "outputId": "e99cf324-c73e-47d8-c8f2-468212cccbe6",
    "pycharm": {
     "name": "#%%\n"
    }
   },
   "outputs": [
    {
     "data": {
      "text/plain": "  ColName   Median  MinValue\n0    CRIM  0.25651   0.00632",
      "text/html": "<div>\n<style scoped>\n    .dataframe tbody tr th:only-of-type {\n        vertical-align: middle;\n    }\n\n    .dataframe tbody tr th {\n        vertical-align: top;\n    }\n\n    .dataframe thead th {\n        text-align: right;\n    }\n</style>\n<table border=\"1\" class=\"dataframe\">\n  <thead>\n    <tr style=\"text-align: right;\">\n      <th></th>\n      <th>ColName</th>\n      <th>Median</th>\n      <th>MinValue</th>\n    </tr>\n  </thead>\n  <tbody>\n    <tr>\n      <th>0</th>\n      <td>CRIM</td>\n      <td>0.25651</td>\n      <td>0.00632</td>\n    </tr>\n  </tbody>\n</table>\n</div>"
     },
     "execution_count": 41,
     "metadata": {},
     "output_type": "execute_result"
    }
   ],
   "source": [
    "pd.read_sql(\n",
    "    \"\"\"\n",
    "    SELECT 'CRIM' as ColName,\n",
    "           AVG(value) as Median,\n",
    "           (SELECT MIN(CRIM) FROM boston) as MinValue\n",
    "    FROM (SELECT CRIM as value\n",
    "          FROM boston\n",
    "          ORDER BY CRIM\n",
    "          LIMIT 2 - (SELECT COUNT(CRIM) FROM boston) % 2\n",
    "          OFFSET (SELECT (COUNT(CRIM) - 1) / 2 FROM boston)\n",
    "    )    \n",
    "    \"\"\",\n",
    "    con,\n",
    ")"
   ]
  },
  {
   "cell_type": "markdown",
   "source": [
    "Затем через UNION соединим результаты для всех колонок, а затем выберем те, у которых медиана и минимальное значение совпадают:"
   ],
   "metadata": {
    "id": "2iUJokeknmza",
    "pycharm": {
     "name": "#%% md\n"
    }
   }
  },
  {
   "cell_type": "code",
   "source": [
    "pd.read_sql(\n",
    "    \"\"\"\n",
    "    SELECT ColName\n",
    "    FROM (\n",
    "            SELECT 'CRIM' as ColName,\n",
    "                AVG(value) as Median,\n",
    "                (SELECT MIN(CRIM) FROM boston) as MinValue\n",
    "            FROM (SELECT CRIM as value\n",
    "                FROM boston\n",
    "                ORDER BY CRIM\n",
    "                LIMIT 2 - (SELECT COUNT(CRIM) FROM boston) % 2\n",
    "                OFFSET (SELECT (COUNT(CRIM) - 1) / 2 FROM boston)\n",
    "            )\n",
    "            UNION\n",
    "            SELECT 'ZN' as ColName,\n",
    "                AVG(value) as Median,\n",
    "                (SELECT MIN(ZN) FROM boston) as MinValue\n",
    "            FROM (SELECT ZN as value\n",
    "                FROM boston\n",
    "                ORDER BY ZN\n",
    "                LIMIT 2 - (SELECT COUNT(ZN) FROM boston) % 2\n",
    "                OFFSET (SELECT (COUNT(ZN) - 1) / 2 FROM boston)\n",
    "            )\n",
    "            UNION\n",
    "            SELECT 'INDUS' as ColName,\n",
    "                AVG(value) as Median,\n",
    "                (SELECT MIN(INDUS) FROM boston) as MinValue\n",
    "            FROM (SELECT INDUS as value\n",
    "                FROM boston\n",
    "                ORDER BY INDUS\n",
    "                LIMIT 2 - (SELECT COUNT(INDUS) FROM boston) % 2\n",
    "                OFFSET (SELECT (COUNT(INDUS) - 1) / 2 FROM boston)\n",
    "            )\n",
    "            UNION\n",
    "            SELECT 'CHAS' as ColName,\n",
    "                AVG(value) as Median,\n",
    "                (SELECT MIN(CHAS) FROM boston) as MinValue\n",
    "            FROM (SELECT CHAS as value\n",
    "                FROM boston\n",
    "                ORDER BY CHAS\n",
    "                LIMIT 2 - (SELECT COUNT(CHAS) FROM boston) % 2\n",
    "                OFFSET (SELECT (COUNT(CHAS) - 1) / 2 FROM boston)\n",
    "            )\n",
    "            UNION\n",
    "            SELECT 'NOX' as ColName,\n",
    "                AVG(value) as Median,\n",
    "                (SELECT MIN(NOX) FROM boston) as MinValue\n",
    "            FROM (SELECT NOX as value\n",
    "                FROM boston\n",
    "                ORDER BY NOX\n",
    "                LIMIT 2 - (SELECT COUNT(NOX) FROM boston) % 2\n",
    "                OFFSET (SELECT (COUNT(NOX) - 1) / 2 FROM boston)\n",
    "            )\n",
    "    )\n",
    "    WHERE Median =  MinValue\n",
    "    \"\"\",\n",
    "    con,\n",
    ")"
   ],
   "metadata": {
    "colab": {
     "base_uri": "https://localhost:8080/",
     "height": 112
    },
    "id": "ntBpjjVAkmk4",
    "outputId": "dcb5625c-37d7-4d80-e168-ce365857313a",
    "pycharm": {
     "name": "#%%\n"
    }
   },
   "execution_count": 42,
   "outputs": [
    {
     "data": {
      "text/plain": "  ColName\n0    CHAS\n1      ZN",
      "text/html": "<div>\n<style scoped>\n    .dataframe tbody tr th:only-of-type {\n        vertical-align: middle;\n    }\n\n    .dataframe tbody tr th {\n        vertical-align: top;\n    }\n\n    .dataframe thead th {\n        text-align: right;\n    }\n</style>\n<table border=\"1\" class=\"dataframe\">\n  <thead>\n    <tr style=\"text-align: right;\">\n      <th></th>\n      <th>ColName</th>\n    </tr>\n  </thead>\n  <tbody>\n    <tr>\n      <th>0</th>\n      <td>CHAS</td>\n    </tr>\n    <tr>\n      <th>1</th>\n      <td>ZN</td>\n    </tr>\n  </tbody>\n</table>\n</div>"
     },
     "execution_count": 42,
     "metadata": {},
     "output_type": "execute_result"
    }
   ]
  },
  {
   "cell_type": "markdown",
   "source": [
    "С учётом того, что количество уникальных элементов в этих колонках не равно 1 (см. задание 2), тогда можно сделать вывод, что кол-во элементов, равных минимальному значению, составляет более половины числа всех элементов данной колонки."
   ],
   "metadata": {
    "id": "3WgPHn_pp1rt",
    "pycharm": {
     "name": "#%% md\n"
    }
   }
  },
  {
   "cell_type": "markdown",
   "metadata": {
    "id": "BpOjBgPIwwFX",
    "pycharm": {
     "name": "#%% md\n"
    }
   },
   "source": [
    "**4. Выведите разницу между среднем количеством комнат(RM) в домах с самой дорогой стоимостью(MEDV) и 25 самыми дешевыми домами. \n",
    "Аналогично по 50, 100, 200, 300 самыми дешевыми домами. (кол-во домов(25,50,100,200,300), среднее кол-во комнат в них, среднее кол-во комнат в самых дорогих, разница).\n",
    "Напишите влияет ли кол-во комнат на стоимость и как сильно.**"
   ]
  },
  {
   "cell_type": "markdown",
   "source": [
    "Для начала выберем дома с максимальной стоимостью и посчитаем их среднее кол-во комнат:"
   ],
   "metadata": {
    "id": "ZxSVN1mO0NEp",
    "pycharm": {
     "name": "#%% md\n"
    }
   }
  },
  {
   "cell_type": "code",
   "execution_count": 43,
   "metadata": {
    "id": "q39_qPjXwwFX",
    "colab": {
     "base_uri": "https://localhost:8080/",
     "height": 81
    },
    "outputId": "0b52a62a-a166-4a2b-bada-7b182252bd0f",
    "pycharm": {
     "name": "#%%\n"
    }
   },
   "outputs": [
    {
     "data": {
      "text/plain": "   AvgRM\n0  7.484",
      "text/html": "<div>\n<style scoped>\n    .dataframe tbody tr th:only-of-type {\n        vertical-align: middle;\n    }\n\n    .dataframe tbody tr th {\n        vertical-align: top;\n    }\n\n    .dataframe thead th {\n        text-align: right;\n    }\n</style>\n<table border=\"1\" class=\"dataframe\">\n  <thead>\n    <tr style=\"text-align: right;\">\n      <th></th>\n      <th>AvgRM</th>\n    </tr>\n  </thead>\n  <tbody>\n    <tr>\n      <th>0</th>\n      <td>7.484</td>\n    </tr>\n  </tbody>\n</table>\n</div>"
     },
     "execution_count": 43,
     "metadata": {},
     "output_type": "execute_result"
    }
   ],
   "source": [
    "pd.read_sql(\n",
    "    \"\"\"\n",
    "    SELECT AVG(RM) as AvgRM\n",
    "    FROM boston\n",
    "    WHERE MEDV = (SELECT MAX(MEDV) \n",
    "                  FROM boston\n",
    "                  ORDER BY MEDV DESC)\n",
    "    \"\"\",\n",
    "    con,\n",
    ")"
   ]
  },
  {
   "cell_type": "markdown",
   "source": [
    "Объединим вышеупомянутый запрос с запросом на нахождение среднее кол-ва комнат в самых дешёвых домах:"
   ],
   "metadata": {
    "id": "pZxNDgsT5CTD",
    "pycharm": {
     "name": "#%% md\n"
    }
   }
  },
  {
   "cell_type": "code",
   "source": [
    "pd.read_sql(\n",
    "    \"\"\"\n",
    "    SELECT 25 as NumCheapestHouses,\n",
    "           AVG(RM) as AvgRM_MostCheapest,\n",
    "           (SELECT AVG(RM) as AvgRM\n",
    "            FROM boston\n",
    "            WHERE MEDV = (SELECT MAX(MEDV) \n",
    "                          FROM boston\n",
    "                          ORDER BY MEDV DESC)\n",
    "                          ) as AvgRM_ModtExpensive\n",
    "    FROM (SELECT RM\n",
    "          FROM boston\n",
    "          ORDER BY MEDV\n",
    "          LIMIT 25\n",
    "    )\n",
    "    \"\"\",\n",
    "    con,\n",
    ")"
   ],
   "metadata": {
    "colab": {
     "base_uri": "https://localhost:8080/",
     "height": 81
    },
    "id": "CzYeUfHL2h_N",
    "outputId": "28c9684b-20e9-4af1-8abb-f4434a1e1568",
    "pycharm": {
     "name": "#%%\n"
    }
   },
   "execution_count": 44,
   "outputs": [
    {
     "data": {
      "text/plain": "   NumCheapestHouses  AvgRM_MostCheapest  AvgRM_ModtExpensive\n0                 25             5.74784                7.484",
      "text/html": "<div>\n<style scoped>\n    .dataframe tbody tr th:only-of-type {\n        vertical-align: middle;\n    }\n\n    .dataframe tbody tr th {\n        vertical-align: top;\n    }\n\n    .dataframe thead th {\n        text-align: right;\n    }\n</style>\n<table border=\"1\" class=\"dataframe\">\n  <thead>\n    <tr style=\"text-align: right;\">\n      <th></th>\n      <th>NumCheapestHouses</th>\n      <th>AvgRM_MostCheapest</th>\n      <th>AvgRM_ModtExpensive</th>\n    </tr>\n  </thead>\n  <tbody>\n    <tr>\n      <th>0</th>\n      <td>25</td>\n      <td>5.74784</td>\n      <td>7.484</td>\n    </tr>\n  </tbody>\n</table>\n</div>"
     },
     "execution_count": 44,
     "metadata": {},
     "output_type": "execute_result"
    }
   ]
  },
  {
   "cell_type": "markdown",
   "source": [
    "Тогда результирующий запрос:"
   ],
   "metadata": {
    "id": "X84m_j_65XOx",
    "pycharm": {
     "name": "#%% md\n"
    }
   }
  },
  {
   "cell_type": "code",
   "source": [
    "pd.read_sql(\n",
    "    \"\"\"\n",
    "    WITH avg_most_exp as (\n",
    "    SELECT AVG(RM) as AvgRM\n",
    "    FROM boston\n",
    "    WHERE MEDV = (SELECT MAX(MEDV) \n",
    "                  FROM boston\n",
    "                  ORDER BY MEDV DESC)\n",
    "    )\n",
    "\n",
    "    SELECT *,\n",
    "           AvgRM_MostExpensive - AvgRM_MostCheapest as Difference\n",
    "    FROM (\n",
    "            SELECT 25 as NumCheapestHouses,\n",
    "                   AVG(RM) as AvgRM_MostCheapest,\n",
    "                   (SELECT * FROM avg_most_exp) as AvgRM_MostExpensive\n",
    "            FROM (SELECT RM\n",
    "                  FROM boston\n",
    "                  ORDER BY MEDV\n",
    "                  LIMIT 25\n",
    "            )\n",
    "            UNION\n",
    "            SELECT 50 as NumCheapestHouses,\n",
    "                   AVG(RM) as AvgRM_MostCheapest,\n",
    "                   (SELECT * FROM avg_most_exp) as AvgRM_MostExpensive\n",
    "            FROM (SELECT RM\n",
    "                  FROM boston\n",
    "                  ORDER BY MEDV\n",
    "                  LIMIT 50\n",
    "            )\n",
    "            UNION\n",
    "            SELECT 100 as NumCheapestHouses,\n",
    "                   AVG(RM) as AvgRM_MostCheapest,\n",
    "                   (SELECT * FROM avg_most_exp) as AvgRM_MostExpensive\n",
    "            FROM (SELECT RM\n",
    "                  FROM boston\n",
    "                  ORDER BY MEDV\n",
    "                  LIMIT 100\n",
    "            )\n",
    "            UNION\n",
    "            SELECT 200 as NumCheapestHouses,\n",
    "                   AVG(RM) as AvgRM_MostCheapest,\n",
    "                   (SELECT * FROM avg_most_exp) as AvgRM_MostExpensive\n",
    "            FROM (SELECT RM\n",
    "                  FROM boston\n",
    "                  ORDER BY MEDV\n",
    "                  LIMIT 200\n",
    "            )\n",
    "            UNION\n",
    "            SELECT 300 as NumCheapestHouses,\n",
    "                   AVG(RM) as AvgRM_MostCheapest,\n",
    "                   (SELECT * FROM avg_most_exp) as AvgRM_MostExpensive\n",
    "            FROM (SELECT RM\n",
    "                  FROM boston\n",
    "                  ORDER BY MEDV\n",
    "                  LIMIT 300\n",
    "            )\n",
    "        )\n",
    "    \"\"\",\n",
    "    con,\n",
    ")"
   ],
   "metadata": {
    "colab": {
     "base_uri": "https://localhost:8080/",
     "height": 206
    },
    "id": "yfTxkvoo5bBN",
    "outputId": "409488fd-0ff9-4a23-aad2-cbe84cd7647f",
    "pycharm": {
     "name": "#%%\n"
    }
   },
   "execution_count": 45,
   "outputs": [
    {
     "data": {
      "text/plain": "   NumCheapestHouses  AvgRM_MostCheapest  AvgRM_MostExpensive  Difference\n0                 25            5.747840                7.484    1.736160\n1                 50            5.753240                7.484    1.730760\n2                100            5.887120                7.484    1.596880\n3                200            5.911705                7.484    1.572295\n4                300            5.972227                7.484    1.511773",
      "text/html": "<div>\n<style scoped>\n    .dataframe tbody tr th:only-of-type {\n        vertical-align: middle;\n    }\n\n    .dataframe tbody tr th {\n        vertical-align: top;\n    }\n\n    .dataframe thead th {\n        text-align: right;\n    }\n</style>\n<table border=\"1\" class=\"dataframe\">\n  <thead>\n    <tr style=\"text-align: right;\">\n      <th></th>\n      <th>NumCheapestHouses</th>\n      <th>AvgRM_MostCheapest</th>\n      <th>AvgRM_MostExpensive</th>\n      <th>Difference</th>\n    </tr>\n  </thead>\n  <tbody>\n    <tr>\n      <th>0</th>\n      <td>25</td>\n      <td>5.747840</td>\n      <td>7.484</td>\n      <td>1.736160</td>\n    </tr>\n    <tr>\n      <th>1</th>\n      <td>50</td>\n      <td>5.753240</td>\n      <td>7.484</td>\n      <td>1.730760</td>\n    </tr>\n    <tr>\n      <th>2</th>\n      <td>100</td>\n      <td>5.887120</td>\n      <td>7.484</td>\n      <td>1.596880</td>\n    </tr>\n    <tr>\n      <th>3</th>\n      <td>200</td>\n      <td>5.911705</td>\n      <td>7.484</td>\n      <td>1.572295</td>\n    </tr>\n    <tr>\n      <th>4</th>\n      <td>300</td>\n      <td>5.972227</td>\n      <td>7.484</td>\n      <td>1.511773</td>\n    </tr>\n  </tbody>\n</table>\n</div>"
     },
     "execution_count": 45,
     "metadata": {},
     "output_type": "execute_result"
    }
   ]
  },
  {
   "cell_type": "markdown",
   "source": [
    "Видно, чем стоимость дома становится больше, тем и среднее кол-во комнат в нём повышается, но не линейно."
   ],
   "metadata": {
    "id": "Equh1j738cW-",
    "pycharm": {
     "name": "#%% md\n"
    }
   }
  },
  {
   "cell_type": "markdown",
   "metadata": {
    "id": "ONM70hmJwwFY",
    "pycharm": {
     "name": "#%% md\n"
    }
   },
   "source": [
    "**5. Выведите ранги значений колонки LSTAT(процент населения с более низким статусом) в домах с самой дорогой стоимостью (значение LSTAT, стоимость, ранг) среди всех знаечений LSTAT. Напишите какой вывод можно сделать по этим данным.**"
   ]
  },
  {
   "cell_type": "code",
   "execution_count": 46,
   "metadata": {
    "id": "_hXFV7JZwwFY",
    "colab": {
     "base_uri": "https://localhost:8080/",
     "height": 519
    },
    "outputId": "d07bf674-cbdb-4b0a-9095-1c3daedb2e0f",
    "pycharm": {
     "name": "#%%\n"
    }
   },
   "outputs": [
    {
     "data": {
      "text/plain": "    LSTAT  MEDV  RankInTotal\n0    1.73  50.0            1\n1    1.92  50.0            2\n2    2.88  50.0            6\n3    2.96  50.0            8\n4    2.97  50.0            9\n5    3.16  50.0           16\n6    3.26  50.0           17\n7    3.32  50.0           18\n8    3.70  50.0           26\n9    3.73  50.0           27\n10   4.45  50.0           41\n11   4.63  50.0           50\n12   5.12  50.0           67\n13   7.44  50.0          142\n14   8.88  50.0          181\n15   9.53  50.0          203",
      "text/html": "<div>\n<style scoped>\n    .dataframe tbody tr th:only-of-type {\n        vertical-align: middle;\n    }\n\n    .dataframe tbody tr th {\n        vertical-align: top;\n    }\n\n    .dataframe thead th {\n        text-align: right;\n    }\n</style>\n<table border=\"1\" class=\"dataframe\">\n  <thead>\n    <tr style=\"text-align: right;\">\n      <th></th>\n      <th>LSTAT</th>\n      <th>MEDV</th>\n      <th>RankInTotal</th>\n    </tr>\n  </thead>\n  <tbody>\n    <tr>\n      <th>0</th>\n      <td>1.73</td>\n      <td>50.0</td>\n      <td>1</td>\n    </tr>\n    <tr>\n      <th>1</th>\n      <td>1.92</td>\n      <td>50.0</td>\n      <td>2</td>\n    </tr>\n    <tr>\n      <th>2</th>\n      <td>2.88</td>\n      <td>50.0</td>\n      <td>6</td>\n    </tr>\n    <tr>\n      <th>3</th>\n      <td>2.96</td>\n      <td>50.0</td>\n      <td>8</td>\n    </tr>\n    <tr>\n      <th>4</th>\n      <td>2.97</td>\n      <td>50.0</td>\n      <td>9</td>\n    </tr>\n    <tr>\n      <th>5</th>\n      <td>3.16</td>\n      <td>50.0</td>\n      <td>16</td>\n    </tr>\n    <tr>\n      <th>6</th>\n      <td>3.26</td>\n      <td>50.0</td>\n      <td>17</td>\n    </tr>\n    <tr>\n      <th>7</th>\n      <td>3.32</td>\n      <td>50.0</td>\n      <td>18</td>\n    </tr>\n    <tr>\n      <th>8</th>\n      <td>3.70</td>\n      <td>50.0</td>\n      <td>26</td>\n    </tr>\n    <tr>\n      <th>9</th>\n      <td>3.73</td>\n      <td>50.0</td>\n      <td>27</td>\n    </tr>\n    <tr>\n      <th>10</th>\n      <td>4.45</td>\n      <td>50.0</td>\n      <td>41</td>\n    </tr>\n    <tr>\n      <th>11</th>\n      <td>4.63</td>\n      <td>50.0</td>\n      <td>50</td>\n    </tr>\n    <tr>\n      <th>12</th>\n      <td>5.12</td>\n      <td>50.0</td>\n      <td>67</td>\n    </tr>\n    <tr>\n      <th>13</th>\n      <td>7.44</td>\n      <td>50.0</td>\n      <td>142</td>\n    </tr>\n    <tr>\n      <th>14</th>\n      <td>8.88</td>\n      <td>50.0</td>\n      <td>181</td>\n    </tr>\n    <tr>\n      <th>15</th>\n      <td>9.53</td>\n      <td>50.0</td>\n      <td>203</td>\n    </tr>\n  </tbody>\n</table>\n</div>"
     },
     "execution_count": 46,
     "metadata": {},
     "output_type": "execute_result"
    }
   ],
   "source": [
    "pd.read_sql(\n",
    "    \"\"\"\n",
    "    SELECT LSTAT, MEDV, RankInTotal\n",
    "    FROM (SELECT *, row_number() OVER(ORDER BY LSTAT) as RankInTotal\n",
    "          FROM boston)\n",
    "    WHERE MEDV = (SELECT MAX(MEDV)\n",
    "                  FROM boston\n",
    "                  ORDER BY MEDV DESC)\n",
    "    \"\"\",\n",
    "    con,\n",
    ")"
   ]
  },
  {
   "cell_type": "markdown",
   "source": [
    "Как видим, среди самых дорогих домов сначала при увеличении LSTAT ранг повышется не сильно, а затем уже где-то с 10 дома начинается резкий рост."
   ],
   "metadata": {
    "collapsed": false,
    "pycharm": {
     "name": "#%% md\n"
    }
   }
  },
  {
   "cell_type": "markdown",
   "metadata": {
    "id": "kL316MVzwwFY",
    "pycharm": {
     "name": "#%% md\n"
    }
   },
   "source": [
    "**6. Выведите среднюю стоимость домов граничащих с рекой(CHAS) и нет (граничит/не граничит, стоимость)**"
   ]
  },
  {
   "cell_type": "code",
   "execution_count": 47,
   "metadata": {
    "colab": {
     "base_uri": "https://localhost:8080/",
     "height": 112
    },
    "id": "GvA27ryqwwFZ",
    "outputId": "d4a6745d-2d68-4b39-b496-639dd4b09073",
    "pycharm": {
     "name": "#%%\n"
    }
   },
   "outputs": [
    {
     "data": {
      "text/plain": "  bounds_with_river  mean_price\n0          Граничит   28.440000\n1       Не граничит   22.093843",
      "text/html": "<div>\n<style scoped>\n    .dataframe tbody tr th:only-of-type {\n        vertical-align: middle;\n    }\n\n    .dataframe tbody tr th {\n        vertical-align: top;\n    }\n\n    .dataframe thead th {\n        text-align: right;\n    }\n</style>\n<table border=\"1\" class=\"dataframe\">\n  <thead>\n    <tr style=\"text-align: right;\">\n      <th></th>\n      <th>bounds_with_river</th>\n      <th>mean_price</th>\n    </tr>\n  </thead>\n  <tbody>\n    <tr>\n      <th>0</th>\n      <td>Граничит</td>\n      <td>28.440000</td>\n    </tr>\n    <tr>\n      <th>1</th>\n      <td>Не граничит</td>\n      <td>22.093843</td>\n    </tr>\n  </tbody>\n</table>\n</div>"
     },
     "execution_count": 47,
     "metadata": {},
     "output_type": "execute_result"
    }
   ],
   "source": [
    "pd.read_sql(\n",
    "    \"\"\"\n",
    "    SELECT 'Граничит' as bounds_with_river,\n",
    "           AVG(MEDV) as mean_price\n",
    "    FROM boston\n",
    "    WHERE CHAS = 1\n",
    "    UNION\n",
    "    SELECT 'Не граничит' as bounds_with_river,\n",
    "           AVG(MEDV) as mean_price\n",
    "    FROM boston\n",
    "    WHERE CHAS = 0\n",
    "    \"\"\",\n",
    "    con,\n",
    ")"
   ]
  },
  {
   "cell_type": "markdown",
   "source": [
    "Или возможен более лаконичный вариант через оконную функцию:"
   ],
   "metadata": {
    "collapsed": false,
    "pycharm": {
     "name": "#%% md\n"
    }
   }
  },
  {
   "cell_type": "code",
   "execution_count": 48,
   "outputs": [
    {
     "data": {
      "text/plain": "   bounds_with_river  mean_price\n0                0.0   22.093843\n1                1.0   28.440000",
      "text/html": "<div>\n<style scoped>\n    .dataframe tbody tr th:only-of-type {\n        vertical-align: middle;\n    }\n\n    .dataframe tbody tr th {\n        vertical-align: top;\n    }\n\n    .dataframe thead th {\n        text-align: right;\n    }\n</style>\n<table border=\"1\" class=\"dataframe\">\n  <thead>\n    <tr style=\"text-align: right;\">\n      <th></th>\n      <th>bounds_with_river</th>\n      <th>mean_price</th>\n    </tr>\n  </thead>\n  <tbody>\n    <tr>\n      <th>0</th>\n      <td>0.0</td>\n      <td>22.093843</td>\n    </tr>\n    <tr>\n      <th>1</th>\n      <td>1.0</td>\n      <td>28.440000</td>\n    </tr>\n  </tbody>\n</table>\n</div>"
     },
     "execution_count": 48,
     "metadata": {},
     "output_type": "execute_result"
    }
   ],
   "source": [
    "pd.read_sql(\n",
    "    \"\"\"\n",
    "    SELECT DISTINCT CHAS as bounds_with_river,\n",
    "           AVG(MEDV) OVER(PARTITION BY CHAS) as mean_price\n",
    "    FROM boston\n",
    "    \"\"\",\n",
    "    con,\n",
    ")"
   ],
   "metadata": {
    "collapsed": false,
    "pycharm": {
     "name": "#%%\n"
    }
   }
  },
  {
   "cell_type": "markdown",
   "metadata": {
    "id": "YF_qF8vbwwFZ",
    "pycharm": {
     "name": "#%% md\n"
    }
   },
   "source": [
    "**7. Выведите все колонки, у которых среднее значение выше, когда дом граничит с рекой (название колонки) выбирая из CRIM, ZN, INDUS, CHAS, NOX. Напишите какой вывод можно сделать по этим данным.**"
   ]
  },
  {
   "cell_type": "code",
   "execution_count": 49,
   "metadata": {
    "id": "JSbrGQkBwwFZ",
    "pycharm": {
     "name": "#%%\n"
    }
   },
   "outputs": [
    {
     "data": {
      "text/plain": "  ColName\n0   INDUS\n1     NOX",
      "text/html": "<div>\n<style scoped>\n    .dataframe tbody tr th:only-of-type {\n        vertical-align: middle;\n    }\n\n    .dataframe tbody tr th {\n        vertical-align: top;\n    }\n\n    .dataframe thead th {\n        text-align: right;\n    }\n</style>\n<table border=\"1\" class=\"dataframe\">\n  <thead>\n    <tr style=\"text-align: right;\">\n      <th></th>\n      <th>ColName</th>\n    </tr>\n  </thead>\n  <tbody>\n    <tr>\n      <th>0</th>\n      <td>INDUS</td>\n    </tr>\n    <tr>\n      <th>1</th>\n      <td>NOX</td>\n    </tr>\n  </tbody>\n</table>\n</div>"
     },
     "execution_count": 49,
     "metadata": {},
     "output_type": "execute_result"
    }
   ],
   "source": [
    "pd.read_sql(\n",
    "    \"\"\"\n",
    "    SELECT ColNAme\n",
    "    FROM (\n",
    "        SELECT 'CRIM' as ColName,\n",
    "               (SELECT AVG(CRIM) FROM boston WHERE CHAS = 1) as AvgValueWithRiver,\n",
    "               (SELECT AVG(CRIM) FROM boston WHERE CHAS = 0) as AvgValueWithoutRiver\n",
    "        UNION\n",
    "        SELECT 'ZN' as ColName,\n",
    "               (SELECT AVG(ZN) FROM boston WHERE CHAS = 1) as AvgValueWithRiver,\n",
    "               (SELECT AVG(ZN) FROM boston WHERE CHAS = 0) as AvgValueWithoutRiver\n",
    "        UNION\n",
    "        SELECT 'INDUS' as ColName,\n",
    "               (SELECT AVG(INDUS) FROM boston WHERE CHAS = 1) as AvgValueWithRiver,\n",
    "               (SELECT AVG(INDUS) FROM boston WHERE CHAS = 0) as AvgValueWithoutRiver\n",
    "        UNION\n",
    "        SELECT 'NOX' as ColName,\n",
    "               (SELECT AVG(NOX) FROM boston WHERE CHAS = 1) as AvgValueWithRiver,\n",
    "               (SELECT AVG(NOX) FROM boston WHERE CHAS = 0) as AvgValueWithoutRiver\n",
    "    )\n",
    "    WHERE AvgValueWithRiver > AvgValueWithoutRiver\n",
    "    \"\"\",\n",
    "    con,\n",
    ")"
   ]
  },
  {
   "cell_type": "markdown",
   "source": [
    "В целом, ожидаемый результат, так как промышленная застройка часто находится у воды, и соответственно выбросы оксидов азота также будут выше там, где есть промышленность и река."
   ],
   "metadata": {
    "collapsed": false,
    "pycharm": {
     "name": "#%% md\n"
    }
   }
  },
  {
   "cell_type": "markdown",
   "metadata": {
    "id": "75277pehwwFZ",
    "pycharm": {
     "name": "#%% md\n"
    }
   },
   "source": [
    "8. Выведите значения долей промышленной застройки(INDUS), концентрации оксидов азота(NOX) и по их перцентилям - 10, 20 ... 100 ( перцетиль(10,20...100),значение INDUS, значение NOX). Напишите прослеживается между ними взаимосвязь"
   ]
  },
  {
   "cell_type": "code",
   "execution_count": 50,
   "outputs": [
    {
     "data": {
      "text/plain": "   Percentile  value_INDUS  value_NOX\n0          10         2.91    0.42700\n1          20         4.39    0.44245\n2          30         5.96    0.47200\n3          40         7.38    0.50700\n4          50         9.69    0.53800\n5          60        12.83    0.57750\n6          70        18.10    0.60500\n7          80        18.10    0.66950\n8          90        19.58    0.71300\n9         100        27.74    0.87100",
      "text/html": "<div>\n<style scoped>\n    .dataframe tbody tr th:only-of-type {\n        vertical-align: middle;\n    }\n\n    .dataframe tbody tr th {\n        vertical-align: top;\n    }\n\n    .dataframe thead th {\n        text-align: right;\n    }\n</style>\n<table border=\"1\" class=\"dataframe\">\n  <thead>\n    <tr style=\"text-align: right;\">\n      <th></th>\n      <th>Percentile</th>\n      <th>value_INDUS</th>\n      <th>value_NOX</th>\n    </tr>\n  </thead>\n  <tbody>\n    <tr>\n      <th>0</th>\n      <td>10</td>\n      <td>2.91</td>\n      <td>0.42700</td>\n    </tr>\n    <tr>\n      <th>1</th>\n      <td>20</td>\n      <td>4.39</td>\n      <td>0.44245</td>\n    </tr>\n    <tr>\n      <th>2</th>\n      <td>30</td>\n      <td>5.96</td>\n      <td>0.47200</td>\n    </tr>\n    <tr>\n      <th>3</th>\n      <td>40</td>\n      <td>7.38</td>\n      <td>0.50700</td>\n    </tr>\n    <tr>\n      <th>4</th>\n      <td>50</td>\n      <td>9.69</td>\n      <td>0.53800</td>\n    </tr>\n    <tr>\n      <th>5</th>\n      <td>60</td>\n      <td>12.83</td>\n      <td>0.57750</td>\n    </tr>\n    <tr>\n      <th>6</th>\n      <td>70</td>\n      <td>18.10</td>\n      <td>0.60500</td>\n    </tr>\n    <tr>\n      <th>7</th>\n      <td>80</td>\n      <td>18.10</td>\n      <td>0.66950</td>\n    </tr>\n    <tr>\n      <th>8</th>\n      <td>90</td>\n      <td>19.58</td>\n      <td>0.71300</td>\n    </tr>\n    <tr>\n      <th>9</th>\n      <td>100</td>\n      <td>27.74</td>\n      <td>0.87100</td>\n    </tr>\n  </tbody>\n</table>\n</div>"
     },
     "execution_count": 50,
     "metadata": {},
     "output_type": "execute_result"
    }
   ],
   "source": [
    "pd.read_sql(\n",
    "    \"\"\"\n",
    "    SELECT 10 as Percentile,\n",
    "           (SELECT AVG(value)\n",
    "           FROM (SELECT INDUS as value\n",
    "                 FROM boston\n",
    "                 ORDER BY INDUS\n",
    "                 LIMIT 2 - (SELECT COUNT(INDUS) FROM boston) % 2\n",
    "                 OFFSET (SELECT (COUNT(INDUS) - 1) * 1 / 10 FROM BOSTON)\n",
    "                 )) as value_INDUS,\n",
    "           (SELECT AVG(value)\n",
    "           FROM (SELECT NOX as value\n",
    "                 FROM boston\n",
    "                 ORDER BY NOX\n",
    "                 LIMIT 2 - (SELECT COUNT(NOX) FROM boston) % 2\n",
    "                 OFFSET (SELECT (COUNT(NOX) - 1) * 1 / 10 FROM BOSTON)\n",
    "                 )) as value_NOX\n",
    "    UNION\n",
    "    SELECT 20 as Percentile,\n",
    "           (SELECT AVG(value)\n",
    "           FROM (SELECT INDUS as value\n",
    "                 FROM boston\n",
    "                 ORDER BY INDUS\n",
    "                 LIMIT 2 - (SELECT COUNT(INDUS) FROM boston) % 2\n",
    "                 OFFSET (SELECT (COUNT(INDUS) - 1) * 2 / 10 FROM BOSTON)\n",
    "                 )) as value_INDUS,\n",
    "           (SELECT AVG(value)\n",
    "           FROM (SELECT NOX as value\n",
    "                 FROM boston\n",
    "                 ORDER BY NOX\n",
    "                 LIMIT 2 - (SELECT COUNT(NOX) FROM boston) % 2\n",
    "                 OFFSET (SELECT (COUNT(NOX) - 1) * 2 / 10 FROM BOSTON)\n",
    "                 )) as value_NOX\n",
    "    UNION\n",
    "    SELECT 30 as Percentile,\n",
    "           (SELECT AVG(value)\n",
    "           FROM (SELECT INDUS as value\n",
    "                 FROM boston\n",
    "                 ORDER BY INDUS\n",
    "                 LIMIT 2 - (SELECT COUNT(INDUS) FROM boston) % 2\n",
    "                 OFFSET (SELECT (COUNT(INDUS) - 1) * 3 / 10 FROM BOSTON)\n",
    "                 )) as value_INDUS,\n",
    "           (SELECT AVG(value)\n",
    "           FROM (SELECT NOX as value\n",
    "                 FROM boston\n",
    "                 ORDER BY NOX\n",
    "                 LIMIT 2 - (SELECT COUNT(NOX) FROM boston) % 2\n",
    "                 OFFSET (SELECT (COUNT(NOX) - 1) * 3 / 10 FROM BOSTON)\n",
    "                 )) as value_NOX\n",
    "    UNION\n",
    "    SELECT 40 as Percentile,\n",
    "           (SELECT AVG(value)\n",
    "           FROM (SELECT INDUS as value\n",
    "                 FROM boston\n",
    "                 ORDER BY INDUS\n",
    "                 LIMIT 2 - (SELECT COUNT(INDUS) FROM boston) % 2\n",
    "                 OFFSET (SELECT (COUNT(INDUS) - 1) * 4 / 10 FROM BOSTON)\n",
    "                 )) as value_INDUS,\n",
    "           (SELECT AVG(value)\n",
    "           FROM (SELECT NOX as value\n",
    "                 FROM boston\n",
    "                 ORDER BY NOX\n",
    "                 LIMIT 2 - (SELECT COUNT(NOX) FROM boston) % 2\n",
    "                 OFFSET (SELECT (COUNT(NOX) - 1) * 4 / 10 FROM BOSTON)\n",
    "                 )) as value_NOX\n",
    "    UNION\n",
    "    SELECT 50 as Percentile,\n",
    "           (SELECT AVG(value)\n",
    "           FROM (SELECT INDUS as value\n",
    "                 FROM boston\n",
    "                 ORDER BY INDUS\n",
    "                 LIMIT 2 - (SELECT COUNT(INDUS) FROM boston) % 2\n",
    "                 OFFSET (SELECT (COUNT(INDUS) - 1) * 5 / 10 FROM BOSTON)\n",
    "                 )) as value_INDUS,\n",
    "           (SELECT AVG(value)\n",
    "           FROM (SELECT NOX as value\n",
    "                 FROM boston\n",
    "                 ORDER BY NOX\n",
    "                 LIMIT 2 - (SELECT COUNT(NOX) FROM boston) % 2\n",
    "                 OFFSET (SELECT (COUNT(NOX) - 1) * 5 / 10 FROM BOSTON)\n",
    "                 )) as value_NOX\n",
    "    UNION\n",
    "    SELECT 60 as Percentile,\n",
    "           (SELECT AVG(value)\n",
    "           FROM (SELECT INDUS as value\n",
    "                 FROM boston\n",
    "                 ORDER BY INDUS\n",
    "                 LIMIT 2 - (SELECT COUNT(INDUS) FROM boston) % 2\n",
    "                 OFFSET (SELECT (COUNT(INDUS) - 1) * 6 / 10 FROM BOSTON)\n",
    "                 )) as value_INDUS,\n",
    "           (SELECT AVG(value)\n",
    "           FROM (SELECT NOX as value\n",
    "                 FROM boston\n",
    "                 ORDER BY NOX\n",
    "                 LIMIT 2 - (SELECT COUNT(NOX) FROM boston) % 2\n",
    "                 OFFSET (SELECT (COUNT(NOX) - 1) * 6 / 10 FROM BOSTON)\n",
    "                 )) as value_NOX\n",
    "    UNION\n",
    "    SELECT 70 as Percentile,\n",
    "           (SELECT AVG(value)\n",
    "           FROM (SELECT INDUS as value\n",
    "                 FROM boston\n",
    "                 ORDER BY INDUS\n",
    "                 LIMIT 2 - (SELECT COUNT(INDUS) FROM boston) % 2\n",
    "                 OFFSET (SELECT (COUNT(INDUS) - 1) * 7 / 10 FROM BOSTON)\n",
    "                 )) as value_INDUS,\n",
    "           (SELECT AVG(value)\n",
    "           FROM (SELECT NOX as value\n",
    "                 FROM boston\n",
    "                 ORDER BY NOX\n",
    "                 LIMIT 2 - (SELECT COUNT(NOX) FROM boston) % 2\n",
    "                 OFFSET (SELECT (COUNT(NOX) - 1) * 7 / 10 FROM BOSTON)\n",
    "                 )) as value_NOX\n",
    "    UNION\n",
    "    SELECT 80 as Percentile,\n",
    "           (SELECT AVG(value)\n",
    "           FROM (SELECT INDUS as value\n",
    "                 FROM boston\n",
    "                 ORDER BY INDUS\n",
    "                 LIMIT 2 - (SELECT COUNT(INDUS) FROM boston) % 2\n",
    "                 OFFSET (SELECT (COUNT(INDUS) - 1) * 8 / 10 FROM BOSTON)\n",
    "                 )) as value_INDUS,\n",
    "           (SELECT AVG(value)\n",
    "           FROM (SELECT NOX as value\n",
    "                 FROM boston\n",
    "                 ORDER BY NOX\n",
    "                 LIMIT 2 - (SELECT COUNT(NOX) FROM boston) % 2\n",
    "                 OFFSET (SELECT (COUNT(NOX) - 1) * 8 / 10 FROM BOSTON)\n",
    "                 )) as value_NOX\n",
    "    UNION\n",
    "    SELECT 90 as Percentile,\n",
    "           (SELECT AVG(value)\n",
    "           FROM (SELECT INDUS as value\n",
    "                 FROM boston\n",
    "                 ORDER BY INDUS\n",
    "                 LIMIT 2 - (SELECT COUNT(INDUS) FROM boston) % 2\n",
    "                 OFFSET (SELECT (COUNT(INDUS) - 1) * 9 / 10 FROM BOSTON)\n",
    "                 )) as value_INDUS,\n",
    "           (SELECT AVG(value)\n",
    "           FROM (SELECT NOX as value\n",
    "                 FROM boston\n",
    "                 ORDER BY NOX\n",
    "                 LIMIT 2 - (SELECT COUNT(NOX) FROM boston) % 2\n",
    "                 OFFSET (SELECT (COUNT(NOX) - 1) * 9 / 10 FROM BOSTON)\n",
    "                 )) as value_NOX\n",
    "    UNION\n",
    "    SELECT 100 as Percentile,\n",
    "           (SELECT AVG(value)\n",
    "           FROM (SELECT INDUS as value\n",
    "                 FROM boston\n",
    "                 ORDER BY INDUS\n",
    "                 LIMIT 2 - (SELECT COUNT(INDUS) FROM boston) % 2\n",
    "                 OFFSET (SELECT (COUNT(INDUS) - 1) FROM BOSTON)\n",
    "                 )) as value_INDUS,\n",
    "           (SELECT AVG(value)\n",
    "           FROM (SELECT NOX as value\n",
    "                 FROM boston\n",
    "                 ORDER BY NOX\n",
    "                 LIMIT 2 - (SELECT COUNT(NOX) FROM boston) % 2\n",
    "                 OFFSET (SELECT (COUNT(NOX) - 1) FROM BOSTON)\n",
    "                 )) as value_NOX\n",
    "    \"\"\",\n",
    "    con,\n",
    ")"
   ],
   "metadata": {
    "collapsed": false,
    "pycharm": {
     "name": "#%%\n"
    }
   }
  },
  {
   "cell_type": "raw",
   "source": [
    "Трудно что-то сказать конкретное, глядя на численное распределение двух величин. Я бы сделал вывод, что значения NOX более равномерно распределены, чем INDUS."
   ],
   "metadata": {
    "collapsed": false,
    "pycharm": {
     "name": "#%% raw\n"
    }
   }
  },
  {
   "cell_type": "code",
   "execution_count": null,
   "outputs": [],
   "source": [],
   "metadata": {
    "collapsed": false,
    "pycharm": {
     "name": "#%%\n"
    }
   }
  }
 ],
 "metadata": {
  "kernelspec": {
   "display_name": "Python 3",
   "language": "python",
   "name": "python3"
  },
  "language_info": {
   "codemirror_mode": {
    "name": "ipython",
    "version": 3
   },
   "file_extension": ".py",
   "mimetype": "text/x-python",
   "name": "python",
   "nbconvert_exporter": "python",
   "pygments_lexer": "ipython3",
   "version": "3.7.6"
  },
  "colab": {
   "provenance": [],
   "collapsed_sections": []
  }
 },
 "nbformat": 4,
 "nbformat_minor": 0
}