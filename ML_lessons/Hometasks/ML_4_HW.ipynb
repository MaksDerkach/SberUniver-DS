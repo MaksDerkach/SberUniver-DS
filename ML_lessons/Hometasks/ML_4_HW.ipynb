{
 "cells": [
  {
   "cell_type": "code",
   "execution_count": 1,
   "metadata": {
    "pycharm": {
     "name": "#%%\n"
    }
   },
   "outputs": [],
   "source": [
    "import pandas as pd\n",
    "import numpy as np\n",
    "import matplotlib.pyplot as plt\n",
    "import seaborn as sns\n",
    "from tqdm import tqdm, tqdm_notebook\n",
    "\n",
    "sns.set_style('darkgrid')"
   ]
  },
  {
   "cell_type": "markdown",
   "metadata": {
    "pycharm": {
     "name": "#%% md\n"
    }
   },
   "source": [
    "https://archive.ics.uci.edu/ml/datasets/wine+quality"
   ]
  },
  {
   "cell_type": "code",
   "execution_count": 2,
   "metadata": {
    "pycharm": {
     "name": "#%%\n"
    }
   },
   "outputs": [
    {
     "data": {
      "text/plain": "   fixed acidity  volatile acidity  citric acid  residual sugar  chlorides  \\\n0            7.4              0.70         0.00             1.9      0.076   \n1            7.8              0.88         0.00             2.6      0.098   \n2            7.8              0.76         0.04             2.3      0.092   \n3           11.2              0.28         0.56             1.9      0.075   \n4            7.4              0.70         0.00             1.9      0.076   \n\n   free sulfur dioxide  total sulfur dioxide  density    pH  sulphates  \\\n0                 11.0                  34.0   0.9978  3.51       0.56   \n1                 25.0                  67.0   0.9968  3.20       0.68   \n2                 15.0                  54.0   0.9970  3.26       0.65   \n3                 17.0                  60.0   0.9980  3.16       0.58   \n4                 11.0                  34.0   0.9978  3.51       0.56   \n\n   alcohol  quality  \n0      9.4        5  \n1      9.8        5  \n2      9.8        5  \n3      9.8        6  \n4      9.4        5  ",
      "text/html": "<div>\n<style scoped>\n    .dataframe tbody tr th:only-of-type {\n        vertical-align: middle;\n    }\n\n    .dataframe tbody tr th {\n        vertical-align: top;\n    }\n\n    .dataframe thead th {\n        text-align: right;\n    }\n</style>\n<table border=\"1\" class=\"dataframe\">\n  <thead>\n    <tr style=\"text-align: right;\">\n      <th></th>\n      <th>fixed acidity</th>\n      <th>volatile acidity</th>\n      <th>citric acid</th>\n      <th>residual sugar</th>\n      <th>chlorides</th>\n      <th>free sulfur dioxide</th>\n      <th>total sulfur dioxide</th>\n      <th>density</th>\n      <th>pH</th>\n      <th>sulphates</th>\n      <th>alcohol</th>\n      <th>quality</th>\n    </tr>\n  </thead>\n  <tbody>\n    <tr>\n      <th>0</th>\n      <td>7.4</td>\n      <td>0.70</td>\n      <td>0.00</td>\n      <td>1.9</td>\n      <td>0.076</td>\n      <td>11.0</td>\n      <td>34.0</td>\n      <td>0.9978</td>\n      <td>3.51</td>\n      <td>0.56</td>\n      <td>9.4</td>\n      <td>5</td>\n    </tr>\n    <tr>\n      <th>1</th>\n      <td>7.8</td>\n      <td>0.88</td>\n      <td>0.00</td>\n      <td>2.6</td>\n      <td>0.098</td>\n      <td>25.0</td>\n      <td>67.0</td>\n      <td>0.9968</td>\n      <td>3.20</td>\n      <td>0.68</td>\n      <td>9.8</td>\n      <td>5</td>\n    </tr>\n    <tr>\n      <th>2</th>\n      <td>7.8</td>\n      <td>0.76</td>\n      <td>0.04</td>\n      <td>2.3</td>\n      <td>0.092</td>\n      <td>15.0</td>\n      <td>54.0</td>\n      <td>0.9970</td>\n      <td>3.26</td>\n      <td>0.65</td>\n      <td>9.8</td>\n      <td>5</td>\n    </tr>\n    <tr>\n      <th>3</th>\n      <td>11.2</td>\n      <td>0.28</td>\n      <td>0.56</td>\n      <td>1.9</td>\n      <td>0.075</td>\n      <td>17.0</td>\n      <td>60.0</td>\n      <td>0.9980</td>\n      <td>3.16</td>\n      <td>0.58</td>\n      <td>9.8</td>\n      <td>6</td>\n    </tr>\n    <tr>\n      <th>4</th>\n      <td>7.4</td>\n      <td>0.70</td>\n      <td>0.00</td>\n      <td>1.9</td>\n      <td>0.076</td>\n      <td>11.0</td>\n      <td>34.0</td>\n      <td>0.9978</td>\n      <td>3.51</td>\n      <td>0.56</td>\n      <td>9.4</td>\n      <td>5</td>\n    </tr>\n  </tbody>\n</table>\n</div>"
     },
     "execution_count": 2,
     "metadata": {},
     "output_type": "execute_result"
    }
   ],
   "source": [
    "data = pd.read_csv('winequality-red.csv', sep = ';')\n",
    "data.head()"
   ]
  },
  {
   "cell_type": "code",
   "execution_count": 3,
   "outputs": [
    {
     "data": {
      "text/plain": "5    681\n6    638\n7    199\n4     53\n8     18\n3     10\nName: quality, dtype: int64"
     },
     "execution_count": 3,
     "metadata": {},
     "output_type": "execute_result"
    }
   ],
   "source": [
    "data.quality.value_counts()"
   ],
   "metadata": {
    "collapsed": false,
    "pycharm": {
     "name": "#%%\n"
    }
   }
  },
  {
   "cell_type": "markdown",
   "metadata": {
    "pycharm": {
     "name": "#%% md\n"
    }
   },
   "source": [
    "1.Разделите выборку на обучающую и тестовую в отношении 70%/30%"
   ]
  },
  {
   "cell_type": "code",
   "execution_count": 4,
   "metadata": {
    "pycharm": {
     "name": "#%%\n"
    }
   },
   "outputs": [
    {
     "name": "stdout",
     "output_type": "stream",
     "text": [
      "Размер тренировочной выборки X_train: (1119, 11)\n",
      "Размер тестовой выборки X_test: (480, 11)\n"
     ]
    }
   ],
   "source": [
    "from sklearn.model_selection import train_test_split\n",
    "\n",
    "X, y = data.drop(axis=1, columns='quality'), data['quality']\n",
    "\n",
    "# так как некторые модели требуют, чтобы метка классов начаналась с 0 до N-1 (где N - число классов)\n",
    "# то вычтем из всех меток минимальный класс\n",
    "y = y - y.min()\n",
    "\n",
    "X_train, X_test, y_train, y_test = train_test_split(X, y, train_size=0.7)\n",
    "\n",
    "print(f'Размер тренировочной выборки X_train: {X_train.shape}')\n",
    "print(f'Размер тестовой выборки X_test: {X_test.shape}')"
   ]
  },
  {
   "cell_type": "markdown",
   "metadata": {
    "pycharm": {
     "name": "#%% md\n"
    }
   },
   "source": [
    "2.Оцените качество по метрике accuracy для классификаторов:\n",
    "\n",
    "DecisionTreeClassifier\n",
    "\n",
    "BaggingClassifier со 100 деревьями\n",
    "\n",
    "RandomForestClassifier со 100 деревьями\n",
    "\n",
    "Сравните результаты и напишите какой вывод можно сделать."
   ]
  },
  {
   "cell_type": "code",
   "execution_count": 5,
   "metadata": {
    "pycharm": {
     "name": "#%%\n"
    }
   },
   "outputs": [
    {
     "name": "stdout",
     "output_type": "stream",
     "text": [
      "Accuracy для DecisionTreeClassifier: 0.5958\n",
      "Accuracy для BaggingClassifier: 0.6438\n",
      "Accuracy для RandomForestClassifier: 0.6521\n"
     ]
    }
   ],
   "source": [
    "from sklearn.ensemble import BaggingClassifier, RandomForestClassifier\n",
    "from sklearn.tree import DecisionTreeClassifier\n",
    "from sklearn.metrics import accuracy_score\n",
    "\n",
    "models = [DecisionTreeClassifier(),\n",
    "          BaggingClassifier(base_estimator=DecisionTreeClassifier(), n_estimators=100),\n",
    "          RandomForestClassifier(n_estimators=100)]\n",
    "\n",
    "model_names = ['DecisionTreeClassifier', 'BaggingClassifier', 'RandomForestClassifier']\n",
    "\n",
    "for model, model_name in zip(models, model_names):\n",
    "    current_model = model.fit(X_train, y_train)\n",
    "    y_pred = current_model.predict(X_test)\n",
    "    score = accuracy_score(y_test, y_pred)\n",
    "    print(f'Accuracy для {model_name}: {score:.4f}')"
   ]
  },
  {
   "cell_type": "markdown",
   "source": [
    "Можно сделать вывод, что модель RandomForest при стандартных параметрах показывает наилучший результат. Хотя все три алгоритма основаны на решающих деревьях, именно их комбинация позволяет повысить метрику accuracy."
   ],
   "metadata": {
    "collapsed": false,
    "pycharm": {
     "name": "#%% md\n"
    }
   }
  },
  {
   "cell_type": "markdown",
   "metadata": {
    "pycharm": {
     "name": "#%% md\n"
    }
   },
   "source": [
    "3.Посчитайте качество на тестовой выборке по метрике accuracy для классификатора RandomForestClassifier, используя значения деревьев:\n",
    "    \n",
    "10, 50, 100, 200, далее с шагом 200 до 5000 деревьев.\n",
    "Постройте график зависимости качества от числа деревьев.\n",
    "\n"
   ]
  },
  {
   "cell_type": "code",
   "execution_count": 6,
   "metadata": {
    "pycharm": {
     "name": "#%%\n"
    }
   },
   "outputs": [
    {
     "name": "stderr",
     "output_type": "stream",
     "text": [
      "100%|██████████| 29/29 [04:07<00:00,  8.53s/it]\n"
     ]
    },
    {
     "data": {
      "text/plain": "Text(0, 0.5, 'Accuracy')"
     },
     "execution_count": 6,
     "metadata": {},
     "output_type": "execute_result"
    },
    {
     "data": {
      "text/plain": "<Figure size 720x360 with 1 Axes>",
      "image/png": "[encoded data removed]"
     },
     "metadata": {},
     "output_type": "display_data"
    }
   ],
   "source": [
    "score_vs_num_estims = []\n",
    "\n",
    "num_estimators = [10, 50, 100, 200] + list(range(200, 5200, 200))\n",
    "\n",
    "for n_estims in tqdm(num_estimators):\n",
    "    model = RandomForestClassifier(n_estimators=n_estims).fit(X_train, y_train)\n",
    "    y_pred = model.predict(X_test)\n",
    "    score = accuracy_score(y_test, y_pred)\n",
    "    score_vs_num_estims.append(score)\n",
    "\n",
    "plt.figure(figsize=(10, 5))\n",
    "plt.plot(num_estimators, score_vs_num_estims)\n",
    "plt.xlabel('num_estimators')\n",
    "plt.ylabel('Accuracy')"
   ]
  },
  {
   "cell_type": "markdown",
   "metadata": {
    "pycharm": {
     "name": "#%% md\n"
    }
   },
   "source": [
    "4.Обучите реализации градиентного бустинга с параметрами по умолчанию из библиотек sklearn и xgboost. Сравните значение метрики accuracy по cross_val_score"
   ]
  },
  {
   "cell_type": "code",
   "execution_count": 7,
   "metadata": {
    "pycharm": {
     "name": "#%%\n"
    }
   },
   "outputs": [
    {
     "name": "stdout",
     "output_type": "stream",
     "text": [
      "Accuracy для модели GradientBoostingClassifier: 0.5472\n",
      "Accuracy для модели XGBClassifier: 0.5253\n"
     ]
    }
   ],
   "source": [
    "from sklearn.ensemble import GradientBoostingClassifier\n",
    "from xgboost import XGBClassifier\n",
    "from sklearn.model_selection import cross_val_score\n",
    "\n",
    "models = [GradientBoostingClassifier(), XGBClassifier()]\n",
    "model_names = ['GradientBoostingClassifier', 'XGBClassifier']\n",
    "\n",
    "for model, model_name in zip(models, model_names):\n",
    "    score = cross_val_score(model, X, y, cv=4, scoring='accuracy')\n",
    "    print(f'Accuracy для модели {model_name}: {score.mean():.4f}')"
   ]
  },
  {
   "cell_type": "markdown",
   "metadata": {
    "pycharm": {
     "name": "#%% md\n"
    }
   },
   "source": [
    "5.Подберите оптимальные параметры этих алгоритмов с помощью GridSearchCV(cv=3).\n",
    "Параметры для оптимизации:\n",
    "\n",
    "скорость обучения\n",
    "\n",
    "количество деревьев\n",
    "\n",
    "глубина деревьев\n",
    "\n",
    "Сравните значение метрики accuracy и скорость работы. Выведите лучшие параметры алгоритмов."
   ]
  },
  {
   "cell_type": "markdown",
   "source": [
    "Подберём оптимальные параметры для GradientBoostingClassifier:"
   ],
   "metadata": {
    "collapsed": false,
    "pycharm": {
     "name": "#%% md\n"
    }
   }
  },
  {
   "cell_type": "code",
   "execution_count": 36,
   "metadata": {
    "pycharm": {
     "name": "#%%\n"
    }
   },
   "outputs": [
    {
     "name": "stdout",
     "output_type": "stream",
     "text": [
      "Fitting 3 folds for each of 440 candidates, totalling 1320 fits\n",
      "CPU times: total: 18min 38s\n",
      "Wall time: 18min 49s\n"
     ]
    },
    {
     "data": {
      "text/plain": "GridSearchCV(cv=3,\n             estimator=Pipeline(steps=[('model',\n                                        GradientBoostingClassifier())]),\n             param_grid={'model': [GradientBoostingClassifier(max_depth=1,\n                                                              n_estimators=90)],\n                         'model__learning_rate': array([1.e-05, 1.e-04, 1.e-03, 1.e-02, 1.e-01, 1.e+00, 1.e+01, 1.e+02,\n       1.e+03, 1.e+04, 1.e+05]),\n                         'model__max_depth': range(1, 5),\n                         'model__n_estimators': range(10, 110, 10)},\n             scoring='accuracy', verbose=1)"
     },
     "execution_count": 36,
     "metadata": {},
     "output_type": "execute_result"
    }
   ],
   "source": [
    "%%time\n",
    "from sklearn.pipeline import Pipeline\n",
    "from sklearn.model_selection import GridSearchCV\n",
    "\n",
    "estimator = Pipeline([('model', GradientBoostingClassifier())])\n",
    "\n",
    "parameters = {\n",
    "        'model': [GradientBoostingClassifier()],\n",
    "        'model__learning_rate': 10 ** np.linspace(-5, 5, 11),\n",
    "        'model__max_depth': range(1, 5),\n",
    "        'model__n_estimators': range(10, 110, 10)\n",
    "}\n",
    "\n",
    "\n",
    "grd = GridSearchCV(estimator=estimator,\n",
    "                   param_grid=parameters,\n",
    "                   cv=3,\n",
    "                   scoring='accuracy', verbose=1)\n",
    "\n",
    "grd.fit(X, y)"
   ]
  },
  {
   "cell_type": "code",
   "execution_count": 37,
   "outputs": [
    {
     "data": {
      "text/plain": "({'model': GradientBoostingClassifier(max_depth=1, n_estimators=90),\n  'model__learning_rate': 0.1,\n  'model__max_depth': 1,\n  'model__n_estimators': 90},\n 0.5697310819262039)"
     },
     "execution_count": 37,
     "metadata": {},
     "output_type": "execute_result"
    }
   ],
   "source": [
    "grd.best_params_, grd.best_score_"
   ],
   "metadata": {
    "collapsed": false,
    "pycharm": {
     "name": "#%%\n"
    }
   }
  },
  {
   "cell_type": "markdown",
   "source": [
    "Подберём оптимальные параметры для XGBClassifier:"
   ],
   "metadata": {
    "collapsed": false,
    "pycharm": {
     "name": "#%% md\n"
    }
   }
  },
  {
   "cell_type": "code",
   "execution_count": 40,
   "outputs": [
    {
     "name": "stdout",
     "output_type": "stream",
     "text": [
      "Fitting 3 folds for each of 440 candidates, totalling 1320 fits\n",
      "CPU times: total: 16min 22s\n",
      "Wall time: 3min 11s\n"
     ]
    },
    {
     "data": {
      "text/plain": "GridSearchCV(cv=3,\n             estimator=Pipeline(steps=[('model',\n                                        XGBClassifier(base_score=None,\n                                                      booster=None,\n                                                      callbacks=None,\n                                                      colsample_bylevel=None,\n                                                      colsample_bynode=None,\n                                                      colsample_bytree=None,\n                                                      early_stopping_rounds=None,\n                                                      enable_categorical=False,\n                                                      eval_metric=None,\n                                                      feature_types=None,\n                                                      gamma=None, gpu_id=None,\n                                                      grow_policy=None,\n                                                      importance_type=None,\n                                                      interaction_constraints...\n                                                 min_child_weight=None,\n                                                 missing=nan,\n                                                 monotone_constraints=None,\n                                                 n_estimators=20, n_jobs=None,\n                                                 num_parallel_tree=None,\n                                                 predictor=None,\n                                                 random_state=None, ...)],\n                         'model__learning_rate': array([1.e-05, 1.e-04, 1.e-03, 1.e-02, 1.e-01, 1.e+00, 1.e+01, 1.e+02,\n       1.e+03, 1.e+04, 1.e+05]),\n                         'model__max_depth': range(1, 5),\n                         'model__n_estimators': range(10, 110, 10)},\n             scoring='accuracy', verbose=1)"
     },
     "execution_count": 40,
     "metadata": {},
     "output_type": "execute_result"
    }
   ],
   "source": [
    "%%time\n",
    "estimator = Pipeline([('model', XGBClassifier())])\n",
    "\n",
    "parameters = {\n",
    "    'model': [XGBClassifier()],\n",
    "    'model__learning_rate': 10 ** np.linspace(-5, 5, 11),\n",
    "    'model__max_depth': range(1, 5),\n",
    "    'model__n_estimators': range(10, 110, 10)\n",
    "}\n",
    "\n",
    "\n",
    "grd = GridSearchCV(estimator=estimator,\n",
    "                   param_grid=parameters,\n",
    "                   cv=3,\n",
    "                   scoring='accuracy', verbose=1)\n",
    "\n",
    "grd.fit(X, y);"
   ],
   "metadata": {
    "collapsed": false,
    "pycharm": {
     "name": "#%%\n"
    }
   }
  },
  {
   "cell_type": "code",
   "execution_count": 42,
   "outputs": [
    {
     "data": {
      "text/plain": "({'model': XGBClassifier(base_score=None, booster=None, callbacks=None,\n                colsample_bylevel=None, colsample_bynode=None,\n                colsample_bytree=None, early_stopping_rounds=None,\n                enable_categorical=False, eval_metric=None, feature_types=None,\n                gamma=None, gpu_id=None, grow_policy=None, importance_type=None,\n                interaction_constraints=None, learning_rate=0.1, max_bin=None,\n                max_cat_threshold=None, max_cat_to_onehot=None,\n                max_delta_step=None, max_depth=4, max_leaves=None,\n                min_child_weight=None, missing=nan, monotone_constraints=None,\n                n_estimators=20, n_jobs=None, num_parallel_tree=None,\n                predictor=None, random_state=None, ...),\n  'model__learning_rate': 0.1,\n  'model__max_depth': 4,\n  'model__n_estimators': 20},\n 0.5859912445278299)"
     },
     "execution_count": 42,
     "metadata": {},
     "output_type": "execute_result"
    }
   ],
   "source": [
    "grd.best_params_, grd.best_score_"
   ],
   "metadata": {
    "collapsed": false,
    "pycharm": {
     "name": "#%%\n"
    }
   }
  },
  {
   "cell_type": "markdown",
   "source": [
    "Модель XGBoost обучается быстрее и имеет более высокое значение accuracy."
   ],
   "metadata": {
    "collapsed": false,
    "pycharm": {
     "name": "#%% md\n"
    }
   }
  },
  {
   "cell_type": "markdown",
   "metadata": {
    "pycharm": {
     "name": "#%% md\n"
    }
   },
   "source": [
    "6.Обучите реализации градиентного бустинга с параметрами по умолчанию из библиотек lightgbm и catboost. Сравните значение метрики accuracy по cross_val_score по всем четырем реализациям."
   ]
  },
  {
   "cell_type": "code",
   "execution_count": 43,
   "outputs": [
    {
     "name": "stdout",
     "output_type": "stream",
     "text": [
      "Accuracy для модели CatBoostClassifier: 0.5360\n",
      "Accuracy для модели LGBMClassifier: 0.5304\n"
     ]
    }
   ],
   "source": [
    "from catboost import CatBoostClassifier\n",
    "from lightgbm import LGBMClassifier\n",
    "\n",
    "models = [CatBoostClassifier(verbose=False), LGBMClassifier()]\n",
    "model_names = ['CatBoostClassifier', 'LGBMClassifier']\n",
    "\n",
    "for model, model_name in zip(models, model_names):\n",
    "    score = cross_val_score(model, X, y, cv=4, scoring='accuracy')\n",
    "    print(f'Accuracy для модели {model_name}: {score.mean():.4f}')"
   ],
   "metadata": {
    "collapsed": false,
    "pycharm": {
     "name": "#%%\n"
    }
   }
  },
  {
   "cell_type": "markdown",
   "source": [
    "Среди 4-х моделей с параметрами по умолчанию самые высокие показатели accuracy у GradientBoostingClassifier."
   ],
   "metadata": {
    "collapsed": false,
    "pycharm": {
     "name": "#%% md\n"
    }
   }
  },
  {
   "cell_type": "markdown",
   "metadata": {
    "pycharm": {
     "name": "#%% md\n"
    }
   },
   "source": [
    "7.Подберите оптимальные параметры для алгоритмов градиентного бустинга из библиотек lightgbm и catboost с теми же условиями. Выведите лучшие параметры алгоритмов.\n",
    "Сравните значение метрики accuracy и скорость по этим четырем реализациям."
   ]
  },
  {
   "cell_type": "markdown",
   "source": [
    "Подберём оптимальные параметры для CatBoostClassifier:"
   ],
   "metadata": {
    "collapsed": false,
    "pycharm": {
     "name": "#%% md\n"
    }
   }
  },
  {
   "cell_type": "code",
   "execution_count": 46,
   "metadata": {
    "pycharm": {
     "name": "#%%\n"
    }
   },
   "outputs": [
    {
     "name": "stdout",
     "output_type": "stream",
     "text": [
      "Fitting 3 folds for each of 240 candidates, totalling 720 fits\n",
      "CPU times: total: 6min 5s\n",
      "Wall time: 1min 37s\n"
     ]
    },
    {
     "data": {
      "text/plain": "GridSearchCV(cv=3,\n             estimator=Pipeline(steps=[('model',\n                                        <catboost.core.CatBoostClassifier object at 0x000001BFA367B1C0>)]),\n             param_grid={'model': [<catboost.core.CatBoostClassifier object at 0x000001BFA367B460>],\n                         'model__depth': range(1, 5),\n                         'model__iterations': range(10, 110, 10),\n                         'model__learning_rate': array([1.e-05, 1.e-04, 1.e-03, 1.e-02, 1.e-01, 1.e+00])},\n             scoring='accuracy', verbose=1)"
     },
     "execution_count": 46,
     "metadata": {},
     "output_type": "execute_result"
    }
   ],
   "source": [
    "%%time\n",
    "estimator = Pipeline([('model', CatBoostClassifier(verbose=False))])\n",
    "\n",
    "parameters = {\n",
    "    'model': [CatBoostClassifier(verbose=False)],\n",
    "    'model__learning_rate': 10 ** np.linspace(-5, 0, 6),\n",
    "    'model__depth': range(1, 5),\n",
    "    'model__iterations': range(10, 110, 10)\n",
    "}\n",
    "\n",
    "\n",
    "grd = GridSearchCV(estimator=estimator,\n",
    "                   param_grid=parameters,\n",
    "                   cv=3,\n",
    "                   scoring='accuracy', verbose=1)\n",
    "\n",
    "grd.fit(X, y)"
   ]
  },
  {
   "cell_type": "code",
   "execution_count": 48,
   "outputs": [
    {
     "data": {
      "text/plain": "({'model': <catboost.core.CatBoostClassifier at 0x1bfa367b460>,\n  'model__depth': 4,\n  'model__iterations': 40,\n  'model__learning_rate': 0.1},\n 0.5934959349593497)"
     },
     "execution_count": 48,
     "metadata": {},
     "output_type": "execute_result"
    }
   ],
   "source": [
    "grd.best_params_, grd.best_score_"
   ],
   "metadata": {
    "collapsed": false,
    "pycharm": {
     "name": "#%%\n"
    }
   }
  },
  {
   "cell_type": "markdown",
   "source": [
    "Подберём оптимальные параметры для LGBMClassifier:"
   ],
   "metadata": {
    "collapsed": false,
    "pycharm": {
     "name": "#%% md\n"
    }
   }
  },
  {
   "cell_type": "code",
   "execution_count": 52,
   "outputs": [
    {
     "name": "stdout",
     "output_type": "stream",
     "text": [
      "Fitting 3 folds for each of 440 candidates, totalling 1320 fits\n",
      "CPU times: total: 6min 9s\n",
      "Wall time: 1min 6s\n"
     ]
    },
    {
     "data": {
      "text/plain": "GridSearchCV(cv=3, estimator=Pipeline(steps=[('model', LGBMClassifier())]),\n             param_grid={'model': [LGBMClassifier(max_depth=1,\n                                                  n_estimators=60)],\n                         'model__learning_rate': array([1.e-05, 1.e-04, 1.e-03, 1.e-02, 1.e-01, 1.e+00, 1.e+01, 1.e+02,\n       1.e+03, 1.e+04, 1.e+05]),\n                         'model__max_depth': range(1, 5),\n                         'model__n_estimators': range(10, 110, 10)},\n             scoring='accuracy', verbose=1)"
     },
     "execution_count": 52,
     "metadata": {},
     "output_type": "execute_result"
    }
   ],
   "source": [
    "%%time\n",
    "estimator = Pipeline([('model', LGBMClassifier())])\n",
    "\n",
    "parameters = {\n",
    "    'model': [LGBMClassifier()],\n",
    "    'model__learning_rate': 10 ** np.linspace(-5, 5, 11),\n",
    "    'model__max_depth': range(1, 5),\n",
    "    'model__n_estimators': range(10, 110, 10)\n",
    "}\n",
    "\n",
    "\n",
    "grd = GridSearchCV(estimator=estimator,\n",
    "                   param_grid=parameters,\n",
    "                   cv=3,\n",
    "                   scoring='accuracy', verbose=1)\n",
    "\n",
    "grd.fit(X, y)"
   ],
   "metadata": {
    "collapsed": false,
    "pycharm": {
     "name": "#%%\n"
    }
   }
  },
  {
   "cell_type": "code",
   "execution_count": 53,
   "outputs": [
    {
     "data": {
      "text/plain": "({'model': LGBMClassifier(max_depth=1, n_estimators=60),\n  'model__learning_rate': 0.1,\n  'model__max_depth': 1,\n  'model__n_estimators': 60},\n 0.5772357723577236)"
     },
     "execution_count": 53,
     "metadata": {},
     "output_type": "execute_result"
    }
   ],
   "source": [
    "grd.best_params_, grd.best_score_"
   ],
   "metadata": {
    "collapsed": false,
    "pycharm": {
     "name": "#%%\n"
    }
   }
  },
  {
   "cell_type": "markdown",
   "source": [
    "Лучший результат при подборе гиперпараметров (в том числе и их поиск) показала модель CatBoostClassifier."
   ],
   "metadata": {
    "collapsed": false,
    "pycharm": {
     "name": "#%% md\n"
    }
   }
  },
  {
   "cell_type": "markdown",
   "metadata": {
    "pycharm": {
     "name": "#%% md\n"
    }
   },
   "source": [
    "8.Подберите оптимальные параметры алгоритма из библиотеки xgbost с помощью [optuna](https://github.com/optuna/optuna) . Параметры для оптимизации:\n",
    "\n",
    "скорость обучения\n",
    "\n",
    "количество деревьев\n",
    "\n",
    "глубина деревьев\n",
    "\n",
    "Сравните результат с поиском по сетке из sklearn. Выведите лучшие параметры алгоритма, найденные даным способом."
   ]
  },
  {
   "cell_type": "code",
   "execution_count": 55,
   "metadata": {
    "pycharm": {
     "name": "#%%\n"
    }
   },
   "outputs": [],
   "source": [
    "import optuna\n",
    "import xgboost as xgb\n",
    "import functools"
   ]
  },
  {
   "cell_type": "code",
   "execution_count": 81,
   "outputs": [],
   "source": [
    "def opt(X_train, y_train, X_test, y_test, trial):\n",
    "    #param_list\n",
    "    n_estimators = trial.suggest_int('n_estimators', 1, 100)\n",
    "    max_depth = trial.suggest_int('max_depth', 1, 10)\n",
    "    learning_rate = trial.suggest_loguniform(\"learning_rate\", 1e-8, 1.0)\n",
    "\n",
    "    xgboost_tuna = xgb.XGBClassifier(\n",
    "        n_estimators = n_estimators,\n",
    "        max_depth = max_depth,\n",
    "        learning_rate = learning_rate\n",
    "    )\n",
    "    xgboost_tuna.fit(X_train, y_train)\n",
    "    tuna_pred_test = xgboost_tuna.predict(X_test)\n",
    "\n",
    "    return accuracy_score(y_test, tuna_pred_test)"
   ],
   "metadata": {
    "collapsed": false,
    "pycharm": {
     "name": "#%%\n"
    }
   }
  },
  {
   "cell_type": "code",
   "execution_count": null,
   "outputs": [],
   "source": [
    "study = optuna.create_study(direction='maximize')\n",
    "study.optimize(functools.partial(opt, X_train, y_train, X_test, y_test), n_trials=100, show_progress_bar=False);"
   ],
   "metadata": {
    "collapsed": false,
    "pycharm": {
     "name": "#%%\n",
     "is_executing": true
    }
   }
  },
  {
   "cell_type": "code",
   "execution_count": 83,
   "outputs": [
    {
     "data": {
      "text/plain": "{'n_estimators': 54, 'max_depth': 10, 'learning_rate': 0.28172063308775025}"
     },
     "execution_count": 83,
     "metadata": {},
     "output_type": "execute_result"
    }
   ],
   "source": [
    "study.best_params"
   ],
   "metadata": {
    "collapsed": false,
    "pycharm": {
     "name": "#%%\n"
    }
   }
  },
  {
   "cell_type": "code",
   "execution_count": 84,
   "outputs": [
    {
     "data": {
      "text/plain": "XGBClassifier(base_score=0.5, booster='gbtree', callbacks=None,\n              colsample_bylevel=1, colsample_bynode=1, colsample_bytree=1,\n              early_stopping_rounds=None, enable_categorical=False,\n              eval_metric=None, feature_types=None, gamma=0, gpu_id=-1,\n              grow_policy='depthwise', importance_type=None,\n              interaction_constraints='', learning_rate=0.28172063308775025,\n              max_bin=256, max_cat_threshold=64, max_cat_to_onehot=4,\n              max_delta_step=0, max_depth=10, max_leaves=0, min_child_weight=1,\n              missing=nan, monotone_constraints='()', n_estimators=54, n_jobs=0,\n              num_parallel_tree=1, objective='multi:softprob', predictor='auto', ...)"
     },
     "execution_count": 84,
     "metadata": {},
     "output_type": "execute_result"
    }
   ],
   "source": [
    "clf = xgb.XGBClassifier(**study.best_params)\n",
    "clf.fit(X_train, y_train)"
   ],
   "metadata": {
    "collapsed": false,
    "pycharm": {
     "name": "#%%\n"
    }
   }
  },
  {
   "cell_type": "code",
   "execution_count": 85,
   "outputs": [
    {
     "data": {
      "text/plain": "0.6854166666666667"
     },
     "execution_count": 85,
     "metadata": {},
     "output_type": "execute_result"
    }
   ],
   "source": [
    "accuracy_score(y_test, clf.predict(X_test))"
   ],
   "metadata": {
    "collapsed": false,
    "pycharm": {
     "name": "#%%\n"
    }
   }
  },
  {
   "cell_type": "markdown",
   "source": [
    "При использовании библиотеки optuna при подборе гиперпараметров для XGBClassifier значение метрики accuracy достигает очень высоких значений по сравнению с другими моделями."
   ],
   "metadata": {
    "collapsed": false,
    "pycharm": {
     "name": "#%% md\n"
    }
   }
  },
  {
   "cell_type": "markdown",
   "metadata": {
    "pycharm": {
     "name": "#%% md\n"
    }
   },
   "source": [
    "9.Выведите качество по метрике accuracy стэкинга (StackingClassifier) 4-х алгоритмов с базовыми параметрами градиентного бустинга."
   ]
  },
  {
   "cell_type": "code",
   "execution_count": 86,
   "metadata": {
    "pycharm": {
     "name": "#%%\n"
    }
   },
   "outputs": [
    {
     "name": "stderr",
     "output_type": "stream",
     "text": [
      "C:\\Users\\MaxVladislava\\anaconda3\\lib\\site-packages\\sklearn\\linear_model\\_logistic.py:814: ConvergenceWarning: lbfgs failed to converge (status=1):\n",
      "STOP: TOTAL NO. of ITERATIONS REACHED LIMIT.\n",
      "\n",
      "Increase the number of iterations (max_iter) or scale the data as shown in:\n",
      "    https://scikit-learn.org/stable/modules/preprocessing.html\n",
      "Please also refer to the documentation for alternative solver options:\n",
      "    https://scikit-learn.org/stable/modules/linear_model.html#logistic-regression\n",
      "  n_iter_i = _check_optimize_result(\n"
     ]
    },
    {
     "data": {
      "text/plain": "0.6479166666666667"
     },
     "execution_count": 86,
     "metadata": {},
     "output_type": "execute_result"
    }
   ],
   "source": [
    "from sklearn.ensemble import StackingClassifier\n",
    "from sklearn.linear_model import LogisticRegression\n",
    "\n",
    "estimators = [('GradientBoostingClassifier', GradientBoostingClassifier()),\n",
    "              ('xgb', XGBClassifier()),\n",
    "              ('catb', CatBoostClassifier(verbose=False)),\n",
    "              ('lgbm', LGBMClassifier())]\n",
    "\n",
    "clf = StackingClassifier(estimators=estimators, final_estimator=LogisticRegression())\n",
    "\n",
    "clf.fit(X_train, y_train)\n",
    "accuracy_score(y_test, clf.predict(X_test))"
   ]
  },
  {
   "cell_type": "markdown",
   "metadata": {
    "pycharm": {
     "name": "#%% md\n"
    }
   },
   "source": [
    "10.Выведите качество по метрике accuracy стэкинга 4-х алгоритмов с оптимальными параметрами градиентного бустинга. Сравните результаты с предыдущим шагом и напишите какой вывод можно из этого сделать."
   ]
  },
  {
   "cell_type": "code",
   "execution_count": 87,
   "outputs": [
    {
     "data": {
      "text/plain": "0.6708333333333333"
     },
     "execution_count": 87,
     "metadata": {},
     "output_type": "execute_result"
    }
   ],
   "source": [
    "estimators = [('GradientBoostingClassifier', GradientBoostingClassifier(max_depth=1, n_estimators=90, learning_rate=0.1)),\n",
    "              ('xgb', XGBClassifier(**study.best_params)),\n",
    "              ('catb', CatBoostClassifier(verbose=False, depth=4, iterations=40, learning_rate=0.1)),\n",
    "              ('lgbm', LGBMClassifier(max_depth=1, n_estimators=60, learning_rate=0.1))]\n",
    "\n",
    "clf = StackingClassifier(estimators=estimators, final_estimator=LogisticRegression())\n",
    "\n",
    "clf.fit(X_train, y_train)\n",
    "accuracy_score(y_test, clf.predict(X_test))"
   ],
   "metadata": {
    "collapsed": false,
    "pycharm": {
     "name": "#%%\n"
    }
   }
  },
  {
   "cell_type": "markdown",
   "source": [
    "Результат со стекингом из 4-х моделей получился почти таким же как и у единичной модели XGBClassifier с подобранными гиперпараметрами, при этом метрика accuracy выше, если брать модели уже с подобранными гиперпараметрами (когда применяется только одна модель), чем с параметрами по умолчанию."
   ],
   "metadata": {
    "collapsed": false,
    "pycharm": {
     "name": "#%% md\n"
    }
   }
  },
  {
   "cell_type": "code",
   "execution_count": null,
   "outputs": [],
   "source": [],
   "metadata": {
    "collapsed": false,
    "pycharm": {
     "name": "#%%\n"
    }
   }
  }
 ],
 "metadata": {
  "kernelspec": {
   "display_name": "Python 3",
   "language": "python",
   "name": "python3"
  },
  "language_info": {
   "codemirror_mode": {
    "name": "ipython",
    "version": 3
   },
   "file_extension": ".py",
   "mimetype": "text/x-python",
   "name": "python",
   "nbconvert_exporter": "python",
   "pygments_lexer": "ipython3",
   "version": "3.7.6"
  }
 },
 "nbformat": 4,
 "nbformat_minor": 2
}