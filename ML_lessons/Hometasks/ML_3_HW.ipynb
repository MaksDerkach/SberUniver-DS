{
 "cells": [
  {
   "cell_type": "code",
   "execution_count": 1,
   "metadata": {
    "pycharm": {
     "name": "#%%\n"
    }
   },
   "outputs": [],
   "source": [
    "from sklearn.datasets import load_boston\n",
    "import pandas as pd\n",
    "import numpy as np\n",
    "\n",
    "import warnings\n",
    "warnings.filterwarnings(\"ignore\")"
   ]
  },
  {
   "cell_type": "code",
   "execution_count": 2,
   "metadata": {
    "pycharm": {
     "name": "#%%\n"
    }
   },
   "outputs": [],
   "source": [
    "RANDOM_STATE = 42"
   ]
  },
  {
   "cell_type": "code",
   "execution_count": 3,
   "metadata": {
    "pycharm": {
     "name": "#%%\n"
    }
   },
   "outputs": [],
   "source": [
    "# downloading data\n",
    "dataset = load_boston()\n",
    "\n",
    "X = pd.DataFrame(dataset.data)\n",
    "X.columns = dataset.feature_names\n",
    "\n",
    "y = dataset.target"
   ]
  },
  {
   "cell_type": "code",
   "execution_count": 4,
   "outputs": [
    {
     "data": {
      "text/plain": "      CRIM    ZN  INDUS  CHAS    NOX     RM   AGE     DIS  RAD    TAX  \\\n0  0.00632  18.0   2.31   0.0  0.538  6.575  65.2  4.0900  1.0  296.0   \n1  0.02731   0.0   7.07   0.0  0.469  6.421  78.9  4.9671  2.0  242.0   \n2  0.02729   0.0   7.07   0.0  0.469  7.185  61.1  4.9671  2.0  242.0   \n3  0.03237   0.0   2.18   0.0  0.458  6.998  45.8  6.0622  3.0  222.0   \n4  0.06905   0.0   2.18   0.0  0.458  7.147  54.2  6.0622  3.0  222.0   \n\n   PTRATIO       B  LSTAT  \n0     15.3  396.90   4.98  \n1     17.8  396.90   9.14  \n2     17.8  392.83   4.03  \n3     18.7  394.63   2.94  \n4     18.7  396.90   5.33  ",
      "text/html": "<div>\n<style scoped>\n    .dataframe tbody tr th:only-of-type {\n        vertical-align: middle;\n    }\n\n    .dataframe tbody tr th {\n        vertical-align: top;\n    }\n\n    .dataframe thead th {\n        text-align: right;\n    }\n</style>\n<table border=\"1\" class=\"dataframe\">\n  <thead>\n    <tr style=\"text-align: right;\">\n      <th></th>\n      <th>CRIM</th>\n      <th>ZN</th>\n      <th>INDUS</th>\n      <th>CHAS</th>\n      <th>NOX</th>\n      <th>RM</th>\n      <th>AGE</th>\n      <th>DIS</th>\n      <th>RAD</th>\n      <th>TAX</th>\n      <th>PTRATIO</th>\n      <th>B</th>\n      <th>LSTAT</th>\n    </tr>\n  </thead>\n  <tbody>\n    <tr>\n      <th>0</th>\n      <td>0.00632</td>\n      <td>18.0</td>\n      <td>2.31</td>\n      <td>0.0</td>\n      <td>0.538</td>\n      <td>6.575</td>\n      <td>65.2</td>\n      <td>4.0900</td>\n      <td>1.0</td>\n      <td>296.0</td>\n      <td>15.3</td>\n      <td>396.90</td>\n      <td>4.98</td>\n    </tr>\n    <tr>\n      <th>1</th>\n      <td>0.02731</td>\n      <td>0.0</td>\n      <td>7.07</td>\n      <td>0.0</td>\n      <td>0.469</td>\n      <td>6.421</td>\n      <td>78.9</td>\n      <td>4.9671</td>\n      <td>2.0</td>\n      <td>242.0</td>\n      <td>17.8</td>\n      <td>396.90</td>\n      <td>9.14</td>\n    </tr>\n    <tr>\n      <th>2</th>\n      <td>0.02729</td>\n      <td>0.0</td>\n      <td>7.07</td>\n      <td>0.0</td>\n      <td>0.469</td>\n      <td>7.185</td>\n      <td>61.1</td>\n      <td>4.9671</td>\n      <td>2.0</td>\n      <td>242.0</td>\n      <td>17.8</td>\n      <td>392.83</td>\n      <td>4.03</td>\n    </tr>\n    <tr>\n      <th>3</th>\n      <td>0.03237</td>\n      <td>0.0</td>\n      <td>2.18</td>\n      <td>0.0</td>\n      <td>0.458</td>\n      <td>6.998</td>\n      <td>45.8</td>\n      <td>6.0622</td>\n      <td>3.0</td>\n      <td>222.0</td>\n      <td>18.7</td>\n      <td>394.63</td>\n      <td>2.94</td>\n    </tr>\n    <tr>\n      <th>4</th>\n      <td>0.06905</td>\n      <td>0.0</td>\n      <td>2.18</td>\n      <td>0.0</td>\n      <td>0.458</td>\n      <td>7.147</td>\n      <td>54.2</td>\n      <td>6.0622</td>\n      <td>3.0</td>\n      <td>222.0</td>\n      <td>18.7</td>\n      <td>396.90</td>\n      <td>5.33</td>\n    </tr>\n  </tbody>\n</table>\n</div>"
     },
     "execution_count": 4,
     "metadata": {},
     "output_type": "execute_result"
    }
   ],
   "source": [
    "X.head()"
   ],
   "metadata": {
    "collapsed": false,
    "pycharm": {
     "name": "#%%\n"
    }
   }
  },
  {
   "cell_type": "markdown",
   "metadata": {
    "pycharm": {
     "name": "#%% md\n"
    }
   },
   "source": [
    "1. Разделите выборку на обучающую и тестовую в отношении 80%/20%"
   ]
  },
  {
   "cell_type": "code",
   "execution_count": 5,
   "metadata": {
    "pycharm": {
     "name": "#%%\n"
    }
   },
   "outputs": [
    {
     "name": "stdout",
     "output_type": "stream",
     "text": [
      "Размер обучающей выборки: (404, 13); тестовых значений: (404,)\n",
      "Размер тестовой выборки: (102, 13); тестовых значений: (102,)\n"
     ]
    }
   ],
   "source": [
    "from sklearn.model_selection import train_test_split\n",
    "\n",
    "X_train, X_test, y_train, y_test = train_test_split(X, y, train_size=0.8)\n",
    "\n",
    "print(f'Размер обучающей выборки: {X_train.shape}; тестовых значений: {y_train.shape}')\n",
    "print(f'Размер тестовой выборки: {X_test.shape}; тестовых значений: {y_test.shape}')"
   ]
  },
  {
   "cell_type": "markdown",
   "metadata": {
    "pycharm": {
     "name": "#%% md\n"
    }
   },
   "source": [
    "2. Обучите стандартную регрессию, а также Ridge и  Lasso и параметрами по умолчанию и выведите их R2 на тестовой выборке"
   ]
  },
  {
   "cell_type": "code",
   "execution_count": 6,
   "metadata": {
    "pycharm": {
     "name": "#%%\n"
    }
   },
   "outputs": [
    {
     "name": "stdout",
     "output_type": "stream",
     "text": [
      "R2_score для LinearRegression: 0.6968\n",
      "R2_score для Lasso: 0.6803\n",
      "R2_score для Ridge: 0.6898\n"
     ]
    }
   ],
   "source": [
    "from sklearn.linear_model import LinearRegression, Lasso, Ridge\n",
    "from sklearn.metrics import r2_score\n",
    "\n",
    "models = [LinearRegression(), Lasso(), Ridge()]\n",
    "r2_scores = []\n",
    "\n",
    "for model in models:\n",
    "    model.fit(X_train, y_train)\n",
    "    y_pred = model.predict(X_test)\n",
    "    curr_score = r2_score(y_test, y_pred)\n",
    "    r2_scores.append(curr_score)\n",
    "\n",
    "for score, model in zip(r2_scores, ['LinearRegression', 'Lasso', 'Ridge']):\n",
    "    print(f'R2_score для {model}: {score:.4f}')"
   ]
  },
  {
   "cell_type": "markdown",
   "metadata": {
    "pycharm": {
     "name": "#%% md\n"
    }
   },
   "source": [
    "3. Для Ridge и Lasso подберите коэффициент регуляризации(используйте GridSearchCV, RidgeCV, LassoCV) в пределах от $10^{-5}$ до $10^5$ (по степеням 10). Посчитайте R2 на тестовой выборке по лучшим моделям и сравните с предыдущими результатами. Напишите как изменился результат"
   ]
  },
  {
   "cell_type": "code",
   "execution_count": 7,
   "metadata": {
    "pycharm": {
     "name": "#%%\n"
    }
   },
   "outputs": [
    {
     "name": "stdout",
     "output_type": "stream",
     "text": [
      "Лучший score для Lasso: 0.4318, лучший параметр alpha: 1\n",
      "Лучший score для Ridge: 0.4932, лучший параметр alpha: 100.0\n"
     ]
    }
   ],
   "source": [
    "from sklearn.model_selection import GridSearchCV\n",
    "\n",
    "l1_model, l2_model = Lasso(), Ridge()\n",
    "params = {'alpha': [1e-5, 1e-4, 1e-3, 1e-2, 1e-1, 1, 1e2, 1e3, 1e4, 1e5]}\n",
    "\n",
    "GRD_CV_l1 = GridSearchCV(l1_model, params, cv=5, scoring='r2')\n",
    "GRD_CV_l2 = GridSearchCV(l2_model, params, cv=5, scoring='r2')\n",
    "\n",
    "# CV проводим на train выборке, чтобы модель не видела test-выборку\n",
    "GRD_CV_l2.fit(X, y)\n",
    "GRD_CV_l1.fit(X, y)\n",
    "\n",
    "\n",
    "print(f'Лучший score для Lasso: {GRD_CV_l1.best_score_:.4f}, лучший параметр alpha: {GRD_CV_l1.best_params_[\"alpha\"]}')\n",
    "print(f'Лучший score для Ridge: {GRD_CV_l2.best_score_:.4f}, лучший параметр alpha: {GRD_CV_l2.best_params_[\"alpha\"]}')"
   ]
  },
  {
   "cell_type": "code",
   "execution_count": 8,
   "outputs": [
    {
     "name": "stdout",
     "output_type": "stream",
     "text": [
      "R2_score с параметром alpha по умолчанию для Lasso: 0.6803\n",
      "R2_score с параметром alpha после подбора для Lasso: 0.6968\n",
      "R2_score с параметром alpha по умолчанию для Ridge: 0.6912\n",
      "R2_score с параметром alpha после подбора для Ridge: 0.6803\n"
     ]
    }
   ],
   "source": [
    "# обучим модель на train, протестируем на test\n",
    "models_with_alpha = [Lasso(alpha=GRD_CV_l1.best_params_[\"alpha\"]),\n",
    "          Ridge(alpha=GRD_CV_l2.best_params_[\"alpha\"])]\n",
    "r2_scores_with_alpha = []\n",
    "\n",
    "for model in models_with_alpha:\n",
    "    model.fit(X_train, y_train)\n",
    "    y_pred = model.predict(X_test)\n",
    "    curr_score = r2_score(y_test, y_pred)\n",
    "    r2_scores_with_alpha.append(curr_score)\n",
    "\n",
    "for score_before, score_after, model in zip(r2_scores_with_alpha, r2_scores, ['Lasso', 'Ridge']):\n",
    "    print(f'R2_score с параметром alpha по умолчанию для {model}: {score_before:.4f}')\n",
    "    print(f'R2_score с параметром alpha после подбора для {model}: {score_after:.4f}')"
   ],
   "metadata": {
    "collapsed": false,
    "pycharm": {
     "name": "#%%\n"
    }
   }
  },
  {
   "cell_type": "markdown",
   "source": [
    "Для модели Lasso с параметром alpha после подбора значение R2 увеличилось, в модели Ridge же R2 наоборот уменьшилось."
   ],
   "metadata": {
    "collapsed": false,
    "pycharm": {
     "name": "#%% md\n"
    }
   }
  },
  {
   "cell_type": "markdown",
   "metadata": {
    "pycharm": {
     "name": "#%% md\n"
    }
   },
   "source": [
    "4. Проведите масштабирование выборки(используйте Pipeline, StandardScaler, MinMaxScaler), посчитайте R2 и сравните с предыдущими результатами. Напишите как изменился результат"
   ]
  },
  {
   "cell_type": "code",
   "execution_count": 9,
   "metadata": {
    "pycharm": {
     "name": "#%%\n"
    }
   },
   "outputs": [
    {
     "name": "stdout",
     "output_type": "stream",
     "text": [
      "R2 для LinearRegression с StandardScaler: 0.6968039999753707\n",
      "R2 для LinearRegression с MinMaxScaler: 0.6968039999753716\n"
     ]
    }
   ],
   "source": [
    "from sklearn.pipeline import Pipeline\n",
    "from sklearn.preprocessing import StandardScaler, MinMaxScaler\n",
    "\n",
    "pipe_with_stdscaler = Pipeline([('scaler', StandardScaler()), ('LinearReg', LinearRegression())])\n",
    "pipe_with_stdscaler.fit(X_train, y_train)\n",
    "print(f'R2 для LinearRegression с StandardScaler: {pipe_with_stdscaler.score(X_test, y_test)}')\n",
    "\n",
    "\n",
    "pipe_with_minmaxscaler = Pipeline([('scaler', MinMaxScaler()), ('LinearReg', LinearRegression())])\n",
    "pipe_with_minmaxscaler.fit(X_train, y_train)\n",
    "print(f'R2 для LinearRegression с MinMaxScaler: {pipe_with_minmaxscaler.score(X_test, y_test)}')"
   ]
  },
  {
   "cell_type": "markdown",
   "source": [
    "Результат увеличился, R2 достиг значений как у Lasso. При этом scaler'ы показывают близкий результат."
   ],
   "metadata": {
    "collapsed": false,
    "pycharm": {
     "name": "#%% md\n"
    }
   }
  },
  {
   "cell_type": "markdown",
   "metadata": {
    "pycharm": {
     "name": "#%% md\n"
    }
   },
   "source": [
    "5. Подберите коэффициент регуляризации для Ridge и Lasso на масштабированных данных, посчитайте R2 и сравните с предыдущими результатами. Напишите как изменился результат"
   ]
  },
  {
   "cell_type": "code",
   "execution_count": 10,
   "metadata": {
    "pycharm": {
     "name": "#%%\n"
    }
   },
   "outputs": [
    {
     "name": "stdout",
     "output_type": "stream",
     "text": [
      "R2_score с параметром подобранным параметром alpha и MinMaxScaler для Lasso: 0.6959\n",
      "R2_score с параметром подобранным параметром alpha и MinMaxScaler для Ridge: 0.6898\n"
     ]
    }
   ],
   "source": [
    "pipe_lasso_mmscaler = Pipeline([('scaler', MinMaxScaler()), ('lasso', Lasso())])\n",
    "pipe_ridge_mmscaler = Pipeline([('scaler', MinMaxScaler()), ('ridge', Ridge())])\n",
    "params_lasso = {'lasso__alpha': 10 ** np.linspace(-5, 5, 11)}\n",
    "params_ridge = {'ridge__alpha': 10 ** np.linspace(-5, 5, 11)}\n",
    "\n",
    "GRD_L1_mmscaler = GridSearchCV(pipe_lasso_mmscaler, params_lasso, cv=5, scoring='r2')\n",
    "GRD_L1_mmscaler.fit(X, y)\n",
    "best_l1_alpha = GRD_L1_mmscaler.best_params_['lasso__alpha']\n",
    "\n",
    "GRD_L2_mmscaler = GridSearchCV(pipe_ridge_mmscaler, params_ridge, cv=5, scoring='r2')\n",
    "GRD_L2_mmscaler.fit(X, y)\n",
    "best_l2_alpha = GRD_L2_mmscaler.best_params_['ridge__alpha']\n",
    "\n",
    "# обучим модель на train, протестируем на test\n",
    "models_with_alpha = [Lasso(alpha=best_l1_alpha),\n",
    "                     Ridge(alpha=best_l2_alpha)]\n",
    "r2_scores_with_alpha = []\n",
    "\n",
    "for model in models_with_alpha:\n",
    "    model.fit(X_train, y_train)\n",
    "    y_pred = model.predict(X_test)\n",
    "    curr_score = r2_score(y_test, y_pred)\n",
    "    r2_scores_with_alpha.append(curr_score)\n",
    "\n",
    "for score_after, model in zip(r2_scores_with_alpha, ['Lasso', 'Ridge']):\n",
    "    print(f'R2_score с параметром подобранным параметром alpha и MinMaxScaler для {model}: {score_after:.4f}')"
   ]
  },
  {
   "cell_type": "markdown",
   "source": [
    "Качество стало еще лучше, но у LinearRegression без регуляризации всё таки R2 немного больше.\n",
    "Вообще довольно сильно на результат влияет разбиение на train и test. В этом можно убедиться, изучив результат GridSearchCV:"
   ],
   "metadata": {
    "collapsed": false,
    "pycharm": {
     "name": "#%% md\n"
    }
   }
  },
  {
   "cell_type": "code",
   "execution_count": 11,
   "outputs": [
    {
     "name": "stdout",
     "output_type": "stream",
     "text": [
      "R2 при разном разбиении на train/test для Lasso ghb alpha=1e-05:\n",
      "[0.6392278898953108, 0.7138862609304375, 0.5870266186274171, 0.07924484550734123, -0.2526663715292563]\n"
     ]
    }
   ],
   "source": [
    "scores_cv = []\n",
    "for i in range(5):\n",
    "    scores_cv.append(GRD_L1_mmscaler.cv_results_[f'split{i}_test_score'][0])\n",
    "\n",
    "print(f'R2 при разном разбиении на train/test для Lasso ghb alpha={params_lasso[\"lasso__alpha\"][0]}:\\n{scores_cv}')"
   ],
   "metadata": {
    "collapsed": false,
    "pycharm": {
     "name": "#%%\n"
    }
   }
  },
  {
   "cell_type": "markdown",
   "source": [
    "Или достаточно посмотреть std R2 при подборе коэффициента регуляризации, std очень большое в данном случае:"
   ],
   "metadata": {
    "collapsed": false,
    "pycharm": {
     "name": "#%% md\n"
    }
   }
  },
  {
   "cell_type": "code",
   "execution_count": 12,
   "outputs": [
    {
     "data": {
      "text/plain": "[0.37648553851684025,\n 0.37574933850460285,\n 0.3685983398728716,\n 0.3281721647115124,\n 0.29285275190609206,\n 0.6816257098927414,\n 0.9299864046290232,\n 0.9299864046290232,\n 0.9299864046290232,\n 0.9299864046290232,\n 0.9299864046290232]"
     },
     "execution_count": 12,
     "metadata": {},
     "output_type": "execute_result"
    }
   ],
   "source": [
    "GRD_L1_mmscaler.cv_results_['std_test_score'].tolist()"
   ],
   "metadata": {
    "collapsed": false,
    "pycharm": {
     "name": "#%%\n"
    }
   }
  },
  {
   "cell_type": "markdown",
   "metadata": {
    "pycharm": {
     "name": "#%% md\n"
    }
   },
   "source": [
    "6. Добавьте попарные произведения признаков и их квадраты (используйте PolynomialFeatures) на масштабированных признаках, посчитайте R2 и сравните с предыдущими результатами. Напишите как изменился результат"
   ]
  },
  {
   "cell_type": "code",
   "execution_count": 13,
   "metadata": {
    "pycharm": {
     "name": "#%%\n"
    }
   },
   "outputs": [
    {
     "data": {
      "text/plain": "0.7599265018755852"
     },
     "execution_count": 13,
     "metadata": {},
     "output_type": "execute_result"
    }
   ],
   "source": [
    "from sklearn.preprocessing import PolynomialFeatures\n",
    "\n",
    "\n",
    "pipe = Pipeline([('scaler', MinMaxScaler()),\n",
    "                 ('pol_feat', PolynomialFeatures(degree=2, include_bias=False)),\n",
    "                 ('model', LinearRegression())])\n",
    "\n",
    "pipe.fit(X_train, y_train)\n",
    "pipe.score(X_test, y_test)"
   ]
  },
  {
   "cell_type": "markdown",
   "source": [
    "Значение R2 стало еще больше, результат улучшился."
   ],
   "metadata": {
    "collapsed": false,
    "pycharm": {
     "name": "#%% md\n"
    }
   }
  },
  {
   "cell_type": "markdown",
   "metadata": {
    "pycharm": {
     "name": "#%% md\n"
    }
   },
   "source": [
    "7. Подберите наилучшую модель (используйте Pipeline, GridSearchSCV) подбирая тип регуляризации (L1,L2), коэффициент регуляризации, метод масштабирования и степень полинома в PolynomialFeatures. Выведите итоговые параметры и результат R2. Напишите как изменился R2 по сравнению с предыдущими экспериментами"
   ]
  },
  {
   "cell_type": "markdown",
   "source": [
    "Так как выше было показано, что разбиение выборки на train/test при CV сильно влияет на результат, то необходимо перемешивать объекты в группах:"
   ],
   "metadata": {
    "collapsed": false,
    "pycharm": {
     "name": "#%% md\n"
    }
   }
  },
  {
   "cell_type": "code",
   "execution_count": 14,
   "metadata": {
    "pycharm": {
     "name": "#%%\n"
    }
   },
   "outputs": [],
   "source": [
    "from sklearn.model_selection import KFold\n",
    "\n",
    "# создадим собственное разбиение с перемешиванием\n",
    "cv = KFold(n_splits=5, shuffle=True)\n",
    "\n",
    "# начальный PipeLine\n",
    "pipe = Pipeline([('Scaler', MinMaxScaler()),\n",
    "                 ('PolFeatures', PolynomialFeatures(include_bias=False)),\n",
    "                 ('model', LinearRegression())])\n",
    "\n",
    "params_grid = [{\n",
    "    'Scaler': [StandardScaler(), MinMaxScaler()],\n",
    "    'model': [LinearRegression()],\n",
    "    'PolFeatures__degree': [2, 3, 4],\n",
    "},\n",
    "{\n",
    "    'Scaler': [StandardScaler(), MinMaxScaler()],\n",
    "    'model': [Lasso()],\n",
    "    'PolFeatures__degree': [2, 3, 4],\n",
    "    'model__alpha': 10 ** np.linspace(-5, 5, 11)\n",
    "},\n",
    "{\n",
    "    'Scaler': [StandardScaler(), MinMaxScaler()],\n",
    "    'model': [Ridge()],\n",
    "    'PolFeatures__degree': [2, 3, 4],\n",
    "    'model__alpha': 10 ** np.linspace(-5, 5, 11)\n",
    "}]\n",
    "\n",
    "grd = GridSearchCV(estimator=pipe,\n",
    "                   param_grid=params_grid,\n",
    "                   cv=cv,\n",
    "                   scoring='r2')\n",
    "grd.fit(X, y);"
   ]
  },
  {
   "cell_type": "code",
   "execution_count": 15,
   "outputs": [
    {
     "data": {
      "text/plain": "[{'PolFeatures__degree': 4,\n  'Scaler': StandardScaler(),\n  'model': Ridge(),\n  'model__alpha': 0.0001},\n {'PolFeatures__degree': 4,\n  'Scaler': StandardScaler(),\n  'model': LinearRegression()},\n {'PolFeatures__degree': 3,\n  'Scaler': MinMaxScaler(),\n  'model': Lasso(alpha=0.001),\n  'model__alpha': 0.1}]"
     },
     "execution_count": 15,
     "metadata": {},
     "output_type": "execute_result"
    }
   ],
   "source": [
    "# пример нескольких значений в сетке GridsearchCV\n",
    "grid_sample = np.array(grd.cv_results_['params'])\n",
    "ind = np.random.choice(len(grd.cv_results_['params']), size=3)\n",
    "\n",
    "grid_sample[ind].tolist()"
   ],
   "metadata": {
    "collapsed": false,
    "pycharm": {
     "name": "#%%\n"
    }
   }
  },
  {
   "cell_type": "code",
   "execution_count": 16,
   "outputs": [
    {
     "name": "stdout",
     "output_type": "stream",
     "text": [
      "Лучшая модель и её параметры:\n",
      "{'PolFeatures__degree': 3, 'Scaler': MinMaxScaler(), 'model': Lasso(alpha=0.001), 'model__alpha': 0.001}\n",
      "Значение R2 на CV=5: 0.8832\n"
     ]
    }
   ],
   "source": [
    "print(f'Лучшая модель и её параметры:\\n{grd.best_params_}\\nЗначение R2 на CV=5: {grd.best_score_:.4f}')"
   ],
   "metadata": {
    "collapsed": false,
    "pycharm": {
     "name": "#%%\n"
    }
   }
  },
  {
   "cell_type": "markdown",
   "source": [
    "Результат значительно улучшился, благодаря использованию Scaler, PolynomialFeatures и подбору коэффициента регуляризации удалось достичь высокого значения R2."
   ],
   "metadata": {
    "collapsed": false,
    "pycharm": {
     "name": "#%% md\n"
    }
   }
  },
  {
   "cell_type": "markdown",
   "source": [
    "# Часть 2"
   ],
   "metadata": {
    "collapsed": false,
    "pycharm": {
     "name": "#%% md\n"
    }
   }
  },
  {
   "cell_type": "markdown",
   "metadata": {
    "pycharm": {
     "name": "#%% md\n"
    }
   },
   "source": [
    "http://archive.ics.uci.edu/ml/datasets/Adult"
   ]
  },
  {
   "cell_type": "code",
   "execution_count": 17,
   "metadata": {
    "pycharm": {
     "name": "#%%\n"
    }
   },
   "outputs": [
    {
     "data": {
      "text/plain": "   age         workclass  fnlwgt  education  education-num  \\\n0   39         State-gov   77516  Bachelors             13   \n1   50  Self-emp-not-inc   83311  Bachelors             13   \n2   38           Private  215646    HS-grad              9   \n3   53           Private  234721       11th              7   \n4   28           Private  338409  Bachelors             13   \n\n       marital-status         occupation   relationship   race     sex  \\\n0       Never-married       Adm-clerical  Not-in-family  White    Male   \n1  Married-civ-spouse    Exec-managerial        Husband  White    Male   \n2            Divorced  Handlers-cleaners  Not-in-family  White    Male   \n3  Married-civ-spouse  Handlers-cleaners        Husband  Black    Male   \n4  Married-civ-spouse     Prof-specialty           Wife  Black  Female   \n\n   capital-gain  capital-loss  hours-per-week native-country income  \n0          2174             0              40  United-States  <=50K  \n1             0             0              13  United-States  <=50K  \n2             0             0              40  United-States  <=50K  \n3             0             0              40  United-States  <=50K  \n4             0             0              40           Cuba  <=50K  ",
      "text/html": "<div>\n<style scoped>\n    .dataframe tbody tr th:only-of-type {\n        vertical-align: middle;\n    }\n\n    .dataframe tbody tr th {\n        vertical-align: top;\n    }\n\n    .dataframe thead th {\n        text-align: right;\n    }\n</style>\n<table border=\"1\" class=\"dataframe\">\n  <thead>\n    <tr style=\"text-align: right;\">\n      <th></th>\n      <th>age</th>\n      <th>workclass</th>\n      <th>fnlwgt</th>\n      <th>education</th>\n      <th>education-num</th>\n      <th>marital-status</th>\n      <th>occupation</th>\n      <th>relationship</th>\n      <th>race</th>\n      <th>sex</th>\n      <th>capital-gain</th>\n      <th>capital-loss</th>\n      <th>hours-per-week</th>\n      <th>native-country</th>\n      <th>income</th>\n    </tr>\n  </thead>\n  <tbody>\n    <tr>\n      <th>0</th>\n      <td>39</td>\n      <td>State-gov</td>\n      <td>77516</td>\n      <td>Bachelors</td>\n      <td>13</td>\n      <td>Never-married</td>\n      <td>Adm-clerical</td>\n      <td>Not-in-family</td>\n      <td>White</td>\n      <td>Male</td>\n      <td>2174</td>\n      <td>0</td>\n      <td>40</td>\n      <td>United-States</td>\n      <td>&lt;=50K</td>\n    </tr>\n    <tr>\n      <th>1</th>\n      <td>50</td>\n      <td>Self-emp-not-inc</td>\n      <td>83311</td>\n      <td>Bachelors</td>\n      <td>13</td>\n      <td>Married-civ-spouse</td>\n      <td>Exec-managerial</td>\n      <td>Husband</td>\n      <td>White</td>\n      <td>Male</td>\n      <td>0</td>\n      <td>0</td>\n      <td>13</td>\n      <td>United-States</td>\n      <td>&lt;=50K</td>\n    </tr>\n    <tr>\n      <th>2</th>\n      <td>38</td>\n      <td>Private</td>\n      <td>215646</td>\n      <td>HS-grad</td>\n      <td>9</td>\n      <td>Divorced</td>\n      <td>Handlers-cleaners</td>\n      <td>Not-in-family</td>\n      <td>White</td>\n      <td>Male</td>\n      <td>0</td>\n      <td>0</td>\n      <td>40</td>\n      <td>United-States</td>\n      <td>&lt;=50K</td>\n    </tr>\n    <tr>\n      <th>3</th>\n      <td>53</td>\n      <td>Private</td>\n      <td>234721</td>\n      <td>11th</td>\n      <td>7</td>\n      <td>Married-civ-spouse</td>\n      <td>Handlers-cleaners</td>\n      <td>Husband</td>\n      <td>Black</td>\n      <td>Male</td>\n      <td>0</td>\n      <td>0</td>\n      <td>40</td>\n      <td>United-States</td>\n      <td>&lt;=50K</td>\n    </tr>\n    <tr>\n      <th>4</th>\n      <td>28</td>\n      <td>Private</td>\n      <td>338409</td>\n      <td>Bachelors</td>\n      <td>13</td>\n      <td>Married-civ-spouse</td>\n      <td>Prof-specialty</td>\n      <td>Wife</td>\n      <td>Black</td>\n      <td>Female</td>\n      <td>0</td>\n      <td>0</td>\n      <td>40</td>\n      <td>Cuba</td>\n      <td>&lt;=50K</td>\n    </tr>\n  </tbody>\n</table>\n</div>"
     },
     "execution_count": 17,
     "metadata": {},
     "output_type": "execute_result"
    }
   ],
   "source": [
    "link = 'https://raw.githubusercontent.com/jbrownlee/Datasets/master/adult-all.csv'\n",
    "data = pd.read_csv(link, header=None)\n",
    "\n",
    "header = ['age', 'workclass', 'fnlwgt', 'education', 'education-num', 'marital-status', 'occupation', 'relationship',\n",
    "          'race', 'sex', 'capital-gain', 'capital-loss', 'hours-per-week', 'native-country', 'income']\n",
    "\n",
    "data.columns = header\n",
    "data.head()"
   ]
  },
  {
   "cell_type": "markdown",
   "metadata": {
    "pycharm": {
     "name": "#%% md\n"
    }
   },
   "source": [
    "8. Разделите выборку на признаки и целевую переменную(колонка со зачениями {<=50K,>50K}). Замените целевую переменную на числовые значения."
   ]
  },
  {
   "cell_type": "code",
   "execution_count": 18,
   "metadata": {
    "pycharm": {
     "name": "#%%\n"
    }
   },
   "outputs": [
    {
     "data": {
      "text/plain": "((48842, 14), (48842, 1))"
     },
     "execution_count": 18,
     "metadata": {},
     "output_type": "execute_result"
    }
   ],
   "source": [
    "X, y = data.drop(columns='income', axis=1), data[['income']]\n",
    "y['income'] = y['income'].apply(lambda x: 0 if x == '<=50K' else 1)\n",
    "\n",
    "X.shape, y.shape"
   ]
  },
  {
   "cell_type": "markdown",
   "metadata": {
    "pycharm": {
     "name": "#%% md\n"
    }
   },
   "source": [
    "9. Выясните, присутствуют ли в данных пропуски. Заполните их самыми частыми значениями (испольуйте SimpleImputer)"
   ]
  },
  {
   "cell_type": "code",
   "execution_count": 19,
   "metadata": {
    "pycharm": {
     "name": "#%%\n"
    }
   },
   "outputs": [
    {
     "name": "stdout",
     "output_type": "stream",
     "text": [
      "<class 'pandas.core.frame.DataFrame'>\n",
      "RangeIndex: 48842 entries, 0 to 48841\n",
      "Data columns (total 14 columns):\n",
      " #   Column          Non-Null Count  Dtype \n",
      "---  ------          --------------  ----- \n",
      " 0   age             48842 non-null  int64 \n",
      " 1   workclass       48842 non-null  object\n",
      " 2   fnlwgt          48842 non-null  int64 \n",
      " 3   education       48842 non-null  object\n",
      " 4   education-num   48842 non-null  int64 \n",
      " 5   marital-status  48842 non-null  object\n",
      " 6   occupation      48842 non-null  object\n",
      " 7   relationship    48842 non-null  object\n",
      " 8   race            48842 non-null  object\n",
      " 9   sex             48842 non-null  object\n",
      " 10  capital-gain    48842 non-null  int64 \n",
      " 11  capital-loss    48842 non-null  int64 \n",
      " 12  hours-per-week  48842 non-null  int64 \n",
      " 13  native-country  48842 non-null  object\n",
      "dtypes: int64(6), object(8)\n",
      "memory usage: 5.2+ MB\n"
     ]
    }
   ],
   "source": [
    "X.info()"
   ]
  },
  {
   "cell_type": "markdown",
   "source": [
    "Видно, что пропусков в колонках нет."
   ],
   "metadata": {
    "collapsed": false,
    "pycharm": {
     "name": "#%% md\n"
    }
   }
  },
  {
   "cell_type": "markdown",
   "metadata": {
    "pycharm": {
     "name": "#%% md\n"
    }
   },
   "source": [
    "10. Выберите колонки с числовыми и категориальными переменными."
   ]
  },
  {
   "cell_type": "code",
   "execution_count": 20,
   "metadata": {
    "pycharm": {
     "name": "#%%\n"
    }
   },
   "outputs": [],
   "source": [
    "numeric_cols = ['age', 'fnlwgt', 'education-num', 'capital-gain', 'capital-loss', 'hours-per-week']\n",
    "categorical_cols = list(set(X.columns) - set(numeric_cols))"
   ]
  },
  {
   "cell_type": "markdown",
   "metadata": {
    "pycharm": {
     "name": "#%% md\n"
    }
   },
   "source": [
    "11. Создайте пайплайн по обработке колонок(используйте OneHotEncoder,MinMaxScaler)."
   ]
  },
  {
   "cell_type": "code",
   "execution_count": 21,
   "metadata": {
    "pycharm": {
     "name": "#%%\n"
    }
   },
   "outputs": [
    {
     "data": {
      "text/plain": "   num__age  num__fnlwgt  num__education-num  num__capital-gain  \\\n0  0.301370     0.044131            0.800000            0.02174   \n1  0.452055     0.048052            0.800000            0.00000   \n2  0.287671     0.137581            0.533333            0.00000   \n3  0.493151     0.150486            0.400000            0.00000   \n4  0.150685     0.220635            0.800000            0.00000   \n\n   num__capital-loss  num__hours-per-week  cat__workclass_?  \\\n0                0.0             0.397959               0.0   \n1                0.0             0.122449               0.0   \n2                0.0             0.397959               0.0   \n3                0.0             0.397959               0.0   \n4                0.0             0.397959               0.0   \n\n   cat__workclass_Federal-gov  cat__workclass_Local-gov  \\\n0                         0.0                       0.0   \n1                         0.0                       0.0   \n2                         0.0                       0.0   \n3                         0.0                       0.0   \n4                         0.0                       0.0   \n\n   cat__workclass_Never-worked  ...  cat__education_Masters  \\\n0                          0.0  ...                     0.0   \n1                          0.0  ...                     0.0   \n2                          0.0  ...                     0.0   \n3                          0.0  ...                     0.0   \n4                          0.0  ...                     0.0   \n\n   cat__education_Preschool  cat__education_Prof-school  \\\n0                       0.0                         0.0   \n1                       0.0                         0.0   \n2                       0.0                         0.0   \n3                       0.0                         0.0   \n4                       0.0                         0.0   \n\n   cat__education_Some-college  cat__relationship_Husband  \\\n0                          0.0                        0.0   \n1                          0.0                        1.0   \n2                          0.0                        0.0   \n3                          0.0                        1.0   \n4                          0.0                        0.0   \n\n   cat__relationship_Not-in-family  cat__relationship_Other-relative  \\\n0                              1.0                               0.0   \n1                              0.0                               0.0   \n2                              1.0                               0.0   \n3                              0.0                               0.0   \n4                              0.0                               0.0   \n\n   cat__relationship_Own-child  cat__relationship_Unmarried  \\\n0                          0.0                          0.0   \n1                          0.0                          0.0   \n2                          0.0                          0.0   \n3                          0.0                          0.0   \n4                          0.0                          0.0   \n\n   cat__relationship_Wife  \n0                     0.0  \n1                     0.0  \n2                     0.0  \n3                     0.0  \n4                     1.0  \n\n[5 rows x 108 columns]",
      "text/html": "<div>\n<style scoped>\n    .dataframe tbody tr th:only-of-type {\n        vertical-align: middle;\n    }\n\n    .dataframe tbody tr th {\n        vertical-align: top;\n    }\n\n    .dataframe thead th {\n        text-align: right;\n    }\n</style>\n<table border=\"1\" class=\"dataframe\">\n  <thead>\n    <tr style=\"text-align: right;\">\n      <th></th>\n      <th>num__age</th>\n      <th>num__fnlwgt</th>\n      <th>num__education-num</th>\n      <th>num__capital-gain</th>\n      <th>num__capital-loss</th>\n      <th>num__hours-per-week</th>\n      <th>cat__workclass_?</th>\n      <th>cat__workclass_Federal-gov</th>\n      <th>cat__workclass_Local-gov</th>\n      <th>cat__workclass_Never-worked</th>\n      <th>...</th>\n      <th>cat__education_Masters</th>\n      <th>cat__education_Preschool</th>\n      <th>cat__education_Prof-school</th>\n      <th>cat__education_Some-college</th>\n      <th>cat__relationship_Husband</th>\n      <th>cat__relationship_Not-in-family</th>\n      <th>cat__relationship_Other-relative</th>\n      <th>cat__relationship_Own-child</th>\n      <th>cat__relationship_Unmarried</th>\n      <th>cat__relationship_Wife</th>\n    </tr>\n  </thead>\n  <tbody>\n    <tr>\n      <th>0</th>\n      <td>0.301370</td>\n      <td>0.044131</td>\n      <td>0.800000</td>\n      <td>0.02174</td>\n      <td>0.0</td>\n      <td>0.397959</td>\n      <td>0.0</td>\n      <td>0.0</td>\n      <td>0.0</td>\n      <td>0.0</td>\n      <td>...</td>\n      <td>0.0</td>\n      <td>0.0</td>\n      <td>0.0</td>\n      <td>0.0</td>\n      <td>0.0</td>\n      <td>1.0</td>\n      <td>0.0</td>\n      <td>0.0</td>\n      <td>0.0</td>\n      <td>0.0</td>\n    </tr>\n    <tr>\n      <th>1</th>\n      <td>0.452055</td>\n      <td>0.048052</td>\n      <td>0.800000</td>\n      <td>0.00000</td>\n      <td>0.0</td>\n      <td>0.122449</td>\n      <td>0.0</td>\n      <td>0.0</td>\n      <td>0.0</td>\n      <td>0.0</td>\n      <td>...</td>\n      <td>0.0</td>\n      <td>0.0</td>\n      <td>0.0</td>\n      <td>0.0</td>\n      <td>1.0</td>\n      <td>0.0</td>\n      <td>0.0</td>\n      <td>0.0</td>\n      <td>0.0</td>\n      <td>0.0</td>\n    </tr>\n    <tr>\n      <th>2</th>\n      <td>0.287671</td>\n      <td>0.137581</td>\n      <td>0.533333</td>\n      <td>0.00000</td>\n      <td>0.0</td>\n      <td>0.397959</td>\n      <td>0.0</td>\n      <td>0.0</td>\n      <td>0.0</td>\n      <td>0.0</td>\n      <td>...</td>\n      <td>0.0</td>\n      <td>0.0</td>\n      <td>0.0</td>\n      <td>0.0</td>\n      <td>0.0</td>\n      <td>1.0</td>\n      <td>0.0</td>\n      <td>0.0</td>\n      <td>0.0</td>\n      <td>0.0</td>\n    </tr>\n    <tr>\n      <th>3</th>\n      <td>0.493151</td>\n      <td>0.150486</td>\n      <td>0.400000</td>\n      <td>0.00000</td>\n      <td>0.0</td>\n      <td>0.397959</td>\n      <td>0.0</td>\n      <td>0.0</td>\n      <td>0.0</td>\n      <td>0.0</td>\n      <td>...</td>\n      <td>0.0</td>\n      <td>0.0</td>\n      <td>0.0</td>\n      <td>0.0</td>\n      <td>1.0</td>\n      <td>0.0</td>\n      <td>0.0</td>\n      <td>0.0</td>\n      <td>0.0</td>\n      <td>0.0</td>\n    </tr>\n    <tr>\n      <th>4</th>\n      <td>0.150685</td>\n      <td>0.220635</td>\n      <td>0.800000</td>\n      <td>0.00000</td>\n      <td>0.0</td>\n      <td>0.397959</td>\n      <td>0.0</td>\n      <td>0.0</td>\n      <td>0.0</td>\n      <td>0.0</td>\n      <td>...</td>\n      <td>0.0</td>\n      <td>0.0</td>\n      <td>0.0</td>\n      <td>0.0</td>\n      <td>0.0</td>\n      <td>0.0</td>\n      <td>0.0</td>\n      <td>0.0</td>\n      <td>0.0</td>\n      <td>1.0</td>\n    </tr>\n  </tbody>\n</table>\n<p>5 rows × 108 columns</p>\n</div>"
     },
     "execution_count": 21,
     "metadata": {},
     "output_type": "execute_result"
    }
   ],
   "source": [
    "from sklearn.preprocessing import OneHotEncoder\n",
    "from sklearn.compose import ColumnTransformer\n",
    "\n",
    "numeric_transformer = Pipeline(steps=[('scaler', MinMaxScaler())])\n",
    "categorical_transformer = Pipeline(steps=[('OHE', OneHotEncoder(handle_unknown='ignore'))])\n",
    "\n",
    "preprocessor = ColumnTransformer(\n",
    "    transformers=[\n",
    "        ('num', numeric_transformer, numeric_cols),\n",
    "        ('cat', categorical_transformer, categorical_cols)\n",
    "    ]\n",
    ")\n",
    "\n",
    "# пример прохождения всего пайплайна\n",
    "data_trans = preprocessor.fit_transform(X)\n",
    "data_trans = pd.DataFrame(data_trans.toarray()).head(5)\n",
    "data_trans.columns = preprocessor.get_feature_names_out()\n",
    "data_trans"
   ]
  },
  {
   "cell_type": "markdown",
   "metadata": {
    "pycharm": {
     "name": "#%% md\n"
    }
   },
   "source": [
    "12. Посчитайте метрики accuracy и f1_score на предсказании только самого частого класса в целевой переменной."
   ]
  },
  {
   "cell_type": "code",
   "execution_count": 22,
   "metadata": {
    "pycharm": {
     "name": "#%%\n"
    }
   },
   "outputs": [
    {
     "name": "stdout",
     "output_type": "stream",
     "text": [
      "Значение accuracy для \"наивного\" классификатора: 0.7607\n",
      "Значение f1_score для \"наивного\" классификатора: 0.0\n"
     ]
    }
   ],
   "source": [
    "from sklearn.metrics import accuracy_score, f1_score\n",
    "\n",
    "most_common_class = y.value_counts().index[0][0]\n",
    "y_pred = [most_common_class] * len(y)\n",
    "\n",
    "print(f'Значение accuracy для \"наивного\" классификатора: {accuracy_score(y, y_pred):.4f}')\n",
    "print(f'Значение f1_score для \"наивного\" классификатора: {f1_score(y, y_pred)}')"
   ]
  },
  {
   "cell_type": "markdown",
   "source": [
    "F1 будет равен 0, так как нет ни одного TP (true positive) и recall = 0. Самый популярный класс - это 0 (<=50K)"
   ],
   "metadata": {
    "collapsed": false,
    "pycharm": {
     "name": "#%% md\n"
    }
   }
  },
  {
   "cell_type": "markdown",
   "metadata": {
    "pycharm": {
     "name": "#%% md\n"
    }
   },
   "source": [
    "13. Посчитайте cross_val_score по алгоритмам LogisticRegression, SVC, LinearSVC по метрикам accuracy и f1_score.\n",
    "Напишите удалось ли превзойти предыдущий результат."
   ]
  },
  {
   "cell_type": "code",
   "execution_count": 24,
   "metadata": {
    "pycharm": {
     "name": "#%%\n"
    }
   },
   "outputs": [
    {
     "name": "stdout",
     "output_type": "stream",
     "text": [
      "Оценка модели LogisticRegression на тестовых данных:\n",
      "Accuracy: 0.8512\n",
      "F1_score: 0.6566\n",
      "\n",
      "Оценка модели SVC на тестовых данных:\n",
      "Accuracy: 0.8403\n",
      "F1_score: 0.6208\n",
      "\n",
      "Оценка модели LinearSVC на тестовых данных:\n",
      "Accuracy: 0.8529\n",
      "F1_score: 0.6575\n",
      "\n"
     ]
    }
   ],
   "source": [
    "from sklearn.linear_model import LogisticRegression\n",
    "from sklearn.svm import LinearSVC, SVC\n",
    "from sklearn.model_selection import cross_validate\n",
    "\n",
    "models = [LogisticRegression(), SVC(), LinearSVC()]\n",
    "cv = KFold(n_splits=5, shuffle=True)\n",
    "\n",
    "for model, model_name in zip(models, ['LogisticRegression', 'SVC', 'LinearSVC']):\n",
    "    # используем прошлый pipeline из п.11\n",
    "    pipe = Pipeline([('transformer', preprocessor), ('classifier', model)])\n",
    "    cv_model = cross_validate(pipe, X, y, cv=cv, scoring=['accuracy', 'f1'])\n",
    "    score_acc, score_f1 = cv_model['test_accuracy'].mean(), cv_model['test_f1'].mean()\n",
    "    print(f'Оценка модели {model_name} на тестовых данных:')\n",
    "    print(f'Accuracy: {score_acc:.4f}\\nF1_score: {score_f1:.4f}\\n')"
   ]
  },
  {
   "cell_type": "markdown",
   "metadata": {
    "pycharm": {
     "name": "#%% md\n"
    }
   },
   "source": [
    "14. Можно заметить что в данных присутствуют значения '?', замените их самыми частыми значениями (испольуйте SimpleImputer)"
   ]
  },
  {
   "cell_type": "code",
   "execution_count": 78,
   "outputs": [],
   "source": [
    "from sklearn.impute import SimpleImputer\n",
    "\n",
    "numeric_transformer = Pipeline(steps=[('scaler', MinMaxScaler())])\n",
    "categorical_transformer = Pipeline(steps=[('fill_missing', SimpleImputer(missing_values='?', strategy='most_frequent')),\n",
    "                                          ('OHE', OneHotEncoder(handle_unknown='ignore'))])\n",
    "\n",
    "preprocessor = ColumnTransformer(\n",
    "    transformers=[\n",
    "        ('num', numeric_transformer, numeric_cols),\n",
    "        ('cat', categorical_transformer, categorical_cols)\n",
    "    ]\n",
    ")"
   ],
   "metadata": {
    "collapsed": false,
    "pycharm": {
     "name": "#%%\n"
    }
   }
  },
  {
   "cell_type": "markdown",
   "metadata": {
    "pycharm": {
     "name": "#%% md\n"
    }
   },
   "source": [
    "15. Посчитайте cross_val_score на новых данных. Напишите, удалось ли улучшить результат."
   ]
  },
  {
   "cell_type": "code",
   "execution_count": 79,
   "outputs": [
    {
     "name": "stdout",
     "output_type": "stream",
     "text": [
      "Оценка модели LogisticRegression на тестовых данных:\n",
      "Accuracy: 0.8509\n",
      "F1_score: 0.6551\n",
      "\n",
      "Оценка модели SVC на тестовых данных:\n",
      "Accuracy: 0.8394\n",
      "F1_score: 0.6165\n",
      "\n",
      "Оценка модели LinearSVC на тестовых данных:\n",
      "Accuracy: 0.8513\n",
      "F1_score: 0.6521\n",
      "\n"
     ]
    }
   ],
   "source": [
    "models = [LogisticRegression(), SVC(), LinearSVC()]\n",
    "cv = KFold(n_splits=5, shuffle=True)\n",
    "\n",
    "for model, model_name in zip(models, ['LogisticRegression', 'SVC', 'LinearSVC']):\n",
    "    # используем прошлый pipeline из п.14\n",
    "    pipe = Pipeline([('transformer', preprocessor), ('classifier', model)])\n",
    "    cv_model = cross_validate(pipe, X, y, cv=cv, scoring=['accuracy', 'f1'])\n",
    "    score_acc, score_f1 = cv_model['test_accuracy'].mean(), cv_model['test_f1'].mean()\n",
    "    print(f'Оценка модели {model_name} на тестовых данных:')\n",
    "    print(f'Accuracy: {score_acc:.4f}\\nF1_score: {score_f1:.4f}\\n')"
   ],
   "metadata": {
    "collapsed": false,
    "pycharm": {
     "name": "#%%\n"
    }
   }
  },
  {
   "cell_type": "markdown",
   "source": [
    "Качество моделей не изменилось, даже где-то стало немного хуже."
   ],
   "metadata": {
    "collapsed": false,
    "pycharm": {
     "name": "#%% md\n"
    }
   }
  },
  {
   "cell_type": "markdown",
   "metadata": {
    "pycharm": {
     "name": "#%% md\n"
    }
   },
   "source": [
    "16. Посчитайте cross_val_score, если просто удалить значения '?'. Напишите как изменился результат"
   ]
  },
  {
   "cell_type": "code",
   "execution_count": 85,
   "outputs": [
    {
     "data": {
      "text/plain": "       age         workclass  fnlwgt  education  education-num  \\\n0       39         State-gov   77516  Bachelors             13   \n1       50  Self-emp-not-inc   83311  Bachelors             13   \n2       38           Private  215646    HS-grad              9   \n3       53           Private  234721       11th              7   \n4       28           Private  338409  Bachelors             13   \n...    ...               ...     ...        ...            ...   \n48837   39           Private  215419  Bachelors             13   \n48838   64               NaN  321403    HS-grad              9   \n48839   38           Private  374983  Bachelors             13   \n48840   44           Private   83891  Bachelors             13   \n48841   35      Self-emp-inc  182148  Bachelors             13   \n\n           marital-status         occupation    relationship  \\\n0           Never-married       Adm-clerical   Not-in-family   \n1      Married-civ-spouse    Exec-managerial         Husband   \n2                Divorced  Handlers-cleaners   Not-in-family   \n3      Married-civ-spouse  Handlers-cleaners         Husband   \n4      Married-civ-spouse     Prof-specialty            Wife   \n...                   ...                ...             ...   \n48837            Divorced     Prof-specialty   Not-in-family   \n48838             Widowed                NaN  Other-relative   \n48839  Married-civ-spouse     Prof-specialty         Husband   \n48840            Divorced       Adm-clerical       Own-child   \n48841  Married-civ-spouse    Exec-managerial         Husband   \n\n                     race     sex  capital-gain  capital-loss  hours-per-week  \\\n0                   White    Male          2174             0              40   \n1                   White    Male             0             0              13   \n2                   White    Male             0             0              40   \n3                   Black    Male             0             0              40   \n4                   Black  Female             0             0              40   \n...                   ...     ...           ...           ...             ...   \n48837               White  Female             0             0              36   \n48838               Black    Male             0             0              40   \n48839               White    Male             0             0              50   \n48840  Asian-Pac-Islander    Male          5455             0              40   \n48841               White    Male             0             0              60   \n\n      native-country income  \n0      United-States  <=50K  \n1      United-States  <=50K  \n2      United-States  <=50K  \n3      United-States  <=50K  \n4               Cuba  <=50K  \n...              ...    ...  \n48837  United-States  <=50K  \n48838  United-States  <=50K  \n48839  United-States  <=50K  \n48840  United-States  <=50K  \n48841  United-States   >50K  \n\n[48842 rows x 15 columns]",
      "text/html": "<div>\n<style scoped>\n    .dataframe tbody tr th:only-of-type {\n        vertical-align: middle;\n    }\n\n    .dataframe tbody tr th {\n        vertical-align: top;\n    }\n\n    .dataframe thead th {\n        text-align: right;\n    }\n</style>\n<table border=\"1\" class=\"dataframe\">\n  <thead>\n    <tr style=\"text-align: right;\">\n      <th></th>\n      <th>age</th>\n      <th>workclass</th>\n      <th>fnlwgt</th>\n      <th>education</th>\n      <th>education-num</th>\n      <th>marital-status</th>\n      <th>occupation</th>\n      <th>relationship</th>\n      <th>race</th>\n      <th>sex</th>\n      <th>capital-gain</th>\n      <th>capital-loss</th>\n      <th>hours-per-week</th>\n      <th>native-country</th>\n      <th>income</th>\n    </tr>\n  </thead>\n  <tbody>\n    <tr>\n      <th>0</th>\n      <td>39</td>\n      <td>State-gov</td>\n      <td>77516</td>\n      <td>Bachelors</td>\n      <td>13</td>\n      <td>Never-married</td>\n      <td>Adm-clerical</td>\n      <td>Not-in-family</td>\n      <td>White</td>\n      <td>Male</td>\n      <td>2174</td>\n      <td>0</td>\n      <td>40</td>\n      <td>United-States</td>\n      <td>&lt;=50K</td>\n    </tr>\n    <tr>\n      <th>1</th>\n      <td>50</td>\n      <td>Self-emp-not-inc</td>\n      <td>83311</td>\n      <td>Bachelors</td>\n      <td>13</td>\n      <td>Married-civ-spouse</td>\n      <td>Exec-managerial</td>\n      <td>Husband</td>\n      <td>White</td>\n      <td>Male</td>\n      <td>0</td>\n      <td>0</td>\n      <td>13</td>\n      <td>United-States</td>\n      <td>&lt;=50K</td>\n    </tr>\n    <tr>\n      <th>2</th>\n      <td>38</td>\n      <td>Private</td>\n      <td>215646</td>\n      <td>HS-grad</td>\n      <td>9</td>\n      <td>Divorced</td>\n      <td>Handlers-cleaners</td>\n      <td>Not-in-family</td>\n      <td>White</td>\n      <td>Male</td>\n      <td>0</td>\n      <td>0</td>\n      <td>40</td>\n      <td>United-States</td>\n      <td>&lt;=50K</td>\n    </tr>\n    <tr>\n      <th>3</th>\n      <td>53</td>\n      <td>Private</td>\n      <td>234721</td>\n      <td>11th</td>\n      <td>7</td>\n      <td>Married-civ-spouse</td>\n      <td>Handlers-cleaners</td>\n      <td>Husband</td>\n      <td>Black</td>\n      <td>Male</td>\n      <td>0</td>\n      <td>0</td>\n      <td>40</td>\n      <td>United-States</td>\n      <td>&lt;=50K</td>\n    </tr>\n    <tr>\n      <th>4</th>\n      <td>28</td>\n      <td>Private</td>\n      <td>338409</td>\n      <td>Bachelors</td>\n      <td>13</td>\n      <td>Married-civ-spouse</td>\n      <td>Prof-specialty</td>\n      <td>Wife</td>\n      <td>Black</td>\n      <td>Female</td>\n      <td>0</td>\n      <td>0</td>\n      <td>40</td>\n      <td>Cuba</td>\n      <td>&lt;=50K</td>\n    </tr>\n    <tr>\n      <th>...</th>\n      <td>...</td>\n      <td>...</td>\n      <td>...</td>\n      <td>...</td>\n      <td>...</td>\n      <td>...</td>\n      <td>...</td>\n      <td>...</td>\n      <td>...</td>\n      <td>...</td>\n      <td>...</td>\n      <td>...</td>\n      <td>...</td>\n      <td>...</td>\n      <td>...</td>\n    </tr>\n    <tr>\n      <th>48837</th>\n      <td>39</td>\n      <td>Private</td>\n      <td>215419</td>\n      <td>Bachelors</td>\n      <td>13</td>\n      <td>Divorced</td>\n      <td>Prof-specialty</td>\n      <td>Not-in-family</td>\n      <td>White</td>\n      <td>Female</td>\n      <td>0</td>\n      <td>0</td>\n      <td>36</td>\n      <td>United-States</td>\n      <td>&lt;=50K</td>\n    </tr>\n    <tr>\n      <th>48838</th>\n      <td>64</td>\n      <td>NaN</td>\n      <td>321403</td>\n      <td>HS-grad</td>\n      <td>9</td>\n      <td>Widowed</td>\n      <td>NaN</td>\n      <td>Other-relative</td>\n      <td>Black</td>\n      <td>Male</td>\n      <td>0</td>\n      <td>0</td>\n      <td>40</td>\n      <td>United-States</td>\n      <td>&lt;=50K</td>\n    </tr>\n    <tr>\n      <th>48839</th>\n      <td>38</td>\n      <td>Private</td>\n      <td>374983</td>\n      <td>Bachelors</td>\n      <td>13</td>\n      <td>Married-civ-spouse</td>\n      <td>Prof-specialty</td>\n      <td>Husband</td>\n      <td>White</td>\n      <td>Male</td>\n      <td>0</td>\n      <td>0</td>\n      <td>50</td>\n      <td>United-States</td>\n      <td>&lt;=50K</td>\n    </tr>\n    <tr>\n      <th>48840</th>\n      <td>44</td>\n      <td>Private</td>\n      <td>83891</td>\n      <td>Bachelors</td>\n      <td>13</td>\n      <td>Divorced</td>\n      <td>Adm-clerical</td>\n      <td>Own-child</td>\n      <td>Asian-Pac-Islander</td>\n      <td>Male</td>\n      <td>5455</td>\n      <td>0</td>\n      <td>40</td>\n      <td>United-States</td>\n      <td>&lt;=50K</td>\n    </tr>\n    <tr>\n      <th>48841</th>\n      <td>35</td>\n      <td>Self-emp-inc</td>\n      <td>182148</td>\n      <td>Bachelors</td>\n      <td>13</td>\n      <td>Married-civ-spouse</td>\n      <td>Exec-managerial</td>\n      <td>Husband</td>\n      <td>White</td>\n      <td>Male</td>\n      <td>0</td>\n      <td>0</td>\n      <td>60</td>\n      <td>United-States</td>\n      <td>&gt;50K</td>\n    </tr>\n  </tbody>\n</table>\n<p>48842 rows × 15 columns</p>\n</div>"
     },
     "execution_count": 85,
     "metadata": {},
     "output_type": "execute_result"
    }
   ],
   "source": [
    "data.replace('?', np.nan).dropna(how='any')"
   ],
   "metadata": {
    "collapsed": false,
    "pycharm": {
     "name": "#%%\n"
    }
   }
  },
  {
   "cell_type": "code",
   "execution_count": 87,
   "metadata": {
    "pycharm": {
     "name": "#%%\n"
    }
   },
   "outputs": [
    {
     "name": "stdout",
     "output_type": "stream",
     "text": [
      "Оценка модели LogisticRegression на тестовых данных:\n",
      "Accuracy: 0.8472\n",
      "F1_score: 0.6605\n",
      "\n",
      "Оценка модели SVC на тестовых данных:\n",
      "Accuracy: 0.8356\n",
      "F1_score: 0.6262\n",
      "\n",
      "Оценка модели LinearSVC на тестовых данных:\n",
      "Accuracy: 0.8486\n",
      "F1_score: 0.6618\n",
      "\n"
     ]
    }
   ],
   "source": [
    "numeric_transformer = Pipeline(steps=[('scaler', MinMaxScaler())])\n",
    "categorical_transformer = Pipeline(steps=[('OHE', OneHotEncoder(handle_unknown='ignore'))])\n",
    "\n",
    "preprocessor = ColumnTransformer(\n",
    "    transformers=[\n",
    "        ('num', numeric_transformer, numeric_cols),\n",
    "        ('cat', categorical_transformer, categorical_cols)\n",
    "    ]\n",
    ")\n",
    "\n",
    "# удалим строки с хотя бы одним значением '?' в одном из признаков\n",
    "X_removed, y_removed = data.replace('?', np.nan).dropna(how='any') \\\n",
    "                           .drop(columns='income', axis=1), data.replace('?', np.nan).dropna(how='any')[['income']]\n",
    "y_removed['income'] = y_removed['income'].apply(lambda x: 0 if x == '<=50K' else 1)\n",
    "\n",
    "\n",
    "models = [LogisticRegression(), SVC(), LinearSVC()]\n",
    "cv = KFold(n_splits=5, shuffle=True)\n",
    "\n",
    "for model, model_name in zip(models, ['LogisticRegression', 'SVC', 'LinearSVC']):\n",
    "    # используем прошлый pipeline из п.14\n",
    "    pipe = Pipeline([('transformer', preprocessor), ('classifier', model)])\n",
    "    cv_model = cross_validate(pipe, X_removed, y_removed, cv=cv, scoring=['accuracy', 'f1'])\n",
    "    score_acc, score_f1 = cv_model['test_accuracy'].mean(), cv_model['test_f1'].mean()\n",
    "    print(f'Оценка модели {model_name} на тестовых данных:')\n",
    "    print(f'Accuracy: {score_acc:.4f}\\nF1_score: {score_f1:.4f}\\n')"
   ]
  },
  {
   "cell_type": "markdown",
   "source": [
    "После удаления элементов с '?' в качестве признака, метрика f1 немного повысилась."
   ],
   "metadata": {
    "collapsed": false,
    "pycharm": {
     "name": "#%% md\n"
    }
   }
  },
  {
   "cell_type": "markdown",
   "metadata": {
    "pycharm": {
     "name": "#%% md\n"
    }
   },
   "source": [
    " 17. Посчитайте cross_val_score для RandomForestClassifier,GradientBoostingClassifier. Напишите как изменился результат и какой вывод можно из этого сделать."
   ]
  },
  {
   "cell_type": "code",
   "execution_count": 89,
   "metadata": {
    "pycharm": {
     "name": "#%%\n"
    }
   },
   "outputs": [
    {
     "name": "stdout",
     "output_type": "stream",
     "text": [
      "Оценка модели RandomForestClassifier на тестовых данных:\n",
      "Accuracy: 0.8537\n",
      "F1_score: 0.6703\n",
      "\n",
      "Оценка модели GradientBoostingClassifier на тестовых данных:\n",
      "Accuracy: 0.8677\n",
      "F1_score: 0.6860\n",
      "\n"
     ]
    }
   ],
   "source": [
    "from sklearn.ensemble import RandomForestClassifier, GradientBoostingClassifier\n",
    "\n",
    "models = [RandomForestClassifier(), GradientBoostingClassifier()]\n",
    "cv = KFold(n_splits=5, shuffle=True)\n",
    "\n",
    "for model, model_name in zip(models, ['RandomForestClassifier', 'GradientBoostingClassifier']):\n",
    "    # используем прошлый pipeline из п.14\n",
    "    pipe = Pipeline([('transformer', preprocessor), ('classifier', model)])\n",
    "    cv_model = cross_validate(pipe, X, y, cv=cv, scoring=['accuracy', 'f1'])\n",
    "    score_acc, score_f1 = cv_model['test_accuracy'].mean(), cv_model['test_f1'].mean()\n",
    "    print(f'Оценка модели {model_name} на тестовых данных:')\n",
    "    print(f'Accuracy: {score_acc:.4f}\\nF1_score: {score_f1:.4f}\\n')"
   ]
  },
  {
   "cell_type": "markdown",
   "source": [
    "F1_score стал еще больше при применении новых алгоритмов."
   ],
   "metadata": {
    "collapsed": false,
    "pycharm": {
     "name": "#%% md\n"
    }
   }
  },
  {
   "cell_type": "markdown",
   "metadata": {
    "pycharm": {
     "name": "#%% md\n"
    }
   },
   "source": [
    "18. Подберите наилучшую модель, подбирая методы обработки колонок - масштабирование признаков, кодирование признаков и заполнение пропусков. Параметры алгоритмов оставьте по умолчанию. Выведите итоговые параметры и результат accuracy и f1_score."
   ]
  },
  {
   "cell_type": "code",
   "execution_count": 102,
   "outputs": [],
   "source": [
    "from sklearn.preprocessing import OrdinalEncoder\n",
    "\n",
    "numeric_transformer = Pipeline(steps=[('scaler', MinMaxScaler())])\n",
    "categorical_transformer = Pipeline(steps=[('encoder', OneHotEncoder(handle_unknown='ignore'))])\n",
    "\n",
    "preprocessor = ColumnTransformer(\n",
    "    transformers=[\n",
    "        ('num', numeric_transformer, numeric_cols),\n",
    "        ('cat', categorical_transformer, categorical_cols)\n",
    "    ]\n",
    ")\n",
    "\n",
    "result_pipe = Pipeline([('transforms', preprocessor), ('model', LogisticRegression())])\n",
    "\n",
    "params_grid = {\n",
    "    'transforms__num__scaler': [MinMaxScaler(), StandardScaler()],\n",
    "    'transforms__cat__encoder': [OrdinalEncoder(handle_unknown='use_encoded_value', unknown_value=-1),\n",
    "                                OneHotEncoder(handle_unknown='ignore')],\n",
    "    'model': [LogisticRegression(), RandomForestClassifier(), LinearSVC(), GradientBoostingClassifier()]\n",
    "}\n",
    "\n",
    "cv = KFold(n_splits=5, shuffle=True)\n",
    "\n",
    "# для нашей задачи метрика accuracy не очень информативна, необходимо максимизировать метрику f1.\n",
    "grd = GridSearchCV(result_pipe,\n",
    "                   param_grid=params_grid,\n",
    "                   cv=cv,\n",
    "                   scoring='f1')\n",
    "grd.fit(X, y);"
   ],
   "metadata": {
    "collapsed": false,
    "pycharm": {
     "name": "#%%\n"
    }
   }
  },
  {
   "cell_type": "code",
   "execution_count": 103,
   "outputs": [
    {
     "name": "stdout",
     "output_type": "stream",
     "text": [
      "Лучшая модель и её параметры:\n",
      "{'model': GradientBoostingClassifier(), 'transforms__cat__encoder': OneHotEncoder(handle_unknown='ignore'), 'transforms__num__scaler': MinMaxScaler()}\n",
      "Значение F1 на CV=5: 0.6856\n"
     ]
    }
   ],
   "source": [
    "print(f'Лучшая модель и её параметры:\\n{grd.best_params_}\\nЗначение F1 на CV=5: {grd.best_score_:.4f}')"
   ],
   "metadata": {
    "collapsed": false,
    "pycharm": {
     "name": "#%%\n"
    }
   }
  },
  {
   "cell_type": "code",
   "execution_count": null,
   "outputs": [],
   "source": [],
   "metadata": {
    "collapsed": false,
    "pycharm": {
     "name": "#%%\n"
    }
   }
  }
 ],
 "metadata": {
  "kernelspec": {
   "name": "python3",
   "language": "python",
   "display_name": "Python 3 (ipykernel)"
  },
  "language_info": {
   "codemirror_mode": {
    "name": "ipython",
    "version": 3
   },
   "file_extension": ".py",
   "mimetype": "text/x-python",
   "name": "python",
   "nbconvert_exporter": "python",
   "pygments_lexer": "ipython3",
   "version": "3.7.6"
  }
 },
 "nbformat": 4,
 "nbformat_minor": 2
}