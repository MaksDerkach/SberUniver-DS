{
 "cells": [
  {
   "cell_type": "code",
   "execution_count": 1,
   "outputs": [],
   "source": [
    "import pandas as pd\n",
    "import numpy as np"
   ],
   "metadata": {
    "collapsed": false,
    "pycharm": {
     "name": "#%%\n"
    }
   }
  },
  {
   "cell_type": "markdown",
   "source": [
    "# Задача 1"
   ],
   "metadata": {
    "collapsed": false,
    "pycharm": {
     "name": "#%% md\n"
    }
   }
  },
  {
   "cell_type": "code",
   "execution_count": 5,
   "outputs": [
    {
     "data": {
      "text/plain": "                                      Единица измерений  Результат анализа  \\\nПоказатель                                                                   \npH                                           единицы pH                8.4   \nЗапах                                             баллы                  1   \nЦветность                                       градусы            б/цвета   \nЖёсткость                                   мг-эквл/дм3  9.199999999999999   \nАммиак и аммоний-ион (по азоту)                  мг/дм3               0.42   \nНитриты (по NO2)                                 мг/дм3              0.017   \nНитраты (по NO3)                                 мг/дм3                 24   \nФосфаты (P)                                      мг/дм3               0.36   \nХлориды (Cl)                                     мг/дм3                200   \nСульфаты (SO4)                                   мг/дм3              189.5   \nЖелезо (включая хлорное железо) по Fe            мг/дм3              0.019   \nНефть                                            мг/дм3               0.55   \nОбщая минерализация (сухой остаток)              мг/дм3                590   \nОкисляемость перманганатная                      мг/дм3                  2   \n\n                                              Норматив  is_norm  \nПоказатель                                                       \npH                                      в пределах 6-9     True  \nЗапах                                     не более 2-3     True  \nЦветность                                  не более 30     True  \nЖёсткость                              в пределах 7-10     True  \nАммиак и аммоний-ион (по азоту)           не более 1,5     True  \nНитриты (по NO2)                          не более 3,3     True  \nНитраты (по NO3)                           не более 45     True  \nФосфаты (P)                               не более 3,5     True  \nХлориды (Cl)                              не более 350     True  \nСульфаты (SO4)                            не более 500     True  \nЖелезо (включая хлорное железо) по Fe     не более 0,3     True  \nНефть                                     не более 0,3    False  \nОбщая минерализация (сухой остаток)      не более 1000     True  \nОкисляемость перманганатная               не более 0,5    False  ",
      "text/html": "<div>\n<style scoped>\n    .dataframe tbody tr th:only-of-type {\n        vertical-align: middle;\n    }\n\n    .dataframe tbody tr th {\n        vertical-align: top;\n    }\n\n    .dataframe thead th {\n        text-align: right;\n    }\n</style>\n<table border=\"1\" class=\"dataframe\">\n  <thead>\n    <tr style=\"text-align: right;\">\n      <th></th>\n      <th>Единица измерений</th>\n      <th>Результат анализа</th>\n      <th>Норматив</th>\n      <th>is_norm</th>\n    </tr>\n    <tr>\n      <th>Показатель</th>\n      <th></th>\n      <th></th>\n      <th></th>\n      <th></th>\n    </tr>\n  </thead>\n  <tbody>\n    <tr>\n      <th>pH</th>\n      <td>единицы pH</td>\n      <td>8.4</td>\n      <td>в пределах 6-9</td>\n      <td>True</td>\n    </tr>\n    <tr>\n      <th>Запах</th>\n      <td>баллы</td>\n      <td>1</td>\n      <td>не более 2-3</td>\n      <td>True</td>\n    </tr>\n    <tr>\n      <th>Цветность</th>\n      <td>градусы</td>\n      <td>б/цвета</td>\n      <td>не более 30</td>\n      <td>True</td>\n    </tr>\n    <tr>\n      <th>Жёсткость</th>\n      <td>мг-эквл/дм3</td>\n      <td>9.199999999999999</td>\n      <td>в пределах 7-10</td>\n      <td>True</td>\n    </tr>\n    <tr>\n      <th>Аммиак и аммоний-ион (по азоту)</th>\n      <td>мг/дм3</td>\n      <td>0.42</td>\n      <td>не более 1,5</td>\n      <td>True</td>\n    </tr>\n    <tr>\n      <th>Нитриты (по NO2)</th>\n      <td>мг/дм3</td>\n      <td>0.017</td>\n      <td>не более 3,3</td>\n      <td>True</td>\n    </tr>\n    <tr>\n      <th>Нитраты (по NO3)</th>\n      <td>мг/дм3</td>\n      <td>24</td>\n      <td>не более 45</td>\n      <td>True</td>\n    </tr>\n    <tr>\n      <th>Фосфаты (P)</th>\n      <td>мг/дм3</td>\n      <td>0.36</td>\n      <td>не более 3,5</td>\n      <td>True</td>\n    </tr>\n    <tr>\n      <th>Хлориды (Cl)</th>\n      <td>мг/дм3</td>\n      <td>200</td>\n      <td>не более 350</td>\n      <td>True</td>\n    </tr>\n    <tr>\n      <th>Сульфаты (SO4)</th>\n      <td>мг/дм3</td>\n      <td>189.5</td>\n      <td>не более 500</td>\n      <td>True</td>\n    </tr>\n    <tr>\n      <th>Железо (включая хлорное железо) по Fe</th>\n      <td>мг/дм3</td>\n      <td>0.019</td>\n      <td>не более 0,3</td>\n      <td>True</td>\n    </tr>\n    <tr>\n      <th>Нефть</th>\n      <td>мг/дм3</td>\n      <td>0.55</td>\n      <td>не более 0,3</td>\n      <td>False</td>\n    </tr>\n    <tr>\n      <th>Общая минерализация (сухой остаток)</th>\n      <td>мг/дм3</td>\n      <td>590</td>\n      <td>не более 1000</td>\n      <td>True</td>\n    </tr>\n    <tr>\n      <th>Окисляемость перманганатная</th>\n      <td>мг/дм3</td>\n      <td>2</td>\n      <td>не более 0,5</td>\n      <td>False</td>\n    </tr>\n  </tbody>\n</table>\n</div>"
     },
     "execution_count": 5,
     "metadata": {},
     "output_type": "execute_result"
    }
   ],
   "source": [
    "df = pd.read_csv('data-rodnik-neskuchniy-sad.csv') # загрузка данных\n",
    "df.index = df['Показатель'] # сделаем колонку \"Показатель\" индексом таблицы\n",
    "df.drop(axis=1, columns='Показатель', inplace=True)\n",
    "\n",
    "def is_normal(x):\n",
    "    if x['Результат анализа'] == 'б/цвета':\n",
    "        return True\n",
    "    elif 'в пределах' in x['Норматив']:\n",
    "        try:\n",
    "            left, right = ''.join([symb for symb in x['Норматив'] if not symb.isalpha()]).split('-')\n",
    "            return float(left.replace(',', '.')) <= float(x['Результат анализа']) <= float(right.replace(',', '.'))\n",
    "        except ValueError:\n",
    "            return False\n",
    "    elif 'не более' in x['Норматив']:\n",
    "        try:\n",
    "            if '-' in x['Норматив']:\n",
    "                normal = float(x['Норматив'].split('-')[1].replace(',', '.'))\n",
    "                curr_value = float(x['Результат анализа'])\n",
    "                return curr_value <= normal\n",
    "\n",
    "            right = ''.join([symb for symb in x['Норматив'] if not symb.isalpha()])\n",
    "            return float(x['Результат анализа']) <= float(right.replace(',', '.'))\n",
    "        except ValueError:\n",
    "            return False\n",
    "    return False\n",
    "\n",
    "df['is_norm'] = df.apply(is_normal, axis=1)\n",
    "df"
   ],
   "metadata": {
    "collapsed": false,
    "pycharm": {
     "name": "#%%\n"
    }
   }
  },
  {
   "cell_type": "markdown",
   "source": [
    "# Задача 2\n",
    "В ящике 5 апельсинов и 4 яблока. Наудачу выбираются 3 фрукта. Какова вероятность, что все три фрукта – апельсины?\n",
    "В интернете полученный аналитически ответ 0.119. Подтверждается ли он эксперементально?"
   ],
   "metadata": {
    "collapsed": false,
    "pycharm": {
     "name": "#%% md\n"
    }
   }
  },
  {
   "cell_type": "markdown",
   "source": [
    "Для начала получим аналитическое решение:\n",
    "Нам необходимо найти вероятность того, что 3 вытянутых фрукта окажутся апельсинами. Используем формулу всех элементарных событий $Р = \\frac{А}{N}$.\n",
    "N - всевозможные выборки 3-х фруктов из 9. Количество таких возможных вариантов можно посчитать по формуле сочетаний (ведь на месте первого фрукта может быть любой из 9, на месте второго фрукта - любой из оставшихся 8 и тд, при этом порядок не важен): $C_9^3=\\frac{9!}{3!*6!}=84$.\n",
    "А - такие выборки фруктов, что в них апельсинов 3 штуки и ни одного яблока. Значит такую комбинацию можно посчитать перемножив два события: (3 апельсина из 5) * (0 яблок из 4). $А=C_5^3*С_4^0=\\frac{5!}{3!*2!}*\\frac{4!}{0!*4!}=10$. Тогда $Р = \\frac{А}{N}=\\frac{10}{84}=0,119$."
   ],
   "metadata": {
    "collapsed": false,
    "pycharm": {
     "name": "#%% md\n"
    }
   }
  },
  {
   "cell_type": "code",
   "execution_count": 6,
   "outputs": [
    {
     "name": "stdout",
     "output_type": "stream",
     "text": [
      "Полученная выроятность: 0.118\n",
      "Теоретическая вероятность: 0,119\n"
     ]
    }
   ],
   "source": [
    "# найдём решение алгоритмически\n",
    "n = 100000 # число испытаний\n",
    "fruits = ['apple'] * 4 + ['orange'] * 5 # все фрукты\n",
    "\n",
    "# проводя n испытаний будем вытягивать 3 случайных фрукта и\n",
    "# подсчитывать, когда все фрукты апельсины\n",
    "cnt_all_orange = 0\n",
    "for _ in range(n):\n",
    "    combination = np.random.choice(fruits, size=3, replace=False)\n",
    "    if set(combination) == {'orange'}: cnt_all_orange += 1\n",
    "\n",
    "print(f'Полученная выроятность: {(cnt_all_orange / n):.3f}\\nТеоретическая вероятность: 0,119')"
   ],
   "metadata": {
    "collapsed": false,
    "pycharm": {
     "name": "#%%\n"
    }
   }
  },
  {
   "cell_type": "markdown",
   "source": [
    "Вероятности совпали!"
   ],
   "metadata": {
    "collapsed": false,
    "pycharm": {
     "name": "#%% md\n"
    }
   }
  },
  {
   "cell_type": "markdown",
   "source": [
    "# Задача 3\n",
    "Мастер, имея 10 деталей, из которых 3 – нестандартных, проверяет детали одну за другой, пока ему не попадется стандартная. Какова вероятность, что он проверит ровно две детали?\n",
    "В интернете полученный аналитически ответ 7/30 или 0.23333. Подтверждается ли он эксперементально?"
   ],
   "metadata": {
    "collapsed": false,
    "pycharm": {
     "name": "#%% md\n"
    }
   }
  },
  {
   "cell_type": "markdown",
   "source": [
    "Решим для начала аналитически:\n",
    "Так как детали выбираются по одной до того момента, пока не попадётся стандартная, это означает, что порядок важен. Тогда нам нужно выбрать на первое место 1 из 3 нестандартных деталей, а на второе место уже 1 из 7 стандартных деталей (порядок выбора важен - по сути используем формулу размещений). Следовательно, таких комбинаций, удовлетворяющих условию 7 * 3 = 21. А всего комбинаций различного выбора 2 деталей из 10 (с учётом порядка) 10 * 9 = 90. Тогда $Р = \\frac{А}{N}=\\frac{21}{90}=0,233$."
   ],
   "metadata": {
    "collapsed": false,
    "pycharm": {
     "name": "#%% md\n"
    }
   }
  },
  {
   "cell_type": "code",
   "execution_count": 7,
   "outputs": [
    {
     "name": "stdout",
     "output_type": "stream",
     "text": [
      "Полученная выроятность: 0.233\n",
      "Теоретическая вероятность: 0,233\n"
     ]
    }
   ],
   "source": [
    "# найдём решение алгоритмически\n",
    "n = 200000 # число испытаний\n",
    "details = ['standart'] * 7 + ['not_standart'] * 3 # все детали\n",
    "\n",
    "\n",
    "# в каждом испытании будем выбирать новую деталь, до тех пор пока не встретим стандартную\n",
    "# число проверок будет подсчитываться\n",
    "# фактически нам нужно просто проверить сколько раз встречается комбинация [нестандарт, стандарт]\n",
    "checks_with_second_try = 0\n",
    "\n",
    "for _ in range(n):\n",
    "    combination = np.random.choice(details, size=2, replace=False)\n",
    "    if tuple(combination) == ('not_standart', 'standart'):\n",
    "        checks_with_second_try += 1\n",
    "\n",
    "print(f'Полученная выроятность: {(checks_with_second_try / n):.3f}\\nТеоретическая вероятность: 0,233')"
   ],
   "metadata": {
    "collapsed": false,
    "pycharm": {
     "name": "#%%\n"
    }
   }
  }
 ],
 "metadata": {
  "kernelspec": {
   "display_name": "Python 3",
   "language": "python",
   "name": "python3"
  },
  "language_info": {
   "codemirror_mode": {
    "name": "ipython",
    "version": 2
   },
   "file_extension": ".py",
   "mimetype": "text/x-python",
   "name": "python",
   "nbconvert_exporter": "python",
   "pygments_lexer": "ipython2",
   "version": "2.7.6"
  }
 },
 "nbformat": 4,
 "nbformat_minor": 0
}